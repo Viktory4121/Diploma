{
  "nbformat": 4,
  "nbformat_minor": 0,
  "metadata": {
    "colab": {
      "provenance": [],
      "authorship_tag": "ABX9TyNZJlFHRoUalbtSI3fspPZ8",
      "include_colab_link": true
    },
    "kernelspec": {
      "name": "python3",
      "display_name": "Python 3"
    },
    "language_info": {
      "name": "python"
    }
  },
  "cells": [
    {
      "cell_type": "markdown",
      "metadata": {
        "id": "view-in-github",
        "colab_type": "text"
      },
      "source": [
        "<a href=\"https://colab.research.google.com/github/Viktory4121/diploma/blob/main/predict.ipynb\" target=\"_parent\"><img src=\"https://colab.research.google.com/assets/colab-badge.svg\" alt=\"Open In Colab\"/></a>"
      ]
    },
    {
      "cell_type": "markdown",
      "source": [
        "## Задача прогнозирования"
      ],
      "metadata": {
        "id": "AOPLpjEEiy-I"
      }
    },
    {
      "cell_type": "code",
      "execution_count": null,
      "metadata": {
        "id": "tFK9dRLQiPHb"
      },
      "outputs": [],
      "source": [
        "from google.colab import files\n",
        "import xlrd\n",
        "import pandas as pd\n",
        "import numpy as np\n",
        "%matplotlib inline\n",
        "import matplotlib.pyplot as plt\n",
        "\n",
        "# Сброс ограничений на количество выводимых рядов\n",
        "pd.set_option('display.max_rows', None)\n",
        "# Сброс ограничений на число столбцов\n",
        "pd.set_option('display.max_columns', None)\n",
        "# Сброс ограничений на количество символов в записи\n",
        "pd.set_option('display.max_colwidth', None)"
      ]
    },
    {
      "cell_type": "code",
      "source": [
        "uploaded = files.upload()"
      ],
      "metadata": {
        "id": "aHT2IxYxih5s"
      },
      "execution_count": null,
      "outputs": []
    },
    {
      "cell_type": "code",
      "source": [
        "data = pd.read_excel(uploaded['ConvertedTable.xlsx'])\n",
        "#womenData = data[data['Пол'] == 1].copy()\n",
        "#menData = data[data['Пол'] == 0].copy()\n",
        "#questions = data[data.columns[4:]]\n",
        "data"
      ],
      "metadata": {
        "id": "kNfFU6x_ij0f"
      },
      "execution_count": null,
      "outputs": []
    },
    {
      "cell_type": "code",
      "source": [
        "#Номер вопроса - Формулировка\n",
        "\n",
        "#22 Есть трудность в понимании некоторых или всех предметов\n",
        "#32 Нет желания учиться\n",
        "#34 Мучает недосып\n",
        "#35 Не нравится выбранная профессия\n",
        "#37 Очень много нервничаю из-за учебы\n",
        "#38 Нет склонности к выбранной профессии\n",
        "#39 Не вижу смысла в учёбе\n",
        "#40 Моя будущая профессия не перспективна\n",
        "#41 После учебы буду работать в другой сфере\n",
        "#44 Не успеваю сдать долги\n",
        "#45 Не хочу углубляться в учебу\n",
        "#47 Учёба мешает развиваться\n",
        "#48 Не хочу «бежать» за оценками\n",
        "#49 Нет мотивации\n",
        "#50 Получаю образованию только для того, чтобы было\n",
        "\n",
        "#ниже указаны порядковые номера вопросов. для индекса нужно брать (значение - 1)\n",
        "indexQuestions = [22, 32, 34, 35, 37, 38, 39, 40, 41, 44, 45, 47, 48, 49, 50]"
      ],
      "metadata": {
        "id": "VXYxi6gciyb8"
      },
      "execution_count": null,
      "outputs": []
    },
    {
      "cell_type": "code",
      "source": [],
      "metadata": {
        "id": "ldt6m5NIlqFq"
      },
      "execution_count": null,
      "outputs": []
    },
    {
      "cell_type": "markdown",
      "source": [
        "1."
      ],
      "metadata": {
        "id": "csZngbLKm00W"
      }
    },
    {
      "cell_type": "code",
      "source": [],
      "metadata": {
        "id": "iiKt0Myem1zf"
      },
      "execution_count": null,
      "outputs": []
    }
  ]
}