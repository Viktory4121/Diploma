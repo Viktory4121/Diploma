{
  "nbformat": 4,
  "nbformat_minor": 0,
  "metadata": {
    "colab": {
      "provenance": [],
      "authorship_tag": "ABX9TyP4acyjEWnZ00fjETDxMpBW",
      "include_colab_link": true
    },
    "kernelspec": {
      "name": "python3",
      "display_name": "Python 3"
    },
    "language_info": {
      "name": "python"
    }
  },
  "cells": [
    {
      "cell_type": "markdown",
      "metadata": {
        "id": "view-in-github",
        "colab_type": "text"
      },
      "source": [
        "<a href=\"https://colab.research.google.com/github/Viktory4121/diploma/blob/main/predict.ipynb\" target=\"_parent\"><img src=\"https://colab.research.google.com/assets/colab-badge.svg\" alt=\"Open In Colab\"/></a>"
      ]
    },
    {
      "cell_type": "code",
      "execution_count": 14,
      "metadata": {
        "id": "tFK9dRLQiPHb"
      },
      "outputs": [],
      "source": [
        "from google.colab import files\n",
        "import xlrd\n",
        "import pandas as pd\n",
        "import numpy as np\n",
        "%matplotlib inline\n",
        "import matplotlib.pyplot as plt\n",
        "\n",
        "#import modules\n",
        "from sklearn.linear_model import LinearRegression\n",
        "from sklearn.model_selection import train_test_split\n",
        "from sklearn.metrics import mean_absolute_error, mean_squared_error, median_absolute_error, r2_score\n",
        "#from sklearn import metrics\n",
        "\n",
        "\n",
        "# Сброс ограничений на количество выводимых рядов\n",
        "pd.set_option('display.max_rows', None)\n",
        "# Сброс ограничений на число столбцов\n",
        "pd.set_option('display.max_columns', None)\n",
        "# Сброс ограничений на количество символов в записи\n",
        "pd.set_option('display.max_colwidth', None)"
      ]
    },
    {
      "cell_type": "code",
      "source": [
        "uploaded = files.upload()"
      ],
      "metadata": {
        "id": "aHT2IxYxih5s",
        "colab": {
          "base_uri": "https://localhost:8080/",
          "height": 73
        },
        "outputId": "9ba9346b-9b47-4349-e9ed-3f651c9aa325"
      },
      "execution_count": null,
      "outputs": [
        {
          "output_type": "display_data",
          "data": {
            "text/plain": [
              "<IPython.core.display.HTML object>"
            ],
            "text/html": [
              "\n",
              "     <input type=\"file\" id=\"files-9b8071ce-1748-4ede-8083-da2b5d146ef9\" name=\"files[]\" multiple disabled\n",
              "        style=\"border:none\" />\n",
              "     <output id=\"result-9b8071ce-1748-4ede-8083-da2b5d146ef9\">\n",
              "      Upload widget is only available when the cell has been executed in the\n",
              "      current browser session. Please rerun this cell to enable.\n",
              "      </output>\n",
              "      <script>// Copyright 2017 Google LLC\n",
              "//\n",
              "// Licensed under the Apache License, Version 2.0 (the \"License\");\n",
              "// you may not use this file except in compliance with the License.\n",
              "// You may obtain a copy of the License at\n",
              "//\n",
              "//      http://www.apache.org/licenses/LICENSE-2.0\n",
              "//\n",
              "// Unless required by applicable law or agreed to in writing, software\n",
              "// distributed under the License is distributed on an \"AS IS\" BASIS,\n",
              "// WITHOUT WARRANTIES OR CONDITIONS OF ANY KIND, either express or implied.\n",
              "// See the License for the specific language governing permissions and\n",
              "// limitations under the License.\n",
              "\n",
              "/**\n",
              " * @fileoverview Helpers for google.colab Python module.\n",
              " */\n",
              "(function(scope) {\n",
              "function span(text, styleAttributes = {}) {\n",
              "  const element = document.createElement('span');\n",
              "  element.textContent = text;\n",
              "  for (const key of Object.keys(styleAttributes)) {\n",
              "    element.style[key] = styleAttributes[key];\n",
              "  }\n",
              "  return element;\n",
              "}\n",
              "\n",
              "// Max number of bytes which will be uploaded at a time.\n",
              "const MAX_PAYLOAD_SIZE = 100 * 1024;\n",
              "\n",
              "function _uploadFiles(inputId, outputId) {\n",
              "  const steps = uploadFilesStep(inputId, outputId);\n",
              "  const outputElement = document.getElementById(outputId);\n",
              "  // Cache steps on the outputElement to make it available for the next call\n",
              "  // to uploadFilesContinue from Python.\n",
              "  outputElement.steps = steps;\n",
              "\n",
              "  return _uploadFilesContinue(outputId);\n",
              "}\n",
              "\n",
              "// This is roughly an async generator (not supported in the browser yet),\n",
              "// where there are multiple asynchronous steps and the Python side is going\n",
              "// to poll for completion of each step.\n",
              "// This uses a Promise to block the python side on completion of each step,\n",
              "// then passes the result of the previous step as the input to the next step.\n",
              "function _uploadFilesContinue(outputId) {\n",
              "  const outputElement = document.getElementById(outputId);\n",
              "  const steps = outputElement.steps;\n",
              "\n",
              "  const next = steps.next(outputElement.lastPromiseValue);\n",
              "  return Promise.resolve(next.value.promise).then((value) => {\n",
              "    // Cache the last promise value to make it available to the next\n",
              "    // step of the generator.\n",
              "    outputElement.lastPromiseValue = value;\n",
              "    return next.value.response;\n",
              "  });\n",
              "}\n",
              "\n",
              "/**\n",
              " * Generator function which is called between each async step of the upload\n",
              " * process.\n",
              " * @param {string} inputId Element ID of the input file picker element.\n",
              " * @param {string} outputId Element ID of the output display.\n",
              " * @return {!Iterable<!Object>} Iterable of next steps.\n",
              " */\n",
              "function* uploadFilesStep(inputId, outputId) {\n",
              "  const inputElement = document.getElementById(inputId);\n",
              "  inputElement.disabled = false;\n",
              "\n",
              "  const outputElement = document.getElementById(outputId);\n",
              "  outputElement.innerHTML = '';\n",
              "\n",
              "  const pickedPromise = new Promise((resolve) => {\n",
              "    inputElement.addEventListener('change', (e) => {\n",
              "      resolve(e.target.files);\n",
              "    });\n",
              "  });\n",
              "\n",
              "  const cancel = document.createElement('button');\n",
              "  inputElement.parentElement.appendChild(cancel);\n",
              "  cancel.textContent = 'Cancel upload';\n",
              "  const cancelPromise = new Promise((resolve) => {\n",
              "    cancel.onclick = () => {\n",
              "      resolve(null);\n",
              "    };\n",
              "  });\n",
              "\n",
              "  // Wait for the user to pick the files.\n",
              "  const files = yield {\n",
              "    promise: Promise.race([pickedPromise, cancelPromise]),\n",
              "    response: {\n",
              "      action: 'starting',\n",
              "    }\n",
              "  };\n",
              "\n",
              "  cancel.remove();\n",
              "\n",
              "  // Disable the input element since further picks are not allowed.\n",
              "  inputElement.disabled = true;\n",
              "\n",
              "  if (!files) {\n",
              "    return {\n",
              "      response: {\n",
              "        action: 'complete',\n",
              "      }\n",
              "    };\n",
              "  }\n",
              "\n",
              "  for (const file of files) {\n",
              "    const li = document.createElement('li');\n",
              "    li.append(span(file.name, {fontWeight: 'bold'}));\n",
              "    li.append(span(\n",
              "        `(${file.type || 'n/a'}) - ${file.size} bytes, ` +\n",
              "        `last modified: ${\n",
              "            file.lastModifiedDate ? file.lastModifiedDate.toLocaleDateString() :\n",
              "                                    'n/a'} - `));\n",
              "    const percent = span('0% done');\n",
              "    li.appendChild(percent);\n",
              "\n",
              "    outputElement.appendChild(li);\n",
              "\n",
              "    const fileDataPromise = new Promise((resolve) => {\n",
              "      const reader = new FileReader();\n",
              "      reader.onload = (e) => {\n",
              "        resolve(e.target.result);\n",
              "      };\n",
              "      reader.readAsArrayBuffer(file);\n",
              "    });\n",
              "    // Wait for the data to be ready.\n",
              "    let fileData = yield {\n",
              "      promise: fileDataPromise,\n",
              "      response: {\n",
              "        action: 'continue',\n",
              "      }\n",
              "    };\n",
              "\n",
              "    // Use a chunked sending to avoid message size limits. See b/62115660.\n",
              "    let position = 0;\n",
              "    do {\n",
              "      const length = Math.min(fileData.byteLength - position, MAX_PAYLOAD_SIZE);\n",
              "      const chunk = new Uint8Array(fileData, position, length);\n",
              "      position += length;\n",
              "\n",
              "      const base64 = btoa(String.fromCharCode.apply(null, chunk));\n",
              "      yield {\n",
              "        response: {\n",
              "          action: 'append',\n",
              "          file: file.name,\n",
              "          data: base64,\n",
              "        },\n",
              "      };\n",
              "\n",
              "      let percentDone = fileData.byteLength === 0 ?\n",
              "          100 :\n",
              "          Math.round((position / fileData.byteLength) * 100);\n",
              "      percent.textContent = `${percentDone}% done`;\n",
              "\n",
              "    } while (position < fileData.byteLength);\n",
              "  }\n",
              "\n",
              "  // All done.\n",
              "  yield {\n",
              "    response: {\n",
              "      action: 'complete',\n",
              "    }\n",
              "  };\n",
              "}\n",
              "\n",
              "scope.google = scope.google || {};\n",
              "scope.google.colab = scope.google.colab || {};\n",
              "scope.google.colab._files = {\n",
              "  _uploadFiles,\n",
              "  _uploadFilesContinue,\n",
              "};\n",
              "})(self);\n",
              "</script> "
            ]
          },
          "metadata": {}
        },
        {
          "output_type": "stream",
          "name": "stdout",
          "text": [
            "Saving ConvertedTable.xlsx to ConvertedTable.xlsx\n"
          ]
        }
      ]
    },
    {
      "cell_type": "code",
      "source": [
        "data = pd.read_excel(uploaded['ConvertedTable.xlsx'])\n",
        "#womenData = data[data['Пол'] == 1].copy()\n",
        "#menData = data[data['Пол'] == 0].copy()\n",
        "questions = data[data.columns[4:]]\n",
        "peoples = questions.T\n",
        "#data\n",
        "#questions\n",
        "#peoples"
      ],
      "metadata": {
        "id": "kNfFU6x_ij0f"
      },
      "execution_count": 17,
      "outputs": []
    },
    {
      "cell_type": "code",
      "source": [
        "#Номер вопроса - Формулировка\n",
        "\n",
        "#22 Есть трудность в понимании некоторых или всех предметов\n",
        "#32 Нет желания учиться\n",
        "#34 Мучает недосып\n",
        "#35 Не нравится выбранная профессия\n",
        "#37 Очень много нервничаю из-за учебы\n",
        "#38 Нет склонности к выбранной профессии\n",
        "#39 Не вижу смысла в учёбе\n",
        "#40 Моя будущая профессия не перспективна\n",
        "#41 После учебы буду работать в другой сфере\n",
        "#44 Не успеваю сдать долги\n",
        "#45 Не хочу углубляться в учебу\n",
        "#47 Учёба мешает развиваться\n",
        "#48 Не хочу «бежать» за оценками\n",
        "#49 Нет мотивации\n",
        "#50 Получаю образованию только для того, чтобы было\n",
        "\n",
        "#ниже указаны порядковые номера вопросов. для индекса нужно брать (значение - 1)\n",
        "#indexQuestions = [22, 32, 34, 35, 37, 38, 39, 40, 41, 44, 45, 47, 48, 49, 50]\n",
        "#numberOfQuections = 0"
      ],
      "metadata": {
        "id": "VXYxi6gciyb8"
      },
      "execution_count": null,
      "outputs": []
    },
    {
      "cell_type": "markdown",
      "source": [
        "#1. Линейная регрессия"
      ],
      "metadata": {
        "id": "csZngbLKm00W"
      }
    },
    {
      "cell_type": "code",
      "source": [
        "#Разделим выборку на обучающую (80%) и тестовую (20%)\n",
        "#x = questions.loc[:, questions.columns != questions.columns[indexQuestions[numberOfQuections] - 1]]\n",
        "#y = questions.iloc[:, (indexQuestions[numberOfQuections] - 1)]\n",
        "#x_train, x_test, y_train, y_test = train_test_split(x, y, test_size=0.2, random_state=0)"
      ],
      "metadata": {
        "id": "iiKt0Myem1zf"
      },
      "execution_count": null,
      "outputs": []
    },
    {
      "cell_type": "code",
      "source": [
        "#linear_reg_model = LinearRegression()\n",
        "#linear_reg_model.fit(x_train, y_train)\n",
        "#linear_reg_model.coef_\n",
        "\n",
        "#print('\\nVariance score: {}'.format(linear_reg_model.score(x_test, y_test)))"
      ],
      "metadata": {
        "id": "dfk8eOQDUHj7"
      },
      "execution_count": null,
      "outputs": []
    },
    {
      "cell_type": "code",
      "source": [
        "#y_test_predict = linear_reg_model.predict(x_test)\n",
        "#print(np.vstack([y_test_predict, y_test]).T)"
      ],
      "metadata": {
        "id": "RRz7uUJMVUEB"
      },
      "execution_count": null,
      "outputs": []
    },
    {
      "cell_type": "code",
      "source": [
        "#linear_reg_model.fit(x_train, y_train)\n",
        "#y_train_pred = linear_reg_model.predict(x_train)\n",
        "#y_test_pred = linear_reg_model.predict(x_test)"
      ],
      "metadata": {
        "id": "UkbjFJ5mVvSb"
      },
      "execution_count": null,
      "outputs": []
    },
    {
      "cell_type": "code",
      "source": [
        "#print('MSE train: {:.3f}, test: {:.3f}'.format(\n",
        "#        mean_squared_error(y_train, y_train_pred),\n",
        "#        mean_squared_error(y_test, y_test_pred)))\n",
        "#print('R^2 train: {:.3f}, test: {:.3f}'.format(\n",
        "#        r2_score(y_train, y_train_pred),\n",
        "#        r2_score(y_test, y_test_pred)))"
      ],
      "metadata": {
        "id": "ZuOHM_FjdXGc"
      },
      "execution_count": null,
      "outputs": []
    },
    {
      "cell_type": "code",
      "source": [
        "# plt.scatter(y_train_pred,  y_train_pred - y_train,\n",
        "#             c='blue', marker='o', label='Training data')\n",
        "# plt.scatter(y_test_pred,  y_test_pred - y_test,\n",
        "#             c='lightgreen', marker='s', label='Test data')\n",
        "# plt.xlabel('Predicted values')\n",
        "# plt.ylabel('Residuals')\n",
        "# plt.legend(loc='upper left')\n",
        "# plt.hlines(y=0, xmin=-10, xmax=50, lw=2, color='red')\n",
        "# plt.xlim([-10, 50])\n",
        "# plt.tight_layout()"
      ],
      "metadata": {
        "id": "E3QO2WOCeX_F"
      },
      "execution_count": null,
      "outputs": []
    },
    {
      "cell_type": "markdown",
      "source": [
        "#КЛАССИФИКАЦИЯ"
      ],
      "metadata": {
        "id": "3CjR2GG3tcxF"
      }
    },
    {
      "cell_type": "markdown",
      "source": [
        "по вопросам:"
      ],
      "metadata": {
        "id": "AmsxoPcR2B-N"
      }
    },
    {
      "cell_type": "code",
      "source": [
        "# #Распределение вопросов на 3 и на 5 групп:\n",
        "# group_num3 = [0] * 52\n",
        "# group_num5 = [0] * 52\n",
        "\n",
        "# #1-17, 22-24 - Учебный процесс и организация работы учебного заведения.\n",
        "# num3_1 = list(range(0,17)) + list(range(21,24))\n",
        "# #[0:17, 21:24]\n",
        "\n",
        "# #18-21, 35, 36, 38, 40, 41, 45-47, 50, 51 - Выбор профессии и актуальность предоставляемой информации.\n",
        "# #[17:21, 34, 35, 37, 39, 40, 44:47, 49, 50]\n",
        "# num3_2 = list(range(17,21)) + [34, 35, 37, 39, 40] + list(range(44,47)) + [49, 50]\n",
        "\n",
        "# #25-34, 37, 39, 42-44, 48, 49, 52 - Внутренние переживания и личностные проблемы\n",
        "# #[24:34, 36, 38, 41:44, 47, 48, 51]\n",
        "# num3_3 = list(range(24,34)) + [36,38] + list(range(41,44)) + [47,48,51]\n",
        "\n",
        "\n",
        "\n",
        "# #1-9 - Организация работы учебного заведения\n",
        "# #[0:9]\n",
        "# num5_1 = list(range(0,9))\n",
        "\n",
        "# #10-17, 22-24 - Преподавательская деятельность\n",
        "# #[9:17, 21:24]\n",
        "# num5_2 = list(range(9,17)) + list(range(21,24))\n",
        "\n",
        "# #18-21,35,36,38,40,41,45-47,50,51 - Профессия\n",
        "# #[17:21,34,35,37,39,40,44:47,49,50]\n",
        "# num5_3 = list(range(17,21)) + [34,35,37,39,40] + list(range(44,47)) + [49,50]\n",
        "\n",
        "# #25-27,29-32,34,37,39,44,48,49,52 - Личность\n",
        "# #[24:27,28:32,33,36,38,43,47,48,51]\n",
        "# num5_4 = list(range(24,27)) + list(range(28,32)) + [33,36,38,43,47,48,51]\n",
        "\n",
        "# #28,33,42,43 - Социальная адаптация\n",
        "# #[27,32,41,42]\n",
        "# num5_5 = [27,32,41,42]\n",
        "\n",
        "\n",
        "\n",
        "# for i in range(len(group_num3)):\n",
        "#   if i in num3_1:\n",
        "#     group_num3[i] = 1\n",
        "#   elif i in num3_2:\n",
        "#     group_num3[i] = 2\n",
        "#   elif i in num3_3:\n",
        "#     group_num3[i] = 3\n",
        "\n",
        "# for i in range(len(group_num5)):\n",
        "#   if i in num5_1:\n",
        "#     group_num5[i] = 1\n",
        "#   elif i in num5_2:\n",
        "#     group_num5[i] = 2\n",
        "#   elif i in num5_3:\n",
        "#     group_num5[i] = 3\n",
        "#   elif i in num5_4:\n",
        "#     group_num5[i] = 4\n",
        "#   elif i in num5_5:\n",
        "#     group_num5[i] = 5"
      ],
      "metadata": {
        "id": "Lp-x1tottgmy"
      },
      "execution_count": null,
      "outputs": []
    },
    {
      "cell_type": "code",
      "source": [
        "#не обязательно эти две строки вставлять в таблицу. Из можно будет при моделировании объявлять Y-ками."
      ],
      "metadata": {
        "id": "u1f01PbW088C"
      },
      "execution_count": null,
      "outputs": []
    },
    {
      "cell_type": "code",
      "source": [
        "#Распределение вопросов на 3 и на 5 групп:\n",
        "# group_num3 = [0] * 52\n",
        "# group_num5 = [0] * 52\n",
        "\n",
        "# num3 = {\n",
        "#     1: list(range(0,17)) + list(range(21,24)),\n",
        "#     2: list(range(17,21)) + [34, 35, 37, 39, 40] + list(range(44,47)) + [49, 50],\n",
        "#     3: list(range(24,34)) + [36,38] + list(range(41,44)) + [47,48,51]\n",
        "# }\n",
        "# num5 = {\n",
        "#     1: list(range(0,9)),\n",
        "#     2: list(range(9,17)) + list(range(21,24)),\n",
        "#     3: list(range(17,21)) + [34,35,37,39,40] + list(range(44,47)) + [49,50],\n",
        "#     4: list(range(24,27)) + list(range(28,32)) + [33,36,38,43,47,48,51],\n",
        "#     5: [27,32,41,42]\n",
        "# }\n",
        "\n",
        "# #num[1], num3[2], num3[3]\n",
        "# #num3[1][0] - var[key][index_list]\n",
        "\n",
        "# for i in range(len(group_num3)):\n",
        "#   for j in range(1,4):\n",
        "#     if i in num3[j]:\n",
        "#       group_num3[i] = j\n",
        "\n",
        "# for i in range(len(group_num5)):\n",
        "#   for j in range(1,6):\n",
        "#     if i in num5[j]:\n",
        "#       group_num5[i] = j"
      ],
      "metadata": {
        "id": "iyKkC6zGXtof"
      },
      "execution_count": null,
      "outputs": []
    },
    {
      "cell_type": "markdown",
      "source": [
        "#Кластеризация"
      ],
      "metadata": {
        "id": "RVrv2jEI2Gx-"
      }
    },
    {
      "cell_type": "code",
      "source": [
        "#НА ВХОД ДОЛЖНА ПОСТУПАТЬ ТРАНСПОНИРОВАННАЯ ТАБЛИЦА С ДАННЫМИ, ЧТОБЫ ДЕЛИЛИСЬ ИМЕННО ЛЮДИ\n",
        "#уточнить, при каком виде таблицы что именно делится\n",
        "#peoples.describe()\n",
        "\n",
        "#это чтобы поделить именно людей на тестовую и на обучающую выборки\n",
        "x_train, x_test = train_test_split(questions, test_size=0.2, random_state=0)\n",
        "X = questions.copy()"
      ],
      "metadata": {
        "id": "8stTAylcaVme"
      },
      "execution_count": 34,
      "outputs": []
    },
    {
      "cell_type": "code",
      "source": [
        "len(x_train), len(x_test)"
      ],
      "metadata": {
        "id": "Ns496pI-HKMD",
        "outputId": "1f2ea5fb-d01c-4b2e-ae3e-c3da7435a4b3",
        "colab": {
          "base_uri": "https://localhost:8080/"
        }
      },
      "execution_count": 35,
      "outputs": [
        {
          "output_type": "execute_result",
          "data": {
            "text/plain": [
              "(84, 22)"
            ]
          },
          "metadata": {},
          "execution_count": 35
        }
      ]
    },
    {
      "cell_type": "code",
      "source": [
        "#Разделим выборку на обучающую (80%) и тестовую (20%)\n",
        "#x = questions.loc[:, peoples.columns != peoples.columns[indexPeoples[numberOfQuections] - 1]]\n",
        "#y = questions.iloc[:, (indexQuestions[numberOfQuections] - 1)]\n",
        "#x_train, x_test, y_train, y_test = train_test_split(x, y, test_size=0.2, random_state=0)"
      ],
      "metadata": {
        "id": "TDW4QTl55oJw"
      },
      "execution_count": null,
      "outputs": []
    },
    {
      "cell_type": "code",
      "source": [
        "#import matplotlib.pyplot as plt\n",
        "#import seaborn as sns; sns.set()\n",
        "#import numpy as np\n",
        "from sklearn.cluster import KMeans\n",
        "\n",
        "kmeans = KMeans(n_clusters = 4)\n",
        "kmeans.fit(X)\n",
        "y_kmeans = kmeans.predict(X)\n",
        "y_kmeans"
      ],
      "metadata": {
        "id": "ss8hF7SFZkpL",
        "outputId": "ee4af6e9-51d0-4ff2-bd0e-ec655120f7fc",
        "colab": {
          "base_uri": "https://localhost:8080/"
        }
      },
      "execution_count": 37,
      "outputs": [
        {
          "output_type": "stream",
          "name": "stderr",
          "text": [
            "/usr/local/lib/python3.10/dist-packages/sklearn/cluster/_kmeans.py:870: FutureWarning: The default value of `n_init` will change from 10 to 'auto' in 1.4. Set the value of `n_init` explicitly to suppress the warning\n",
            "  warnings.warn(\n"
          ]
        },
        {
          "output_type": "execute_result",
          "data": {
            "text/plain": [
              "array([1, 2, 3, 2, 3, 3, 3, 1, 3, 0, 0, 3, 2, 3, 1, 0, 0, 2, 1, 1, 2, 2,\n",
              "       1, 0, 3, 1, 1, 2, 3, 2, 3, 1, 1, 3, 2, 1, 2, 2, 3, 1, 3, 1, 3, 1,\n",
              "       3, 0, 3, 2, 3, 2, 1, 0, 3, 0, 3, 1, 0, 2, 2, 0, 3, 0, 0, 3, 0, 1,\n",
              "       3, 3, 3, 3, 1, 2, 1, 2, 0, 2, 0, 0, 1, 2, 0, 1, 2, 2, 0, 3, 3, 3,\n",
              "       2, 0, 0, 0, 0, 2, 3, 1, 3, 0, 0, 0, 0, 0, 0, 0, 0, 0], dtype=int32)"
            ]
          },
          "metadata": {},
          "execution_count": 37
        }
      ]
    },
    {
      "cell_type": "code",
      "source": [
        "#import numpy as np\n",
        "from sklearn.cluster import MeanShift\n",
        "#import matplotlib.pyplot as plt\n",
        "#from matplotlib import style\n",
        "#style.use(\"ggplot\")\n",
        "\n",
        "ms = MeanShift()\n",
        "ms.fit(X)\n",
        "labels = ms.labels_\n",
        "cluster_centers = ms.cluster_centers_\n",
        "labels"
      ],
      "metadata": {
        "id": "z5PUzwbCaIQC",
        "outputId": "3c945e9c-2f29-4b8e-a4d9-cd5c496fb4fe",
        "colab": {
          "base_uri": "https://localhost:8080/"
        }
      },
      "execution_count": 44,
      "outputs": [
        {
          "output_type": "execute_result",
          "data": {
            "text/plain": [
              "array([1, 0, 0, 0, 0, 0, 0, 1, 0, 0, 0, 0, 0, 0, 1, 0, 0, 0, 4, 0, 0, 0,\n",
              "       1, 0, 0, 1, 0, 0, 0, 0, 5, 4, 0, 0, 0, 0, 0, 0, 0, 0, 0, 0, 0, 0,\n",
              "       0, 0, 0, 0, 0, 0, 0, 0, 0, 0, 0, 0, 0, 0, 0, 0, 0, 0, 0, 0, 0, 0,\n",
              "       0, 0, 0, 0, 4, 0, 4, 0, 0, 0, 0, 0, 0, 0, 0, 0, 0, 0, 0, 3, 0, 0,\n",
              "       0, 0, 0, 0, 0, 0, 0, 0, 2, 0, 0, 0, 0, 0, 0, 0, 0, 0])"
            ]
          },
          "metadata": {},
          "execution_count": 44
        }
      ]
    }
  ]
}