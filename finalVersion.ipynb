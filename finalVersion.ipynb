{
  "nbformat": 4,
  "nbformat_minor": 0,
  "metadata": {
    "colab": {
      "provenance": [],
      "include_colab_link": true
    },
    "kernelspec": {
      "name": "python3",
      "display_name": "Python 3"
    },
    "language_info": {
      "name": "python"
    }
  },
  "cells": [
    {
      "cell_type": "markdown",
      "metadata": {
        "id": "view-in-github",
        "colab_type": "text"
      },
      "source": [
        "<a href=\"https://colab.research.google.com/github/Viktory4121/diploma/blob/main/finalVersion.ipynb\" target=\"_parent\"><img src=\"https://colab.research.google.com/assets/colab-badge.svg\" alt=\"Open In Colab\"/></a>"
      ]
    },
    {
      "cell_type": "code",
      "execution_count": 54,
      "metadata": {
        "id": "1PCNvd9tlfdM"
      },
      "outputs": [],
      "source": [
        "from google.colab import files\n",
        "#import xlrd\n",
        "import pandas as pd\n",
        "import numpy as np\n",
        "import statistics as stat\n",
        "#%matplotlib inline\n",
        "#import matplotlib.pyplot as plt\n",
        "from sklearn.cluster import KMeans\n",
        "\n",
        "#import modules\n",
        "#from sklearn.linear_model import LinearRegression\n",
        "from sklearn.model_selection import train_test_split\n",
        "from sklearn.svm import SVC\n",
        "from sklearn.metrics import mean_absolute_error, mean_squared_error, median_absolute_error, r2_score\n",
        "from sklearn.metrics import classification_report\n",
        "#from sklearn import metrics\n",
        "\n",
        "\n",
        "# Сброс ограничений на количество выводимых рядов\n",
        "pd.set_option('display.max_rows', None)\n",
        "# Сброс ограничений на число столбцов\n",
        "pd.set_option('display.max_columns', None)\n",
        "# Сброс ограничений на количество символов в записи\n",
        "pd.set_option('display.max_colwidth', None)"
      ]
    },
    {
      "cell_type": "code",
      "source": [
        "uploaded = files.upload()"
      ],
      "metadata": {
        "id": "eq0Cc3K6lyfO",
        "outputId": "9f2ee888-fb22-4e1e-ba31-1cfa224bd900",
        "colab": {
          "base_uri": "https://localhost:8080/",
          "height": 73
        }
      },
      "execution_count": 2,
      "outputs": [
        {
          "output_type": "display_data",
          "data": {
            "text/plain": [
              "<IPython.core.display.HTML object>"
            ],
            "text/html": [
              "\n",
              "     <input type=\"file\" id=\"files-2f4035de-5cf9-47ad-a245-59ae19437622\" name=\"files[]\" multiple disabled\n",
              "        style=\"border:none\" />\n",
              "     <output id=\"result-2f4035de-5cf9-47ad-a245-59ae19437622\">\n",
              "      Upload widget is only available when the cell has been executed in the\n",
              "      current browser session. Please rerun this cell to enable.\n",
              "      </output>\n",
              "      <script>// Copyright 2017 Google LLC\n",
              "//\n",
              "// Licensed under the Apache License, Version 2.0 (the \"License\");\n",
              "// you may not use this file except in compliance with the License.\n",
              "// You may obtain a copy of the License at\n",
              "//\n",
              "//      http://www.apache.org/licenses/LICENSE-2.0\n",
              "//\n",
              "// Unless required by applicable law or agreed to in writing, software\n",
              "// distributed under the License is distributed on an \"AS IS\" BASIS,\n",
              "// WITHOUT WARRANTIES OR CONDITIONS OF ANY KIND, either express or implied.\n",
              "// See the License for the specific language governing permissions and\n",
              "// limitations under the License.\n",
              "\n",
              "/**\n",
              " * @fileoverview Helpers for google.colab Python module.\n",
              " */\n",
              "(function(scope) {\n",
              "function span(text, styleAttributes = {}) {\n",
              "  const element = document.createElement('span');\n",
              "  element.textContent = text;\n",
              "  for (const key of Object.keys(styleAttributes)) {\n",
              "    element.style[key] = styleAttributes[key];\n",
              "  }\n",
              "  return element;\n",
              "}\n",
              "\n",
              "// Max number of bytes which will be uploaded at a time.\n",
              "const MAX_PAYLOAD_SIZE = 100 * 1024;\n",
              "\n",
              "function _uploadFiles(inputId, outputId) {\n",
              "  const steps = uploadFilesStep(inputId, outputId);\n",
              "  const outputElement = document.getElementById(outputId);\n",
              "  // Cache steps on the outputElement to make it available for the next call\n",
              "  // to uploadFilesContinue from Python.\n",
              "  outputElement.steps = steps;\n",
              "\n",
              "  return _uploadFilesContinue(outputId);\n",
              "}\n",
              "\n",
              "// This is roughly an async generator (not supported in the browser yet),\n",
              "// where there are multiple asynchronous steps and the Python side is going\n",
              "// to poll for completion of each step.\n",
              "// This uses a Promise to block the python side on completion of each step,\n",
              "// then passes the result of the previous step as the input to the next step.\n",
              "function _uploadFilesContinue(outputId) {\n",
              "  const outputElement = document.getElementById(outputId);\n",
              "  const steps = outputElement.steps;\n",
              "\n",
              "  const next = steps.next(outputElement.lastPromiseValue);\n",
              "  return Promise.resolve(next.value.promise).then((value) => {\n",
              "    // Cache the last promise value to make it available to the next\n",
              "    // step of the generator.\n",
              "    outputElement.lastPromiseValue = value;\n",
              "    return next.value.response;\n",
              "  });\n",
              "}\n",
              "\n",
              "/**\n",
              " * Generator function which is called between each async step of the upload\n",
              " * process.\n",
              " * @param {string} inputId Element ID of the input file picker element.\n",
              " * @param {string} outputId Element ID of the output display.\n",
              " * @return {!Iterable<!Object>} Iterable of next steps.\n",
              " */\n",
              "function* uploadFilesStep(inputId, outputId) {\n",
              "  const inputElement = document.getElementById(inputId);\n",
              "  inputElement.disabled = false;\n",
              "\n",
              "  const outputElement = document.getElementById(outputId);\n",
              "  outputElement.innerHTML = '';\n",
              "\n",
              "  const pickedPromise = new Promise((resolve) => {\n",
              "    inputElement.addEventListener('change', (e) => {\n",
              "      resolve(e.target.files);\n",
              "    });\n",
              "  });\n",
              "\n",
              "  const cancel = document.createElement('button');\n",
              "  inputElement.parentElement.appendChild(cancel);\n",
              "  cancel.textContent = 'Cancel upload';\n",
              "  const cancelPromise = new Promise((resolve) => {\n",
              "    cancel.onclick = () => {\n",
              "      resolve(null);\n",
              "    };\n",
              "  });\n",
              "\n",
              "  // Wait for the user to pick the files.\n",
              "  const files = yield {\n",
              "    promise: Promise.race([pickedPromise, cancelPromise]),\n",
              "    response: {\n",
              "      action: 'starting',\n",
              "    }\n",
              "  };\n",
              "\n",
              "  cancel.remove();\n",
              "\n",
              "  // Disable the input element since further picks are not allowed.\n",
              "  inputElement.disabled = true;\n",
              "\n",
              "  if (!files) {\n",
              "    return {\n",
              "      response: {\n",
              "        action: 'complete',\n",
              "      }\n",
              "    };\n",
              "  }\n",
              "\n",
              "  for (const file of files) {\n",
              "    const li = document.createElement('li');\n",
              "    li.append(span(file.name, {fontWeight: 'bold'}));\n",
              "    li.append(span(\n",
              "        `(${file.type || 'n/a'}) - ${file.size} bytes, ` +\n",
              "        `last modified: ${\n",
              "            file.lastModifiedDate ? file.lastModifiedDate.toLocaleDateString() :\n",
              "                                    'n/a'} - `));\n",
              "    const percent = span('0% done');\n",
              "    li.appendChild(percent);\n",
              "\n",
              "    outputElement.appendChild(li);\n",
              "\n",
              "    const fileDataPromise = new Promise((resolve) => {\n",
              "      const reader = new FileReader();\n",
              "      reader.onload = (e) => {\n",
              "        resolve(e.target.result);\n",
              "      };\n",
              "      reader.readAsArrayBuffer(file);\n",
              "    });\n",
              "    // Wait for the data to be ready.\n",
              "    let fileData = yield {\n",
              "      promise: fileDataPromise,\n",
              "      response: {\n",
              "        action: 'continue',\n",
              "      }\n",
              "    };\n",
              "\n",
              "    // Use a chunked sending to avoid message size limits. See b/62115660.\n",
              "    let position = 0;\n",
              "    do {\n",
              "      const length = Math.min(fileData.byteLength - position, MAX_PAYLOAD_SIZE);\n",
              "      const chunk = new Uint8Array(fileData, position, length);\n",
              "      position += length;\n",
              "\n",
              "      const base64 = btoa(String.fromCharCode.apply(null, chunk));\n",
              "      yield {\n",
              "        response: {\n",
              "          action: 'append',\n",
              "          file: file.name,\n",
              "          data: base64,\n",
              "        },\n",
              "      };\n",
              "\n",
              "      let percentDone = fileData.byteLength === 0 ?\n",
              "          100 :\n",
              "          Math.round((position / fileData.byteLength) * 100);\n",
              "      percent.textContent = `${percentDone}% done`;\n",
              "\n",
              "    } while (position < fileData.byteLength);\n",
              "  }\n",
              "\n",
              "  // All done.\n",
              "  yield {\n",
              "    response: {\n",
              "      action: 'complete',\n",
              "    }\n",
              "  };\n",
              "}\n",
              "\n",
              "scope.google = scope.google || {};\n",
              "scope.google.colab = scope.google.colab || {};\n",
              "scope.google.colab._files = {\n",
              "  _uploadFiles,\n",
              "  _uploadFilesContinue,\n",
              "};\n",
              "})(self);\n",
              "</script> "
            ]
          },
          "metadata": {}
        },
        {
          "output_type": "stream",
          "name": "stdout",
          "text": [
            "Saving ConvertedTable.xlsx to ConvertedTable.xlsx\n"
          ]
        }
      ]
    },
    {
      "cell_type": "code",
      "source": [
        "data = pd.read_excel(uploaded['ConvertedTable.xlsx'])\n",
        "#womenData = data[data['Пол'] == 1].copy()\n",
        "#menData = data[data['Пол'] == 0].copy()\n",
        "\n",
        "questions = data[data.columns[4:]]\n",
        "peoples = questions.T"
      ],
      "metadata": {
        "id": "atYIt__zl3DT"
      },
      "execution_count": 3,
      "outputs": []
    },
    {
      "cell_type": "code",
      "source": [
        "#Распределение вопросов на 3 и на 5 групп\n",
        "\n",
        "# group_num3 = [0] * 52\n",
        "group_num5 = [0] * 52\n",
        "\n",
        "# num3 = {\n",
        "#     1: list(range(0,17)) + list(range(21,24)),\n",
        "#     2: list(range(17,21)) + [34, 35, 37, 39, 40] + list(range(44,47)) + [49, 50],\n",
        "#     3: list(range(24,34)) + [36,38] + list(range(41,44)) + [47,48,51]\n",
        "# }\n",
        "num5 = {\n",
        "    1: list(range(0,9)),\n",
        "    2: list(range(9,17)) + list(range(21,24)),\n",
        "    3: list(range(17,21)) + [34,35,37,39,40] + list(range(44,47)) + [49,50],\n",
        "    4: list(range(24,27)) + list(range(28,32)) + [33,36,38,43,47,48,51],\n",
        "    5: [27,32,41,42]\n",
        "}\n",
        "\n",
        "#num[1], num3[2], num3[3]\n",
        "#num3[1][0] - var[key][index_list]\n",
        "\n",
        "# for i in range(len(group_num3)):\n",
        "#   for j in range(1,4):\n",
        "#     if i in num3[j]:\n",
        "#       group_num3[i] = j\n",
        "\n",
        "for i in range(len(group_num5)):\n",
        "  for j in range(1,6):\n",
        "    if i in num5[j]:\n",
        "      group_num5[i] = j\n",
        "\n",
        "# print(\"Данные массивы содержат информацию о соответствии вопроса анкеты номеру класса.\\n\")\n",
        "# print(\"Ниже указано распределение на 3 класса:\\n1 класс - Учебный процесс и организация работы учебного заведения.\\n2 класс - Выбор профессии и актуальность предоставляемой информации.\\n3 класс - Внутренние переживания и личностные проблемы\")\n",
        "# print(group_num3)\n",
        "\n",
        "print(\"\\nНиже указано распределение на 5 классов:\\n1 класс - Организация работы учебного заведения\\n2 класс - Преподавательская деятельность\\n3 класс - Профессия\\n4 класс - Личность\\n5 класс - Социальная адаптация\\n\")\n",
        "print(group_num5)\n"
      ],
      "metadata": {
        "id": "SN8KIVnKmGP0",
        "outputId": "5b2fcaf3-8965-416c-bd2b-6683b95fafdb",
        "colab": {
          "base_uri": "https://localhost:8080/"
        }
      },
      "execution_count": 4,
      "outputs": [
        {
          "output_type": "stream",
          "name": "stdout",
          "text": [
            "\n",
            "Ниже указано распределение на 5 классов:\n",
            "1 класс - Организация работы учебного заведения\n",
            "2 класс - Преподавательская деятельность\n",
            "3 класс - Профессия\n",
            "4 класс - Личность\n",
            "5 класс - Социальная адаптация\n",
            "\n",
            "[1, 1, 1, 1, 1, 1, 1, 1, 1, 2, 2, 2, 2, 2, 2, 2, 2, 3, 3, 3, 3, 2, 2, 2, 4, 4, 4, 5, 4, 4, 4, 4, 5, 4, 3, 3, 4, 3, 4, 3, 3, 5, 5, 4, 3, 3, 3, 4, 4, 3, 3, 4]\n"
          ]
        }
      ]
    },
    {
      "cell_type": "code",
      "source": [
        "X = questions.copy()"
      ],
      "metadata": {
        "id": "XfXBvb7Em0vc"
      },
      "execution_count": 5,
      "outputs": []
    },
    {
      "cell_type": "code",
      "source": [
        "kmeans = KMeans(n_clusters = 4)\n",
        "kmeans.fit(X)\n",
        "rez_kmeans = kmeans.predict(X)\n",
        "\n",
        "print(\"Ниже представлено распределение респондентов по схожести между друг другом на 4 группы:\")\n",
        "print(rez_kmeans)"
      ],
      "metadata": {
        "id": "CUuhzvCLphVM",
        "outputId": "d31a003e-3946-494c-e823-a0aa95448a37",
        "colab": {
          "base_uri": "https://localhost:8080/"
        }
      },
      "execution_count": 6,
      "outputs": [
        {
          "output_type": "stream",
          "name": "stdout",
          "text": [
            "Ниже представлено распределение респондентов по схожести между друг другом на 4 группы:\n",
            "[3 2 1 0 1 1 1 3 1 2 2 1 2 1 3 2 2 2 3 0 0 0 3 2 1 3 1 0 1 0 1 3 1 1 2 1 2\n",
            " 2 1 1 1 1 1 1 1 2 1 0 1 0 1 2 1 2 2 1 2 0 0 2 1 2 2 1 2 1 2 1 1 2 3 0 3 0\n",
            " 2 2 2 2 3 2 2 3 0 0 2 1 1 1 2 2 2 2 2 0 1 1 1 2 2 2 2 2 2 2 2 2]\n"
          ]
        },
        {
          "output_type": "stream",
          "name": "stderr",
          "text": [
            "/usr/local/lib/python3.10/dist-packages/sklearn/cluster/_kmeans.py:870: FutureWarning: The default value of `n_init` will change from 10 to 'auto' in 1.4. Set the value of `n_init` explicitly to suppress the warning\n",
            "  warnings.warn(\n"
          ]
        }
      ]
    },
    {
      "cell_type": "code",
      "source": [
        "#Собраны индексы людей, которые принадлежат каждой группе\n",
        "indexPsychotype = {\n",
        "    0: [],\n",
        "    1: [],\n",
        "    2: [],\n",
        "    3: []\n",
        "}\n",
        "for i in range(len(indexPsychotype)):\n",
        "  for j in range(len(rez_kmeans)):\n",
        "    if(rez_kmeans[j] == i):\n",
        "      indexPsychotype[i].append(j)"
      ],
      "metadata": {
        "id": "1QFOig8xq6iQ"
      },
      "execution_count": 40,
      "outputs": []
    },
    {
      "cell_type": "markdown",
      "source": [
        "#КЛАСТЕРИЗАЦИЯ"
      ],
      "metadata": {
        "id": "u2rntFkzRDF-"
      }
    },
    {
      "cell_type": "code",
      "source": [
        "def printCluster_classQuestion(numCluster, numQuesGroup):\n",
        "  print('Группировка по классу вопросов:')\n",
        "  if(numQuesGroup == 1):\n",
        "    print('1 класс - Организация работы учебного заведения\\n')\n",
        "  elif(numQuesGroup == 2):\n",
        "    print('2 класс - Преподавательская деятельность\\n')\n",
        "  elif(numQuesGroup == 3):\n",
        "    print('3 класс - Профессия\\n')\n",
        "  elif(numQuesGroup == 4):\n",
        "    print('4 класс - Личность\\n')\n",
        "  else:\n",
        "    print('5 класс - Социальная адаптация\\n')\n",
        "\n",
        "\n",
        "  print(stat.mean((peoples.loc[questions.columns[num5[numQuesGroup]], peoples.columns[indexPsychotype[numCluster]]].describe().T)['mean']))\n",
        "  #peoples.loc[questions.columns[num5[numQuesGroup]], peoples.columns[indexPsychotype[numCluster]]].describe().T"
      ],
      "metadata": {
        "id": "qNp9T4dCRI7u"
      },
      "execution_count": 41,
      "outputs": []
    },
    {
      "cell_type": "markdown",
      "source": [
        "#Статистика по 1-му кластеру:\n",
        "Статистика идёт для каждого респондента по вопросам 1-5 групп"
      ],
      "metadata": {
        "id": "wfzJ28-j7-1x"
      }
    },
    {
      "cell_type": "code",
      "source": [
        "#questions.loc[indexPeople_4[0], questions.columns[num5[1]]].describe().T)\n",
        "printCluster_classQuestion(0, 1)"
      ],
      "metadata": {
        "id": "w_fFoRmfukuF",
        "outputId": "b083aca8-f4ff-47be-8198-4aeea9409ffc",
        "colab": {
          "base_uri": "https://localhost:8080/"
        }
      },
      "execution_count": 42,
      "outputs": [
        {
          "output_type": "stream",
          "name": "stdout",
          "text": [
            "Группировка по классу вопросов:\n",
            "1 класс - Организация работы учебного заведения\n",
            "\n",
            "4.229629629629629\n"
          ]
        }
      ]
    },
    {
      "cell_type": "code",
      "source": [
        "#questions.loc[indexPeople_4[0], questions.columns[num5[2]]].describe().T\n",
        "printCluster_classQuestion(0, 2)"
      ],
      "metadata": {
        "id": "1QvE-ZDSAe9I",
        "outputId": "7c385aaa-35a8-4924-89f6-686167aaec6a",
        "colab": {
          "base_uri": "https://localhost:8080/"
        }
      },
      "execution_count": 10,
      "outputs": [
        {
          "output_type": "stream",
          "name": "stdout",
          "text": [
            "Группировка по классу вопросов:\n",
            "2 класс - Преподавательская деятельность\n",
            "\n",
            "5.260606060606061\n"
          ]
        }
      ]
    },
    {
      "cell_type": "code",
      "source": [
        "#questions.loc[indexPeople_4[0], questions.columns[num5[3]]].describe().T\n",
        "printCluster_classQuestion(0, 3)"
      ],
      "metadata": {
        "id": "UX84cgLEAiH_",
        "outputId": "6979d79b-b4d1-4d90-89c5-430c2ee04774",
        "colab": {
          "base_uri": "https://localhost:8080/"
        }
      },
      "execution_count": 11,
      "outputs": [
        {
          "output_type": "stream",
          "name": "stdout",
          "text": [
            "Группировка по классу вопросов:\n",
            "3 класс - Профессия\n",
            "\n",
            "2.466666666666667\n"
          ]
        }
      ]
    },
    {
      "cell_type": "code",
      "source": [
        "#questions.loc[indexPeople_4[0], questions.columns[num5[4]]].describe().T\n",
        "printCluster_classQuestion(0, 4)"
      ],
      "metadata": {
        "id": "Pn_YS7XEAjxd",
        "outputId": "74a93e69-86ac-4c5b-e077-9dc34b4f10d3",
        "colab": {
          "base_uri": "https://localhost:8080/"
        }
      },
      "execution_count": 12,
      "outputs": [
        {
          "output_type": "stream",
          "name": "stdout",
          "text": [
            "Группировка по классу вопросов:\n",
            "4 класс - Личность\n",
            "\n",
            "2.776190476190476\n"
          ]
        }
      ]
    },
    {
      "cell_type": "code",
      "source": [
        "#questions.loc[indexPeople_4[0], questions.columns[num5[5]]].describe().T\n",
        "printCluster_classQuestion(0, 5)"
      ],
      "metadata": {
        "id": "jNEJrIXQAlO3",
        "outputId": "ad3f4127-500a-4ae9-f2fd-dcfa185e0ede",
        "colab": {
          "base_uri": "https://localhost:8080/"
        }
      },
      "execution_count": 13,
      "outputs": [
        {
          "output_type": "stream",
          "name": "stdout",
          "text": [
            "Группировка по классу вопросов:\n",
            "5 класс - Социальная адаптация\n",
            "\n",
            "1.2666666666666666\n"
          ]
        }
      ]
    },
    {
      "cell_type": "markdown",
      "source": [
        "#Статистика по 2-му кластеру:"
      ],
      "metadata": {
        "id": "wFxUfMEXAW89"
      }
    },
    {
      "cell_type": "code",
      "source": [
        "#questions.loc[indexPeople_4[1], :].describe().T\n",
        "printCluster_classQuestion(1, 1)"
      ],
      "metadata": {
        "id": "ngRczpeVv04L",
        "outputId": "ae738f20-1667-4f26-d704-21388c0cf541",
        "colab": {
          "base_uri": "https://localhost:8080/"
        }
      },
      "execution_count": 43,
      "outputs": [
        {
          "output_type": "stream",
          "name": "stdout",
          "text": [
            "Группировка по классу вопросов:\n",
            "1 класс - Организация работы учебного заведения\n",
            "\n",
            "3.5735735735735736\n"
          ]
        }
      ]
    },
    {
      "cell_type": "code",
      "source": [
        "#stat.mean((questions.loc[indexPeople_4[1], questions.columns[num5[2]]].describe().T)['mean'])\n",
        "printCluster_classQuestion(1, 2)"
      ],
      "metadata": {
        "id": "OOvX2abkJr9L",
        "outputId": "a6b6d87a-6f76-4b11-82d3-52a5814ee555",
        "colab": {
          "base_uri": "https://localhost:8080/"
        }
      },
      "execution_count": 15,
      "outputs": [
        {
          "output_type": "stream",
          "name": "stdout",
          "text": [
            "Группировка по классу вопросов:\n",
            "2 класс - Преподавательская деятельность\n",
            "\n",
            "4.398034398034398\n"
          ]
        }
      ]
    },
    {
      "cell_type": "code",
      "source": [
        "#stat.mean((questions.loc[indexPeople_4[1], questions.columns[num5[3]]].describe().T)['mean'])\n",
        "printCluster_classQuestion(1, 3)"
      ],
      "metadata": {
        "id": "6bPCR2mWJuIc",
        "outputId": "ed9e6a00-a1f5-482b-8232-e8fd99659cb7",
        "colab": {
          "base_uri": "https://localhost:8080/"
        }
      },
      "execution_count": 16,
      "outputs": [
        {
          "output_type": "stream",
          "name": "stdout",
          "text": [
            "Группировка по классу вопросов:\n",
            "3 класс - Профессия\n",
            "\n",
            "4.413127413127413\n"
          ]
        }
      ]
    },
    {
      "cell_type": "code",
      "source": [
        "#stat.mean((questions.loc[indexPeople_4[1], questions.columns[num5[4]]].describe().T)['mean'])\n",
        "printCluster_classQuestion(1, 4)"
      ],
      "metadata": {
        "id": "vc3fQh_YJw5v",
        "outputId": "94d571d9-3ca4-434d-b86f-90713b7a6013",
        "colab": {
          "base_uri": "https://localhost:8080/"
        }
      },
      "execution_count": 17,
      "outputs": [
        {
          "output_type": "stream",
          "name": "stdout",
          "text": [
            "Группировка по классу вопросов:\n",
            "4 класс - Личность\n",
            "\n",
            "5.063706563706564\n"
          ]
        }
      ]
    },
    {
      "cell_type": "code",
      "source": [
        "#stat.mean((questions.loc[indexPeople_4[1], questions.columns[num5[5]]].describe().T)['mean'])\n",
        "printCluster_classQuestion(1, 5)"
      ],
      "metadata": {
        "id": "yh_3nbppJy6Y",
        "outputId": "f7272d46-1c99-4b35-eff9-403f393dceb5",
        "colab": {
          "base_uri": "https://localhost:8080/"
        }
      },
      "execution_count": 18,
      "outputs": [
        {
          "output_type": "stream",
          "name": "stdout",
          "text": [
            "Группировка по классу вопросов:\n",
            "5 класс - Социальная адаптация\n",
            "\n",
            "2.081081081081081\n"
          ]
        }
      ]
    },
    {
      "cell_type": "markdown",
      "source": [
        "#Статистика по 3-му кластеру:"
      ],
      "metadata": {
        "id": "ONF-eWSmAY5q"
      }
    },
    {
      "cell_type": "code",
      "source": [
        "#questions.loc[indexPeople_4[2], :].describe().T\n",
        "printCluster_classQuestion(2, 1)"
      ],
      "metadata": {
        "id": "JYs1cXt6v4Bv",
        "outputId": "32ac7c4c-5e5c-4e8f-90a9-045017cc7ade",
        "colab": {
          "base_uri": "https://localhost:8080/"
        }
      },
      "execution_count": 19,
      "outputs": [
        {
          "output_type": "stream",
          "name": "stdout",
          "text": [
            "Группировка по классу вопросов:\n",
            "1 класс - Организация работы учебного заведения\n",
            "\n",
            "2.03359173126615\n"
          ]
        }
      ]
    },
    {
      "cell_type": "code",
      "source": [
        "#stat.mean((questions.loc[indexPeople_4[2], questions.columns[num5[2]]].describe().T)['mean'])\n",
        "printCluster_classQuestion(2, 2)"
      ],
      "metadata": {
        "id": "fwAlawm9J9wO",
        "outputId": "cb8c374d-fcbd-4936-9d20-1125779abec5",
        "colab": {
          "base_uri": "https://localhost:8080/"
        }
      },
      "execution_count": 20,
      "outputs": [
        {
          "output_type": "stream",
          "name": "stdout",
          "text": [
            "Группировка по классу вопросов:\n",
            "2 класс - Преподавательская деятельность\n",
            "\n",
            "2.0021141649048624\n"
          ]
        }
      ]
    },
    {
      "cell_type": "code",
      "source": [
        "#stat.mean((questions.loc[indexPeople_4[2], questions.columns[num5[3]]].describe().T)['mean'])\n",
        "printCluster_classQuestion(2, 3)"
      ],
      "metadata": {
        "id": "y3243AGsAakO",
        "outputId": "98c45a32-4891-4ec5-f54c-1aa44d66694b",
        "colab": {
          "base_uri": "https://localhost:8080/"
        }
      },
      "execution_count": 21,
      "outputs": [
        {
          "output_type": "stream",
          "name": "stdout",
          "text": [
            "Группировка по классу вопросов:\n",
            "3 класс - Профессия\n",
            "\n",
            "1.4003322259136213\n"
          ]
        }
      ]
    },
    {
      "cell_type": "code",
      "source": [
        "#stat.mean((questions.loc[indexPeople_4[2], questions.columns[num5[4]]].describe().T)['mean'])\n",
        "printCluster_classQuestion(2, 4)"
      ],
      "metadata": {
        "id": "mQDBz6M4KA5d",
        "outputId": "f17e4e57-9789-4fd1-d829-a18448ba1e23",
        "colab": {
          "base_uri": "https://localhost:8080/"
        }
      },
      "execution_count": 22,
      "outputs": [
        {
          "output_type": "stream",
          "name": "stdout",
          "text": [
            "Группировка по классу вопросов:\n",
            "4 класс - Личность\n",
            "\n",
            "2.6843853820598005\n"
          ]
        }
      ]
    },
    {
      "cell_type": "code",
      "source": [
        "#stat.mean((questions.loc[indexPeople_4[2], questions.columns[num5[5]]].describe().T)['mean'])\n",
        "printCluster_classQuestion(2, 5)"
      ],
      "metadata": {
        "id": "H5HftDceKCk-",
        "outputId": "6b617a7d-34dc-433b-d674-346a0f5e3246",
        "colab": {
          "base_uri": "https://localhost:8080/"
        }
      },
      "execution_count": 23,
      "outputs": [
        {
          "output_type": "stream",
          "name": "stdout",
          "text": [
            "Группировка по классу вопросов:\n",
            "5 класс - Социальная адаптация\n",
            "\n",
            "0.7965116279069767\n"
          ]
        }
      ]
    },
    {
      "cell_type": "markdown",
      "source": [
        "#Статистика по 4-му кластеру:"
      ],
      "metadata": {
        "id": "AI_W2LA1Aa9d"
      }
    },
    {
      "cell_type": "code",
      "source": [
        "#questions.loc[indexPeople_4[3], :].describe().T\n",
        "printCluster_classQuestion(3, 1)"
      ],
      "metadata": {
        "id": "6Iq4FGY5v6Lx",
        "outputId": "4525866b-4810-45a4-ccb8-941b633f1524",
        "colab": {
          "base_uri": "https://localhost:8080/"
        }
      },
      "execution_count": 24,
      "outputs": [
        {
          "output_type": "stream",
          "name": "stdout",
          "text": [
            "Группировка по классу вопросов:\n",
            "1 класс - Организация работы учебного заведения\n",
            "\n",
            "6.303030303030303\n"
          ]
        }
      ]
    },
    {
      "cell_type": "code",
      "source": [
        "#stat.mean((questions.loc[indexPeople_4[3], questions.columns[num5[2]]].describe().T)['mean'])\n",
        "printCluster_classQuestion(3, 2)"
      ],
      "metadata": {
        "id": "Xj5IokoCKNNo",
        "outputId": "0bd7bc23-9fc9-40c9-9242-b810b5a1374c",
        "colab": {
          "base_uri": "https://localhost:8080/"
        }
      },
      "execution_count": 25,
      "outputs": [
        {
          "output_type": "stream",
          "name": "stdout",
          "text": [
            "Группировка по классу вопросов:\n",
            "2 класс - Преподавательская деятельность\n",
            "\n",
            "7.776859504132232\n"
          ]
        }
      ]
    },
    {
      "cell_type": "code",
      "source": [
        "#stat.mean((questions.loc[indexPeople_4[3], questions.columns[num5[3]]].describe().T)['mean'])\n",
        "printCluster_classQuestion(3, 3)"
      ],
      "metadata": {
        "id": "b9RPGVjB7SEK",
        "outputId": "e0ab6c7f-d2c7-410f-cc07-b8e3f8bc783d",
        "colab": {
          "base_uri": "https://localhost:8080/"
        }
      },
      "execution_count": 26,
      "outputs": [
        {
          "output_type": "stream",
          "name": "stdout",
          "text": [
            "Группировка по классу вопросов:\n",
            "3 класс - Профессия\n",
            "\n",
            "6.655844155844156\n"
          ]
        }
      ]
    },
    {
      "cell_type": "code",
      "source": [
        "#stat.mean((questions.loc[indexPeople_4[3], questions.columns[num5[4]]].describe().T)['mean'])\n",
        "printCluster_classQuestion(3, 4)"
      ],
      "metadata": {
        "id": "qgZKENYDKQVF",
        "outputId": "02e61dbd-33b5-4834-f4a7-4c3878dd7e04",
        "colab": {
          "base_uri": "https://localhost:8080/"
        }
      },
      "execution_count": 27,
      "outputs": [
        {
          "output_type": "stream",
          "name": "stdout",
          "text": [
            "Группировка по классу вопросов:\n",
            "4 класс - Личность\n",
            "\n",
            "7.376623376623376\n"
          ]
        }
      ]
    },
    {
      "cell_type": "code",
      "source": [
        "#stat.mean((questions.loc[indexPeople_4[3], questions.columns[num5[5]]].describe().T)['mean'])\n",
        "printCluster_classQuestion(3, 5)"
      ],
      "metadata": {
        "id": "TkLAaW2XKQ-u",
        "outputId": "3d871f62-3cc6-4fd1-f5d4-56aba466a0cc",
        "colab": {
          "base_uri": "https://localhost:8080/"
        }
      },
      "execution_count": 28,
      "outputs": [
        {
          "output_type": "stream",
          "name": "stdout",
          "text": [
            "Группировка по классу вопросов:\n",
            "5 класс - Социальная адаптация\n",
            "\n",
            "5.159090909090909\n"
          ]
        }
      ]
    },
    {
      "cell_type": "markdown",
      "source": [
        "#КЛАССИФИКАЦИЯ (С УЧИТЕЛЕМ)\n",
        "\n",
        "####Самые недовольные - **холерики**\n",
        "####После идут **сангвиники** (энергичные, не имеют проблем в общении, теряют интерес к рутине) и **меланхолики** (нестабильные, чувствительные, одинокие, но трудолюбивые). Они на одном уровне - среднем.\n",
        "####Самые лояльные - **флегматики**."
      ],
      "metadata": {
        "id": "JEdBlI1VUF8T"
      }
    },
    {
      "cell_type": "markdown",
      "source": [
        "###1. SVM"
      ],
      "metadata": {
        "id": "h0BhvMzpMf8U"
      }
    },
    {
      "cell_type": "code",
      "source": [
        "#indexPsychotype - содержит ключ (номер психотипа) с массивом индексов респондентов\n",
        "#rez_kmeans - содержит соответствиме индекса респондента с номером психотипа (от 0 до 3) - ОДНОМЕРНЫЙ СПИСОК\n",
        "\n",
        "namePsychotype = ['Сангвиник','Меланхолик','Флегматик','Холерик']\n",
        "x_train, x_test, y_train, y_test = train_test_split(questions, rez_kmeans, test_size=0.2, random_state=0)"
      ],
      "metadata": {
        "id": "k4EjA2oLUKWq"
      },
      "execution_count": 57,
      "outputs": []
    },
    {
      "cell_type": "code",
      "source": [
        "svm = SVC(kernel='linear', C=1.0, random_state=1)\n",
        "svm.fit(x_train, y_train)"
      ],
      "metadata": {
        "id": "uor7bWGdIT9m",
        "outputId": "eee6bb81-8b0c-4673-db0e-c0f1a2dc0d22",
        "colab": {
          "base_uri": "https://localhost:8080/",
          "height": 75
        }
      },
      "execution_count": 49,
      "outputs": [
        {
          "output_type": "execute_result",
          "data": {
            "text/plain": [
              "SVC(kernel='linear', random_state=1)"
            ],
            "text/html": [
              "<style>#sk-container-id-1 {color: black;background-color: white;}#sk-container-id-1 pre{padding: 0;}#sk-container-id-1 div.sk-toggleable {background-color: white;}#sk-container-id-1 label.sk-toggleable__label {cursor: pointer;display: block;width: 100%;margin-bottom: 0;padding: 0.3em;box-sizing: border-box;text-align: center;}#sk-container-id-1 label.sk-toggleable__label-arrow:before {content: \"▸\";float: left;margin-right: 0.25em;color: #696969;}#sk-container-id-1 label.sk-toggleable__label-arrow:hover:before {color: black;}#sk-container-id-1 div.sk-estimator:hover label.sk-toggleable__label-arrow:before {color: black;}#sk-container-id-1 div.sk-toggleable__content {max-height: 0;max-width: 0;overflow: hidden;text-align: left;background-color: #f0f8ff;}#sk-container-id-1 div.sk-toggleable__content pre {margin: 0.2em;color: black;border-radius: 0.25em;background-color: #f0f8ff;}#sk-container-id-1 input.sk-toggleable__control:checked~div.sk-toggleable__content {max-height: 200px;max-width: 100%;overflow: auto;}#sk-container-id-1 input.sk-toggleable__control:checked~label.sk-toggleable__label-arrow:before {content: \"▾\";}#sk-container-id-1 div.sk-estimator input.sk-toggleable__control:checked~label.sk-toggleable__label {background-color: #d4ebff;}#sk-container-id-1 div.sk-label input.sk-toggleable__control:checked~label.sk-toggleable__label {background-color: #d4ebff;}#sk-container-id-1 input.sk-hidden--visually {border: 0;clip: rect(1px 1px 1px 1px);clip: rect(1px, 1px, 1px, 1px);height: 1px;margin: -1px;overflow: hidden;padding: 0;position: absolute;width: 1px;}#sk-container-id-1 div.sk-estimator {font-family: monospace;background-color: #f0f8ff;border: 1px dotted black;border-radius: 0.25em;box-sizing: border-box;margin-bottom: 0.5em;}#sk-container-id-1 div.sk-estimator:hover {background-color: #d4ebff;}#sk-container-id-1 div.sk-parallel-item::after {content: \"\";width: 100%;border-bottom: 1px solid gray;flex-grow: 1;}#sk-container-id-1 div.sk-label:hover label.sk-toggleable__label {background-color: #d4ebff;}#sk-container-id-1 div.sk-serial::before {content: \"\";position: absolute;border-left: 1px solid gray;box-sizing: border-box;top: 0;bottom: 0;left: 50%;z-index: 0;}#sk-container-id-1 div.sk-serial {display: flex;flex-direction: column;align-items: center;background-color: white;padding-right: 0.2em;padding-left: 0.2em;position: relative;}#sk-container-id-1 div.sk-item {position: relative;z-index: 1;}#sk-container-id-1 div.sk-parallel {display: flex;align-items: stretch;justify-content: center;background-color: white;position: relative;}#sk-container-id-1 div.sk-item::before, #sk-container-id-1 div.sk-parallel-item::before {content: \"\";position: absolute;border-left: 1px solid gray;box-sizing: border-box;top: 0;bottom: 0;left: 50%;z-index: -1;}#sk-container-id-1 div.sk-parallel-item {display: flex;flex-direction: column;z-index: 1;position: relative;background-color: white;}#sk-container-id-1 div.sk-parallel-item:first-child::after {align-self: flex-end;width: 50%;}#sk-container-id-1 div.sk-parallel-item:last-child::after {align-self: flex-start;width: 50%;}#sk-container-id-1 div.sk-parallel-item:only-child::after {width: 0;}#sk-container-id-1 div.sk-dashed-wrapped {border: 1px dashed gray;margin: 0 0.4em 0.5em 0.4em;box-sizing: border-box;padding-bottom: 0.4em;background-color: white;}#sk-container-id-1 div.sk-label label {font-family: monospace;font-weight: bold;display: inline-block;line-height: 1.2em;}#sk-container-id-1 div.sk-label-container {text-align: center;}#sk-container-id-1 div.sk-container {/* jupyter's `normalize.less` sets `[hidden] { display: none; }` but bootstrap.min.css set `[hidden] { display: none !important; }` so we also need the `!important` here to be able to override the default hidden behavior on the sphinx rendered scikit-learn.org. See: https://github.com/scikit-learn/scikit-learn/issues/21755 */display: inline-block !important;position: relative;}#sk-container-id-1 div.sk-text-repr-fallback {display: none;}</style><div id=\"sk-container-id-1\" class=\"sk-top-container\"><div class=\"sk-text-repr-fallback\"><pre>SVC(kernel=&#x27;linear&#x27;, random_state=1)</pre><b>In a Jupyter environment, please rerun this cell to show the HTML representation or trust the notebook. <br />On GitHub, the HTML representation is unable to render, please try loading this page with nbviewer.org.</b></div><div class=\"sk-container\" hidden><div class=\"sk-item\"><div class=\"sk-estimator sk-toggleable\"><input class=\"sk-toggleable__control sk-hidden--visually\" id=\"sk-estimator-id-1\" type=\"checkbox\" checked><label for=\"sk-estimator-id-1\" class=\"sk-toggleable__label sk-toggleable__label-arrow\">SVC</label><div class=\"sk-toggleable__content\"><pre>SVC(kernel=&#x27;linear&#x27;, random_state=1)</pre></div></div></div></div></div>"
            ]
          },
          "metadata": {},
          "execution_count": 49
        }
      ]
    },
    {
      "cell_type": "code",
      "source": [
        "y_pred_svm = svm.predict(x_test)\n",
        "y_pred_svm, y_test"
      ],
      "metadata": {
        "id": "eDeGhOsmMAlj",
        "outputId": "d583da69-3e43-4ce2-9dbd-23a3126905e3",
        "colab": {
          "base_uri": "https://localhost:8080/"
        }
      },
      "execution_count": 52,
      "outputs": [
        {
          "output_type": "execute_result",
          "data": {
            "text/plain": [
              "(array([2, 2, 2, 1, 1, 2, 2, 3, 2, 1, 1, 3, 2, 1, 2, 1, 1, 0, 2, 2, 2, 1],\n",
              "       dtype=int32),\n",
              " array([2, 2, 2, 1, 1, 2, 2, 3, 2, 1, 1, 3, 2, 1, 2, 1, 1, 0, 2, 2, 2, 1],\n",
              "       dtype=int32))"
            ]
          },
          "metadata": {},
          "execution_count": 52
        }
      ]
    },
    {
      "cell_type": "code",
      "source": [
        "print(classification_report(y_test, y_pred_svm, target_names=namePsychotype))\n",
        "#print(classification_report(y_test, y_pred_svm))"
      ],
      "metadata": {
        "id": "kP8wlH_XJdIK",
        "outputId": "f9e76a52-9078-49f3-9df0-160e5d64c6b3",
        "colab": {
          "base_uri": "https://localhost:8080/"
        }
      },
      "execution_count": 59,
      "outputs": [
        {
          "output_type": "stream",
          "name": "stdout",
          "text": [
            "              precision    recall  f1-score   support\n",
            "\n",
            "   Сангвиник       1.00      1.00      1.00         1\n",
            "  Меланхолик       1.00      1.00      1.00         8\n",
            "   Флегматик       1.00      1.00      1.00        11\n",
            "     Холерик       1.00      1.00      1.00         2\n",
            "\n",
            "    accuracy                           1.00        22\n",
            "   macro avg       1.00      1.00      1.00        22\n",
            "weighted avg       1.00      1.00      1.00        22\n",
            "\n"
          ]
        }
      ]
    },
    {
      "cell_type": "markdown",
      "source": [
        "###2. Дерево решений"
      ],
      "metadata": {
        "id": "EPbmkZ3_Mk60"
      }
    },
    {
      "cell_type": "code",
      "source": [
        "from sklearn.tree import DecisionTreeClassifier\n",
        "\n",
        "tree = DecisionTreeClassifier(criterion='gini',\n",
        "                              max_depth=4,\n",
        "                              random_state=1)\n",
        "tree.fit(x_train, y_train)"
      ],
      "metadata": {
        "id": "9wV42y_HMmUf",
        "outputId": "f10f1165-a71d-403f-ce1a-51a711bbef14",
        "colab": {
          "base_uri": "https://localhost:8080/",
          "height": 75
        }
      },
      "execution_count": 60,
      "outputs": [
        {
          "output_type": "execute_result",
          "data": {
            "text/plain": [
              "DecisionTreeClassifier(max_depth=4, random_state=1)"
            ],
            "text/html": [
              "<style>#sk-container-id-2 {color: black;background-color: white;}#sk-container-id-2 pre{padding: 0;}#sk-container-id-2 div.sk-toggleable {background-color: white;}#sk-container-id-2 label.sk-toggleable__label {cursor: pointer;display: block;width: 100%;margin-bottom: 0;padding: 0.3em;box-sizing: border-box;text-align: center;}#sk-container-id-2 label.sk-toggleable__label-arrow:before {content: \"▸\";float: left;margin-right: 0.25em;color: #696969;}#sk-container-id-2 label.sk-toggleable__label-arrow:hover:before {color: black;}#sk-container-id-2 div.sk-estimator:hover label.sk-toggleable__label-arrow:before {color: black;}#sk-container-id-2 div.sk-toggleable__content {max-height: 0;max-width: 0;overflow: hidden;text-align: left;background-color: #f0f8ff;}#sk-container-id-2 div.sk-toggleable__content pre {margin: 0.2em;color: black;border-radius: 0.25em;background-color: #f0f8ff;}#sk-container-id-2 input.sk-toggleable__control:checked~div.sk-toggleable__content {max-height: 200px;max-width: 100%;overflow: auto;}#sk-container-id-2 input.sk-toggleable__control:checked~label.sk-toggleable__label-arrow:before {content: \"▾\";}#sk-container-id-2 div.sk-estimator input.sk-toggleable__control:checked~label.sk-toggleable__label {background-color: #d4ebff;}#sk-container-id-2 div.sk-label input.sk-toggleable__control:checked~label.sk-toggleable__label {background-color: #d4ebff;}#sk-container-id-2 input.sk-hidden--visually {border: 0;clip: rect(1px 1px 1px 1px);clip: rect(1px, 1px, 1px, 1px);height: 1px;margin: -1px;overflow: hidden;padding: 0;position: absolute;width: 1px;}#sk-container-id-2 div.sk-estimator {font-family: monospace;background-color: #f0f8ff;border: 1px dotted black;border-radius: 0.25em;box-sizing: border-box;margin-bottom: 0.5em;}#sk-container-id-2 div.sk-estimator:hover {background-color: #d4ebff;}#sk-container-id-2 div.sk-parallel-item::after {content: \"\";width: 100%;border-bottom: 1px solid gray;flex-grow: 1;}#sk-container-id-2 div.sk-label:hover label.sk-toggleable__label {background-color: #d4ebff;}#sk-container-id-2 div.sk-serial::before {content: \"\";position: absolute;border-left: 1px solid gray;box-sizing: border-box;top: 0;bottom: 0;left: 50%;z-index: 0;}#sk-container-id-2 div.sk-serial {display: flex;flex-direction: column;align-items: center;background-color: white;padding-right: 0.2em;padding-left: 0.2em;position: relative;}#sk-container-id-2 div.sk-item {position: relative;z-index: 1;}#sk-container-id-2 div.sk-parallel {display: flex;align-items: stretch;justify-content: center;background-color: white;position: relative;}#sk-container-id-2 div.sk-item::before, #sk-container-id-2 div.sk-parallel-item::before {content: \"\";position: absolute;border-left: 1px solid gray;box-sizing: border-box;top: 0;bottom: 0;left: 50%;z-index: -1;}#sk-container-id-2 div.sk-parallel-item {display: flex;flex-direction: column;z-index: 1;position: relative;background-color: white;}#sk-container-id-2 div.sk-parallel-item:first-child::after {align-self: flex-end;width: 50%;}#sk-container-id-2 div.sk-parallel-item:last-child::after {align-self: flex-start;width: 50%;}#sk-container-id-2 div.sk-parallel-item:only-child::after {width: 0;}#sk-container-id-2 div.sk-dashed-wrapped {border: 1px dashed gray;margin: 0 0.4em 0.5em 0.4em;box-sizing: border-box;padding-bottom: 0.4em;background-color: white;}#sk-container-id-2 div.sk-label label {font-family: monospace;font-weight: bold;display: inline-block;line-height: 1.2em;}#sk-container-id-2 div.sk-label-container {text-align: center;}#sk-container-id-2 div.sk-container {/* jupyter's `normalize.less` sets `[hidden] { display: none; }` but bootstrap.min.css set `[hidden] { display: none !important; }` so we also need the `!important` here to be able to override the default hidden behavior on the sphinx rendered scikit-learn.org. See: https://github.com/scikit-learn/scikit-learn/issues/21755 */display: inline-block !important;position: relative;}#sk-container-id-2 div.sk-text-repr-fallback {display: none;}</style><div id=\"sk-container-id-2\" class=\"sk-top-container\"><div class=\"sk-text-repr-fallback\"><pre>DecisionTreeClassifier(max_depth=4, random_state=1)</pre><b>In a Jupyter environment, please rerun this cell to show the HTML representation or trust the notebook. <br />On GitHub, the HTML representation is unable to render, please try loading this page with nbviewer.org.</b></div><div class=\"sk-container\" hidden><div class=\"sk-item\"><div class=\"sk-estimator sk-toggleable\"><input class=\"sk-toggleable__control sk-hidden--visually\" id=\"sk-estimator-id-2\" type=\"checkbox\" checked><label for=\"sk-estimator-id-2\" class=\"sk-toggleable__label sk-toggleable__label-arrow\">DecisionTreeClassifier</label><div class=\"sk-toggleable__content\"><pre>DecisionTreeClassifier(max_depth=4, random_state=1)</pre></div></div></div></div></div>"
            ]
          },
          "metadata": {},
          "execution_count": 60
        }
      ]
    },
    {
      "cell_type": "code",
      "source": [
        "y_pred_tree = tree.predict(x_test)\n",
        "print(classification_report(y_test, y_pred_tree, target_names=namePsychotype))"
      ],
      "metadata": {
        "id": "864cfKSANoh6",
        "outputId": "d662c65c-d864-46b8-9558-13ef7f3d987e",
        "colab": {
          "base_uri": "https://localhost:8080/"
        }
      },
      "execution_count": 61,
      "outputs": [
        {
          "output_type": "stream",
          "name": "stdout",
          "text": [
            "              precision    recall  f1-score   support\n",
            "\n",
            "   Сангвиник       0.33      1.00      0.50         1\n",
            "  Меланхолик       0.83      0.62      0.71         8\n",
            "   Флегматик       0.82      0.82      0.82        11\n",
            "     Холерик       1.00      1.00      1.00         2\n",
            "\n",
            "    accuracy                           0.77        22\n",
            "   macro avg       0.75      0.86      0.76        22\n",
            "weighted avg       0.82      0.77      0.78        22\n",
            "\n"
          ]
        }
      ]
    },
    {
      "cell_type": "code",
      "source": [],
      "metadata": {
        "id": "Md9u6TEAN6Z1"
      },
      "execution_count": null,
      "outputs": []
    }
  ]
}