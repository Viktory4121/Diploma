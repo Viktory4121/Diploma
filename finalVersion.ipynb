{
  "nbformat": 4,
  "nbformat_minor": 0,
  "metadata": {
    "colab": {
      "provenance": [],
      "include_colab_link": true
    },
    "kernelspec": {
      "name": "python3",
      "display_name": "Python 3"
    },
    "language_info": {
      "name": "python"
    }
  },
  "cells": [
    {
      "cell_type": "markdown",
      "metadata": {
        "id": "view-in-github",
        "colab_type": "text"
      },
      "source": [
        "<a href=\"https://colab.research.google.com/github/Viktory4121/diploma/blob/main/finalVersion.ipynb\" target=\"_parent\"><img src=\"https://colab.research.google.com/assets/colab-badge.svg\" alt=\"Open In Colab\"/></a>"
      ]
    },
    {
      "cell_type": "code",
      "execution_count": null,
      "metadata": {
        "id": "1PCNvd9tlfdM"
      },
      "outputs": [],
      "source": [
        "from google.colab import files\n",
        "import pandas as pd\n",
        "import numpy as np\n",
        "import statistics as stat\n",
        "#%matplotlib inline\n",
        "#import matplotlib.pyplot as plt\n",
        "from sklearn.cluster import KMeans\n",
        "from sklearn.cluster import AgglomerativeClustering\n",
        "from sklearn.svm import SVC\n",
        "\n",
        "#import modules\n",
        "#from sklearn.linear_model import LinearRegression\n",
        "from sklearn.model_selection import train_test_split\n",
        "from sklearn.metrics import mean_absolute_error, mean_squared_error, median_absolute_error, r2_score\n",
        "from sklearn.metrics import classification_report\n",
        "#from sklearn import metrics\n",
        "\n",
        "\n",
        "# Сброс ограничений на количество выводимых рядов\n",
        "pd.set_option('display.max_rows', None)\n",
        "# Сброс ограничений на число столбцов\n",
        "pd.set_option('display.max_columns', None)\n",
        "# Сброс ограничений на количество символов в записи\n",
        "pd.set_option('display.max_colwidth', None)"
      ]
    },
    {
      "cell_type": "code",
      "source": [
        "uploaded = files.upload()"
      ],
      "metadata": {
        "id": "eq0Cc3K6lyfO",
        "outputId": "9f2ee888-fb22-4e1e-ba31-1cfa224bd900",
        "colab": {
          "base_uri": "https://localhost:8080/",
          "height": 73
        }
      },
      "execution_count": null,
      "outputs": [
        {
          "output_type": "display_data",
          "data": {
            "text/plain": [
              "<IPython.core.display.HTML object>"
            ],
            "text/html": [
              "\n",
              "     <input type=\"file\" id=\"files-2f4035de-5cf9-47ad-a245-59ae19437622\" name=\"files[]\" multiple disabled\n",
              "        style=\"border:none\" />\n",
              "     <output id=\"result-2f4035de-5cf9-47ad-a245-59ae19437622\">\n",
              "      Upload widget is only available when the cell has been executed in the\n",
              "      current browser session. Please rerun this cell to enable.\n",
              "      </output>\n",
              "      <script>// Copyright 2017 Google LLC\n",
              "//\n",
              "// Licensed under the Apache License, Version 2.0 (the \"License\");\n",
              "// you may not use this file except in compliance with the License.\n",
              "// You may obtain a copy of the License at\n",
              "//\n",
              "//      http://www.apache.org/licenses/LICENSE-2.0\n",
              "//\n",
              "// Unless required by applicable law or agreed to in writing, software\n",
              "// distributed under the License is distributed on an \"AS IS\" BASIS,\n",
              "// WITHOUT WARRANTIES OR CONDITIONS OF ANY KIND, either express or implied.\n",
              "// See the License for the specific language governing permissions and\n",
              "// limitations under the License.\n",
              "\n",
              "/**\n",
              " * @fileoverview Helpers for google.colab Python module.\n",
              " */\n",
              "(function(scope) {\n",
              "function span(text, styleAttributes = {}) {\n",
              "  const element = document.createElement('span');\n",
              "  element.textContent = text;\n",
              "  for (const key of Object.keys(styleAttributes)) {\n",
              "    element.style[key] = styleAttributes[key];\n",
              "  }\n",
              "  return element;\n",
              "}\n",
              "\n",
              "// Max number of bytes which will be uploaded at a time.\n",
              "const MAX_PAYLOAD_SIZE = 100 * 1024;\n",
              "\n",
              "function _uploadFiles(inputId, outputId) {\n",
              "  const steps = uploadFilesStep(inputId, outputId);\n",
              "  const outputElement = document.getElementById(outputId);\n",
              "  // Cache steps on the outputElement to make it available for the next call\n",
              "  // to uploadFilesContinue from Python.\n",
              "  outputElement.steps = steps;\n",
              "\n",
              "  return _uploadFilesContinue(outputId);\n",
              "}\n",
              "\n",
              "// This is roughly an async generator (not supported in the browser yet),\n",
              "// where there are multiple asynchronous steps and the Python side is going\n",
              "// to poll for completion of each step.\n",
              "// This uses a Promise to block the python side on completion of each step,\n",
              "// then passes the result of the previous step as the input to the next step.\n",
              "function _uploadFilesContinue(outputId) {\n",
              "  const outputElement = document.getElementById(outputId);\n",
              "  const steps = outputElement.steps;\n",
              "\n",
              "  const next = steps.next(outputElement.lastPromiseValue);\n",
              "  return Promise.resolve(next.value.promise).then((value) => {\n",
              "    // Cache the last promise value to make it available to the next\n",
              "    // step of the generator.\n",
              "    outputElement.lastPromiseValue = value;\n",
              "    return next.value.response;\n",
              "  });\n",
              "}\n",
              "\n",
              "/**\n",
              " * Generator function which is called between each async step of the upload\n",
              " * process.\n",
              " * @param {string} inputId Element ID of the input file picker element.\n",
              " * @param {string} outputId Element ID of the output display.\n",
              " * @return {!Iterable<!Object>} Iterable of next steps.\n",
              " */\n",
              "function* uploadFilesStep(inputId, outputId) {\n",
              "  const inputElement = document.getElementById(inputId);\n",
              "  inputElement.disabled = false;\n",
              "\n",
              "  const outputElement = document.getElementById(outputId);\n",
              "  outputElement.innerHTML = '';\n",
              "\n",
              "  const pickedPromise = new Promise((resolve) => {\n",
              "    inputElement.addEventListener('change', (e) => {\n",
              "      resolve(e.target.files);\n",
              "    });\n",
              "  });\n",
              "\n",
              "  const cancel = document.createElement('button');\n",
              "  inputElement.parentElement.appendChild(cancel);\n",
              "  cancel.textContent = 'Cancel upload';\n",
              "  const cancelPromise = new Promise((resolve) => {\n",
              "    cancel.onclick = () => {\n",
              "      resolve(null);\n",
              "    };\n",
              "  });\n",
              "\n",
              "  // Wait for the user to pick the files.\n",
              "  const files = yield {\n",
              "    promise: Promise.race([pickedPromise, cancelPromise]),\n",
              "    response: {\n",
              "      action: 'starting',\n",
              "    }\n",
              "  };\n",
              "\n",
              "  cancel.remove();\n",
              "\n",
              "  // Disable the input element since further picks are not allowed.\n",
              "  inputElement.disabled = true;\n",
              "\n",
              "  if (!files) {\n",
              "    return {\n",
              "      response: {\n",
              "        action: 'complete',\n",
              "      }\n",
              "    };\n",
              "  }\n",
              "\n",
              "  for (const file of files) {\n",
              "    const li = document.createElement('li');\n",
              "    li.append(span(file.name, {fontWeight: 'bold'}));\n",
              "    li.append(span(\n",
              "        `(${file.type || 'n/a'}) - ${file.size} bytes, ` +\n",
              "        `last modified: ${\n",
              "            file.lastModifiedDate ? file.lastModifiedDate.toLocaleDateString() :\n",
              "                                    'n/a'} - `));\n",
              "    const percent = span('0% done');\n",
              "    li.appendChild(percent);\n",
              "\n",
              "    outputElement.appendChild(li);\n",
              "\n",
              "    const fileDataPromise = new Promise((resolve) => {\n",
              "      const reader = new FileReader();\n",
              "      reader.onload = (e) => {\n",
              "        resolve(e.target.result);\n",
              "      };\n",
              "      reader.readAsArrayBuffer(file);\n",
              "    });\n",
              "    // Wait for the data to be ready.\n",
              "    let fileData = yield {\n",
              "      promise: fileDataPromise,\n",
              "      response: {\n",
              "        action: 'continue',\n",
              "      }\n",
              "    };\n",
              "\n",
              "    // Use a chunked sending to avoid message size limits. See b/62115660.\n",
              "    let position = 0;\n",
              "    do {\n",
              "      const length = Math.min(fileData.byteLength - position, MAX_PAYLOAD_SIZE);\n",
              "      const chunk = new Uint8Array(fileData, position, length);\n",
              "      position += length;\n",
              "\n",
              "      const base64 = btoa(String.fromCharCode.apply(null, chunk));\n",
              "      yield {\n",
              "        response: {\n",
              "          action: 'append',\n",
              "          file: file.name,\n",
              "          data: base64,\n",
              "        },\n",
              "      };\n",
              "\n",
              "      let percentDone = fileData.byteLength === 0 ?\n",
              "          100 :\n",
              "          Math.round((position / fileData.byteLength) * 100);\n",
              "      percent.textContent = `${percentDone}% done`;\n",
              "\n",
              "    } while (position < fileData.byteLength);\n",
              "  }\n",
              "\n",
              "  // All done.\n",
              "  yield {\n",
              "    response: {\n",
              "      action: 'complete',\n",
              "    }\n",
              "  };\n",
              "}\n",
              "\n",
              "scope.google = scope.google || {};\n",
              "scope.google.colab = scope.google.colab || {};\n",
              "scope.google.colab._files = {\n",
              "  _uploadFiles,\n",
              "  _uploadFilesContinue,\n",
              "};\n",
              "})(self);\n",
              "</script> "
            ]
          },
          "metadata": {}
        },
        {
          "output_type": "stream",
          "name": "stdout",
          "text": [
            "Saving ConvertedTable.xlsx to ConvertedTable.xlsx\n"
          ]
        }
      ]
    },
    {
      "cell_type": "code",
      "source": [
        "data = pd.read_excel(uploaded['ConvertedTable.xlsx'])\n",
        "#womenData = data[data['Пол'] == 1].copy()\n",
        "#menData = data[data['Пол'] == 0].copy()\n",
        "\n",
        "questions = data[data.columns[4:]]\n",
        "peoples = questions.T"
      ],
      "metadata": {
        "id": "atYIt__zl3DT"
      },
      "execution_count": null,
      "outputs": []
    },
    {
      "cell_type": "code",
      "source": [
        "#Распределение вопросов на 3 и на 5 групп\n",
        "\n",
        "# group_num3 = [0] * 52\n",
        "group_num5 = [0] * 52\n",
        "\n",
        "# num3 = {\n",
        "#     1: list(range(0,17)) + list(range(21,24)),\n",
        "#     2: list(range(17,21)) + [34, 35, 37, 39, 40] + list(range(44,47)) + [49, 50],\n",
        "#     3: list(range(24,34)) + [36,38] + list(range(41,44)) + [47,48,51]\n",
        "# }\n",
        "num5 = {\n",
        "    1: list(range(0,9)),\n",
        "    2: list(range(9,17)) + list(range(21,24)),\n",
        "    3: list(range(17,21)) + [34,35,37,39,40] + list(range(44,47)) + [49,50],\n",
        "    4: list(range(24,27)) + list(range(28,32)) + [33,36,38,43,47,48,51],\n",
        "    5: [27,32,41,42]\n",
        "}\n",
        "\n",
        "#num[1], num3[2], num3[3]\n",
        "#num3[1][0] - var[key][index_list]\n",
        "\n",
        "# for i in range(len(group_num3)):\n",
        "#   for j in range(1,4):\n",
        "#     if i in num3[j]:\n",
        "#       group_num3[i] = j\n",
        "\n",
        "for i in range(len(group_num5)):\n",
        "  for j in range(1,6):\n",
        "    if i in num5[j]:\n",
        "      group_num5[i] = j\n",
        "\n",
        "# print(\"Данные массивы содержат информацию о соответствии вопроса анкеты номеру класса.\\n\")\n",
        "# print(\"Ниже указано распределение на 3 класса:\\n1 класс - Учебный процесс и организация работы учебного заведения.\\n2 класс - Выбор профессии и актуальность предоставляемой информации.\\n3 класс - Внутренние переживания и личностные проблемы\")\n",
        "# print(group_num3)\n",
        "\n",
        "print(\"\\nНиже указано распределение на 5 классов:\\n1 класс - Организация работы учебного заведения\\n2 класс - Преподавательская деятельность\\n3 класс - Профессия\\n4 класс - Личность\\n5 класс - Социальная адаптация\\n\")\n",
        "print(group_num5)\n"
      ],
      "metadata": {
        "id": "SN8KIVnKmGP0",
        "outputId": "5b2fcaf3-8965-416c-bd2b-6683b95fafdb",
        "colab": {
          "base_uri": "https://localhost:8080/"
        }
      },
      "execution_count": null,
      "outputs": [
        {
          "output_type": "stream",
          "name": "stdout",
          "text": [
            "\n",
            "Ниже указано распределение на 5 классов:\n",
            "1 класс - Организация работы учебного заведения\n",
            "2 класс - Преподавательская деятельность\n",
            "3 класс - Профессия\n",
            "4 класс - Личность\n",
            "5 класс - Социальная адаптация\n",
            "\n",
            "[1, 1, 1, 1, 1, 1, 1, 1, 1, 2, 2, 2, 2, 2, 2, 2, 2, 3, 3, 3, 3, 2, 2, 2, 4, 4, 4, 5, 4, 4, 4, 4, 5, 4, 3, 3, 4, 3, 4, 3, 3, 5, 5, 4, 3, 3, 3, 4, 4, 3, 3, 4]\n"
          ]
        }
      ]
    },
    {
      "cell_type": "markdown",
      "source": [
        "#КЛАСТЕРИЗАЦИЯ"
      ],
      "metadata": {
        "id": "u2rntFkzRDF-"
      }
    },
    {
      "cell_type": "code",
      "source": [
        "X = questions.copy()"
      ],
      "metadata": {
        "id": "XfXBvb7Em0vc"
      },
      "execution_count": null,
      "outputs": []
    },
    {
      "cell_type": "code",
      "source": [
        "kmeans = KMeans(n_clusters = 4)\n",
        "kmeans.fit(X)\n",
        "rez_kmeans = kmeans.predict(X)\n",
        "\n",
        "print(\"Ниже представлено распределение респондентов по схожести между друг другом на 4 группы:\")\n",
        "print(rez_kmeans)"
      ],
      "metadata": {
        "id": "CUuhzvCLphVM",
        "outputId": "3724c8f3-8a5b-4371-b5a5-09aebc0e1e34",
        "colab": {
          "base_uri": "https://localhost:8080/"
        }
      },
      "execution_count": null,
      "outputs": [
        {
          "output_type": "stream",
          "name": "stdout",
          "text": [
            "Ниже представлено распределение респондентов по схожести между друг другом на 4 группы:\n",
            "[0 1 2 3 2 2 2 0 2 1 1 2 3 2 0 1 1 3 0 3 3 3 0 1 2 0 2 3 2 3 2 0 2 2 3 2 1\n",
            " 1 2 2 2 2 2 0 2 1 2 3 2 3 2 1 2 1 2 2 1 3 3 1 2 1 1 2 1 2 2 2 2 2 0 3 0 3\n",
            " 1 3 3 1 3 3 1 2 3 3 1 2 2 2 1 1 1 1 1 3 2 2 2 1 1 3 3 1 1 1 1 1]\n"
          ]
        },
        {
          "output_type": "stream",
          "name": "stderr",
          "text": [
            "/usr/local/lib/python3.10/dist-packages/sklearn/cluster/_kmeans.py:870: FutureWarning: The default value of `n_init` will change from 10 to 'auto' in 1.4. Set the value of `n_init` explicitly to suppress the warning\n",
            "  warnings.warn(\n"
          ]
        }
      ]
    },
    {
      "cell_type": "markdown",
      "source": [
        "###2. Агломеративная кластеризация"
      ],
      "metadata": {
        "id": "df8IOUQ8QXPP"
      }
    },
    {
      "cell_type": "code",
      "source": [
        "hierarchical = AgglomerativeClustering(n_clusters=4)\n",
        "hierarchical.fit(X)\n",
        "rez_agglom = hierarchical.labels_\n",
        "print(rez_agglom)\n",
        "\n",
        "# for i in range(len(X)):\n",
        "#    plt.scatter(X[i, 0], X[i, 1], c='blue' if labels[i] == 0 else 'red')\n",
        "# plt.show()"
      ],
      "metadata": {
        "colab": {
          "base_uri": "https://localhost:8080/"
        },
        "id": "5_rq74uLQc2X",
        "outputId": "41e48268-44b5-4607-a3fe-37d85922b834"
      },
      "execution_count": null,
      "outputs": [
        {
          "output_type": "stream",
          "name": "stdout",
          "text": [
            "[2 1 0 0 0 0 0 2 0 1 1 0 0 0 2 1 1 1 2 3 3 3 2 1 0 2 0 3 0 3 0 2 0 0 1 0 1\n",
            " 0 0 0 0 0 0 0 0 1 0 3 0 3 0 1 0 1 0 0 1 3 3 1 0 1 1 0 1 0 0 0 0 0 2 3 2 1\n",
            " 1 1 1 1 0 1 1 0 3 3 1 0 0 0 1 1 1 1 1 3 0 0 0 1 1 1 1 1 1 1 1 1]\n"
          ]
        }
      ]
    },
    {
      "cell_type": "code",
      "source": [
        "#Собраны индексы людей, которые принадлежат каждой группе\n",
        "indexPsychotype_kmeans = {\n",
        "    0: [],\n",
        "    1: [],\n",
        "    2: [],\n",
        "    3: []\n",
        "}\n",
        "indexPsychotype_agglom = {\n",
        "    0: [],\n",
        "    1: [],\n",
        "    2: [],\n",
        "    3: []\n",
        "}\n",
        "\n",
        "for i in range(len(indexPsychotype_kmeans)):\n",
        "  for j in range(len(rez_kmeans)):\n",
        "    if(rez_kmeans[j] == i):\n",
        "      indexPsychotype_kmeans[i].append(j)\n",
        "    if(rez_agglom[j] == i):\n",
        "      indexPsychotype_agglom[i].append(j)"
      ],
      "metadata": {
        "id": "1QFOig8xq6iQ"
      },
      "execution_count": null,
      "outputs": []
    },
    {
      "cell_type": "code",
      "source": [
        "def printCluster_classQuestion(numCluster, numQuesGroup):\n",
        "  print('Группировка по классу вопросов:')\n",
        "  if(numQuesGroup == 1):\n",
        "    print('1 класс - Организация работы учебного заведения\\n')\n",
        "  elif(numQuesGroup == 2):\n",
        "    print('2 класс - Преподавательская деятельность\\n')\n",
        "  elif(numQuesGroup == 3):\n",
        "    print('3 класс - Профессия\\n')\n",
        "  elif(numQuesGroup == 4):\n",
        "    print('4 класс - Личность\\n')\n",
        "  else:\n",
        "    print('5 класс - Социальная адаптация\\n')\n",
        "\n",
        "\n",
        "  print(stat.mean((peoples.loc[questions.columns[num5[numQuesGroup]], peoples.columns[indexPsychotype_kmeans[numCluster]]].describe().T)['mean']))\n",
        "  print(stat.mean((peoples.loc[questions.columns[num5[numQuesGroup]], peoples.columns[indexPsychotype_agglom[numCluster]]].describe().T)['mean']))\n",
        "  #peoples.loc[questions.columns[num5[numQuesGroup]], peoples.columns[indexPsychotype[numCluster]]].describe().T\n",
        "\n",
        "  #km = stat.mean((peoples.loc[questions.columns[num5[numQuesGroup]], peoples.columns[indexPsychotype_kmeans[numCluster]]].describe().T)['mean'])\n",
        "    #agl = stat.mean((peoples.loc[questions.columns[num5[numQuesGroup]], peoples.columns[indexPsychotype_agglom[numCluster]]].describe().T)['mean'])\n",
        "    #print(stat.mean((peoples.loc[questions.columns[num5[numQuesGroup]], peoples.columns[indexPsychotype_kmeans[numCluster]]].describe().T)['mean']))\n",
        "    #rint(stat.mean((peoples.loc[questions.columns[num5[numQuesGroup]], peoples.columns[indexPsychotype_agglom[numCluster]]].describe().T)['mean']))\n",
        "\n",
        "    #print(peoples.loc[questions.columns[num5[numQuesGroup]], peoples.columns[indexPsychotype_kmeans[numCluster]]].describe().T)\n",
        "    #print(peoples.loc[questions.columns[num5[numQuesGroup]], peoples.columns[indexPsychotype_agglom[numCluster]]].describe().T)\n",
        "    #return [km, agl]"
      ],
      "metadata": {
        "id": "qNp9T4dCRI7u"
      },
      "execution_count": null,
      "outputs": []
    },
    {
      "cell_type": "markdown",
      "source": [
        "#Статистика по методу **k-means**"
      ],
      "metadata": {
        "id": "50iFR3EBXwNH"
      }
    },
    {
      "cell_type": "markdown",
      "source": [
        "##Статистика по 1-му кластеру:\n",
        "Статистика идёт для каждого респондента по вопросам 1-5 групп"
      ],
      "metadata": {
        "id": "wfzJ28-j7-1x"
      }
    },
    {
      "cell_type": "code",
      "source": [
        "#questions.loc[indexPeople_4[0], questions.columns[num5[1]]].describe().T)\n",
        "printCluster_classQuestion(0, 1)"
      ],
      "metadata": {
        "id": "w_fFoRmfukuF",
        "outputId": "ce3d9fa7-bda2-4e6b-e52e-83dda82c5176",
        "colab": {
          "base_uri": "https://localhost:8080/"
        }
      },
      "execution_count": null,
      "outputs": [
        {
          "output_type": "stream",
          "name": "stdout",
          "text": [
            "Группировка по классу вопросов:\n",
            "1 класс - Организация работы учебного заведения\n",
            "\n",
            "6.877777777777778\n",
            "3.426767676767677\n"
          ]
        }
      ]
    },
    {
      "cell_type": "code",
      "source": [
        "#questions.loc[indexPeople_4[0], questions.columns[num5[2]]].describe().T\n",
        "printCluster_classQuestion(0, 2)"
      ],
      "metadata": {
        "id": "1QvE-ZDSAe9I",
        "outputId": "4f827fa1-69ad-4f81-fc36-cc0be841319b",
        "colab": {
          "base_uri": "https://localhost:8080/"
        }
      },
      "execution_count": null,
      "outputs": [
        {
          "output_type": "stream",
          "name": "stdout",
          "text": [
            "Группировка по классу вопросов:\n",
            "2 класс - Преподавательская деятельность\n",
            "\n",
            "8.00909090909091\n",
            "4.285123966942149\n"
          ]
        }
      ]
    },
    {
      "cell_type": "code",
      "source": [
        "#questions.loc[indexPeople_4[0], questions.columns[num5[3]]].describe().T\n",
        "printCluster_classQuestion(0, 3)"
      ],
      "metadata": {
        "id": "UX84cgLEAiH_",
        "outputId": "66c3f9f7-b2fd-4147-d8a8-38165700134d",
        "colab": {
          "base_uri": "https://localhost:8080/"
        }
      },
      "execution_count": null,
      "outputs": [
        {
          "output_type": "stream",
          "name": "stdout",
          "text": [
            "Группировка по классу вопросов:\n",
            "3 класс - Профессия\n",
            "\n",
            "6.957142857142857\n",
            "4.1980519480519485\n"
          ]
        }
      ]
    },
    {
      "cell_type": "code",
      "source": [
        "#questions.loc[indexPeople_4[0], questions.columns[num5[4]]].describe().T\n",
        "printCluster_classQuestion(0, 4)"
      ],
      "metadata": {
        "id": "Pn_YS7XEAjxd",
        "outputId": "951ec9c1-84ca-4d59-e05a-ab9d5d326339",
        "colab": {
          "base_uri": "https://localhost:8080/"
        }
      },
      "execution_count": null,
      "outputs": [
        {
          "output_type": "stream",
          "name": "stdout",
          "text": [
            "Группировка по классу вопросов:\n",
            "4 класс - Личность\n",
            "\n",
            "7.235714285714286\n",
            "5.027597402597403\n"
          ]
        }
      ]
    },
    {
      "cell_type": "code",
      "source": [
        "#questions.loc[indexPeople_4[0], questions.columns[num5[5]]].describe().T\n",
        "printCluster_classQuestion(0, 5)"
      ],
      "metadata": {
        "id": "jNEJrIXQAlO3",
        "outputId": "b6a1de9a-7728-4084-bc8b-05902ce49c9d",
        "colab": {
          "base_uri": "https://localhost:8080/"
        }
      },
      "execution_count": null,
      "outputs": [
        {
          "output_type": "stream",
          "name": "stdout",
          "text": [
            "Группировка по классу вопросов:\n",
            "5 класс - Социальная адаптация\n",
            "\n",
            "5.175\n",
            "2.0113636363636362\n"
          ]
        }
      ]
    },
    {
      "cell_type": "markdown",
      "source": [
        "##Статистика по 2-му кластеру:"
      ],
      "metadata": {
        "id": "wFxUfMEXAW89"
      }
    },
    {
      "cell_type": "code",
      "source": [
        "#questions.loc[indexPeople_4[1], :].describe().T\n",
        "printCluster_classQuestion(1, 1)"
      ],
      "metadata": {
        "id": "ngRczpeVv04L",
        "outputId": "47f55dfa-2304-44b7-915c-ddc510704998",
        "colab": {
          "base_uri": "https://localhost:8080/"
        }
      },
      "execution_count": null,
      "outputs": [
        {
          "output_type": "stream",
          "name": "stdout",
          "text": [
            "Группировка по классу вопросов:\n",
            "1 класс - Организация работы учебного заведения\n",
            "\n",
            "1.8506944444444444\n",
            "2.388888888888889\n"
          ]
        }
      ]
    },
    {
      "cell_type": "code",
      "source": [
        "#stat.mean((questions.loc[indexPeople_4[1], questions.columns[num5[2]]].describe().T)['mean'])\n",
        "printCluster_classQuestion(1, 2)"
      ],
      "metadata": {
        "id": "OOvX2abkJr9L",
        "outputId": "3abedc06-0a09-488b-a931-541c3e749711",
        "colab": {
          "base_uri": "https://localhost:8080/"
        }
      },
      "execution_count": null,
      "outputs": [
        {
          "output_type": "stream",
          "name": "stdout",
          "text": [
            "Группировка по классу вопросов:\n",
            "2 класс - Преподавательская деятельность\n",
            "\n",
            "1.6875\n",
            "3.3977272727272725\n"
          ]
        }
      ]
    },
    {
      "cell_type": "code",
      "source": [
        "#stat.mean((questions.loc[indexPeople_4[1], questions.columns[num5[3]]].describe().T)['mean'])\n",
        "printCluster_classQuestion(1, 3)"
      ],
      "metadata": {
        "id": "6bPCR2mWJuIc",
        "outputId": "d6d92f8f-ea98-4362-a1d9-c5fb59fe6f99",
        "colab": {
          "base_uri": "https://localhost:8080/"
        }
      },
      "execution_count": null,
      "outputs": [
        {
          "output_type": "stream",
          "name": "stdout",
          "text": [
            "Группировка по классу вопросов:\n",
            "3 класс - Профессия\n",
            "\n",
            "1.15625\n",
            "1.8214285714285714\n"
          ]
        }
      ]
    },
    {
      "cell_type": "code",
      "source": [
        "#stat.mean((questions.loc[indexPeople_4[1], questions.columns[num5[4]]].describe().T)['mean'])\n",
        "printCluster_classQuestion(1, 4)"
      ],
      "metadata": {
        "id": "vc3fQh_YJw5v",
        "outputId": "3a1f86e6-e7d2-4fd9-d057-0bca5b1bb0e1",
        "colab": {
          "base_uri": "https://localhost:8080/"
        }
      },
      "execution_count": null,
      "outputs": [
        {
          "output_type": "stream",
          "name": "stdout",
          "text": [
            "Группировка по классу вопросов:\n",
            "4 класс - Личность\n",
            "\n",
            "2.267857142857143\n",
            "3.392857142857143\n"
          ]
        }
      ]
    },
    {
      "cell_type": "code",
      "source": [
        "#stat.mean((questions.loc[indexPeople_4[1], questions.columns[num5[5]]].describe().T)['mean'])\n",
        "printCluster_classQuestion(1, 5)"
      ],
      "metadata": {
        "id": "yh_3nbppJy6Y",
        "outputId": "e5359b65-7fe5-4ee3-c062-4024ea921c8f",
        "colab": {
          "base_uri": "https://localhost:8080/"
        }
      },
      "execution_count": null,
      "outputs": [
        {
          "output_type": "stream",
          "name": "stdout",
          "text": [
            "Группировка по классу вопросов:\n",
            "5 класс - Социальная адаптация\n",
            "\n",
            "0.703125\n",
            "0.9375\n"
          ]
        }
      ]
    },
    {
      "cell_type": "markdown",
      "source": [
        "##Статистика по 3-му кластеру:"
      ],
      "metadata": {
        "id": "ONF-eWSmAY5q"
      }
    },
    {
      "cell_type": "code",
      "source": [
        "#questions.loc[indexPeople_4[2], :].describe().T\n",
        "printCluster_classQuestion(2, 1)"
      ],
      "metadata": {
        "id": "JYs1cXt6v4Bv",
        "outputId": "86dae8c7-ba6e-4cc5-f9f2-6ef290009b0a",
        "colab": {
          "base_uri": "https://localhost:8080/"
        }
      },
      "execution_count": null,
      "outputs": [
        {
          "output_type": "stream",
          "name": "stdout",
          "text": [
            "Группировка по классу вопросов:\n",
            "1 класс - Организация работы учебного заведения\n",
            "\n",
            "3.4138888888888888\n",
            "6.864197530864198\n"
          ]
        }
      ]
    },
    {
      "cell_type": "code",
      "source": [
        "#stat.mean((questions.loc[indexPeople_4[2], questions.columns[num5[2]]].describe().T)['mean'])\n",
        "printCluster_classQuestion(2, 2)"
      ],
      "metadata": {
        "id": "fwAlawm9J9wO",
        "outputId": "ef185116-2c70-49d4-e4fe-390205c774ba",
        "colab": {
          "base_uri": "https://localhost:8080/"
        }
      },
      "execution_count": null,
      "outputs": [
        {
          "output_type": "stream",
          "name": "stdout",
          "text": [
            "Группировка по классу вопросов:\n",
            "2 класс - Преподавательская деятельность\n",
            "\n",
            "4.25\n",
            "8.313131313131313\n"
          ]
        }
      ]
    },
    {
      "cell_type": "code",
      "source": [
        "#stat.mean((questions.loc[indexPeople_4[2], questions.columns[num5[3]]].describe().T)['mean'])\n",
        "printCluster_classQuestion(2, 3)"
      ],
      "metadata": {
        "id": "y3243AGsAakO",
        "outputId": "d28cc972-ce6b-4d96-98e0-0acdbddcfe1b",
        "colab": {
          "base_uri": "https://localhost:8080/"
        }
      },
      "execution_count": null,
      "outputs": [
        {
          "output_type": "stream",
          "name": "stdout",
          "text": [
            "Группировка по классу вопросов:\n",
            "3 класс - Профессия\n",
            "\n",
            "4.2839285714285715\n",
            "7.103174603174604\n"
          ]
        }
      ]
    },
    {
      "cell_type": "code",
      "source": [
        "#stat.mean((questions.loc[indexPeople_4[2], questions.columns[num5[4]]].describe().T)['mean'])\n",
        "printCluster_classQuestion(2, 4)"
      ],
      "metadata": {
        "id": "mQDBz6M4KA5d",
        "outputId": "3c201b7c-345b-4912-dbba-bc6b0890539e",
        "colab": {
          "base_uri": "https://localhost:8080/"
        }
      },
      "execution_count": null,
      "outputs": [
        {
          "output_type": "stream",
          "name": "stdout",
          "text": [
            "Группировка по классу вопросов:\n",
            "4 класс - Личность\n",
            "\n",
            "5.060714285714286\n",
            "7.3730158730158735\n"
          ]
        }
      ]
    },
    {
      "cell_type": "code",
      "source": [
        "#stat.mean((questions.loc[indexPeople_4[2], questions.columns[num5[5]]].describe().T)['mean'])\n",
        "printCluster_classQuestion(2, 5)"
      ],
      "metadata": {
        "id": "H5HftDceKCk-",
        "outputId": "8f5d1153-2467-425f-fc6a-63d526a2163c",
        "colab": {
          "base_uri": "https://localhost:8080/"
        }
      },
      "execution_count": null,
      "outputs": [
        {
          "output_type": "stream",
          "name": "stdout",
          "text": [
            "Группировка по классу вопросов:\n",
            "5 класс - Социальная адаптация\n",
            "\n",
            "2.0375\n",
            "5.416666666666667\n"
          ]
        }
      ]
    },
    {
      "cell_type": "markdown",
      "source": [
        "##Статистика по 4-му кластеру:"
      ],
      "metadata": {
        "id": "AI_W2LA1Aa9d"
      }
    },
    {
      "cell_type": "code",
      "source": [
        "#questions.loc[indexPeople_4[3], :].describe().T\n",
        "printCluster_classQuestion(3, 1)"
      ],
      "metadata": {
        "id": "6Iq4FGY5v6Lx",
        "outputId": "8b294628-af6e-4e19-b75e-b6681919556f",
        "colab": {
          "base_uri": "https://localhost:8080/"
        }
      },
      "execution_count": null,
      "outputs": [
        {
          "output_type": "stream",
          "name": "stdout",
          "text": [
            "Группировка по классу вопросов:\n",
            "1 класс - Организация работы учебного заведения\n",
            "\n",
            "3.662037037037037\n",
            "4.35042735042735\n"
          ]
        }
      ]
    },
    {
      "cell_type": "code",
      "source": [
        "#stat.mean((questions.loc[indexPeople_4[3], questions.columns[num5[2]]].describe().T)['mean'])\n",
        "printCluster_classQuestion(3, 2)"
      ],
      "metadata": {
        "id": "Xj5IokoCKNNo",
        "outputId": "18134163-3cf6-4046-d11b-85f4e9ef4eb6",
        "colab": {
          "base_uri": "https://localhost:8080/"
        }
      },
      "execution_count": null,
      "outputs": [
        {
          "output_type": "stream",
          "name": "stdout",
          "text": [
            "Группировка по классу вопросов:\n",
            "2 класс - Преподавательская деятельность\n",
            "\n",
            "4.549242424242424\n",
            "5.111888111888112\n"
          ]
        }
      ]
    },
    {
      "cell_type": "code",
      "source": [
        "#stat.mean((questions.loc[indexPeople_4[3], questions.columns[num5[3]]].describe().T)['mean'])\n",
        "printCluster_classQuestion(3, 3)"
      ],
      "metadata": {
        "id": "b9RPGVjB7SEK",
        "outputId": "fe747582-c503-4a47-a251-7c2b35ab8823",
        "colab": {
          "base_uri": "https://localhost:8080/"
        }
      },
      "execution_count": null,
      "outputs": [
        {
          "output_type": "stream",
          "name": "stdout",
          "text": [
            "Группировка по классу вопросов:\n",
            "3 класс - Профессия\n",
            "\n",
            "2.324404761904762\n",
            "2.3516483516483517\n"
          ]
        }
      ]
    },
    {
      "cell_type": "code",
      "source": [
        "#stat.mean((questions.loc[indexPeople_4[3], questions.columns[num5[4]]].describe().T)['mean'])\n",
        "printCluster_classQuestion(3, 4)"
      ],
      "metadata": {
        "id": "qgZKENYDKQVF",
        "outputId": "cebe55ac-e46c-4f29-cece-462abcf6e651",
        "colab": {
          "base_uri": "https://localhost:8080/"
        }
      },
      "execution_count": null,
      "outputs": [
        {
          "output_type": "stream",
          "name": "stdout",
          "text": [
            "Группировка по классу вопросов:\n",
            "4 класс - Личность\n",
            "\n",
            "3.2589285714285716\n",
            "2.697802197802198\n"
          ]
        }
      ]
    },
    {
      "cell_type": "code",
      "source": [
        "#stat.mean((questions.loc[indexPeople_4[3], questions.columns[num5[5]]].describe().T)['mean'])\n",
        "printCluster_classQuestion(3, 5)"
      ],
      "metadata": {
        "id": "TkLAaW2XKQ-u",
        "outputId": "8659e1f5-af09-47b5-9f15-381ef9b8bbab",
        "colab": {
          "base_uri": "https://localhost:8080/"
        }
      },
      "execution_count": null,
      "outputs": [
        {
          "output_type": "stream",
          "name": "stdout",
          "text": [
            "Группировка по классу вопросов:\n",
            "5 класс - Социальная адаптация\n",
            "\n",
            "1.3020833333333333\n",
            "1.4038461538461537\n"
          ]
        }
      ]
    },
    {
      "cell_type": "markdown",
      "source": [
        "#КЛАССИФИКАЦИЯ (С УЧИТЕЛЕМ)\n",
        "\n",
        "####Самые недовольные - **холерики**\n",
        "####После идут **сангвиники** (энергичные, не имеют проблем в общении, теряют интерес к рутине) и **меланхолики** (нестабильные, чувствительные, одинокие, но трудолюбивые). Они на одном уровне - среднем.\n",
        "####Самые лояльные - **флегматики**."
      ],
      "metadata": {
        "id": "JEdBlI1VUF8T"
      }
    },
    {
      "cell_type": "code",
      "source": [
        "#indexPsychotype - содержит ключ (номер психотипа) с массивом индексов респондентов\n",
        "#rez_kmeans - содержит соответствиме индекса респондента с номером психотипа (от 0 до 3) - ОДНОМЕРНЫЙ СПИСОК\n",
        "\n",
        "namePsychotype_kmeans = ['Сангвиник','Меланхолик','Флегматик','Холерик']\n",
        "#namePsychotype_aglom = ['','','','']\n",
        "\n",
        "x_train, x_test, y_train, y_test = train_test_split(questions, rez_kmeans, test_size=0.2, random_state=0)\n",
        "x_train2, x_test2, y_train2, y_test2 = train_test_split(questions, rez_agglom, test_size=0.2, random_state=0)"
      ],
      "metadata": {
        "id": "k4EjA2oLUKWq"
      },
      "execution_count": null,
      "outputs": []
    },
    {
      "cell_type": "markdown",
      "source": [
        "###1. SVM"
      ],
      "metadata": {
        "id": "h0BhvMzpMf8U"
      }
    },
    {
      "cell_type": "code",
      "source": [
        "svm = SVC(kernel='linear', C=1.0, random_state=1)\n",
        "svm.fit(x_train, y_train)\n",
        "y_pred_svm = svm.predict(x_test)\n",
        "print(classification_report(y_test, y_pred_svm, target_names=namePsychotype_kmeans))\n",
        "#print(classification_report(y_test, y_pred_svm))"
      ],
      "metadata": {
        "colab": {
          "base_uri": "https://localhost:8080/"
        },
        "id": "uor7bWGdIT9m",
        "outputId": "5c924586-1a18-470e-d288-b2fd0b693823"
      },
      "execution_count": null,
      "outputs": [
        {
          "output_type": "stream",
          "name": "stdout",
          "text": [
            "              precision    recall  f1-score   support\n",
            "\n",
            "   Сангвиник       1.00      1.00      1.00         2\n",
            "  Меланхолик       1.00      1.00      1.00         7\n",
            "   Флегматик       1.00      1.00      1.00         9\n",
            "     Холерик       1.00      1.00      1.00         4\n",
            "\n",
            "    accuracy                           1.00        22\n",
            "   macro avg       1.00      1.00      1.00        22\n",
            "weighted avg       1.00      1.00      1.00        22\n",
            "\n"
          ]
        }
      ]
    },
    {
      "cell_type": "code",
      "source": [
        "#rez_agglom - другой метод кластеризации\n",
        "\n",
        "svm.fit(x_train2, y_train2)\n",
        "y_pred_svm2 = svm.predict(x_test2)\n",
        "print(classification_report(y_test2, y_pred_svm2))"
      ],
      "metadata": {
        "colab": {
          "base_uri": "https://localhost:8080/"
        },
        "id": "wpn2s0j0Senq",
        "outputId": "91a9e5bd-f65f-42ac-d9ed-6262f00182a5"
      },
      "execution_count": null,
      "outputs": [
        {
          "output_type": "stream",
          "name": "stdout",
          "text": [
            "              precision    recall  f1-score   support\n",
            "\n",
            "           0       1.00      0.89      0.94         9\n",
            "           1       0.91      0.91      0.91        11\n",
            "           2       1.00      1.00      1.00         2\n",
            "           3       0.00      0.00      0.00         0\n",
            "\n",
            "    accuracy                           0.91        22\n",
            "   macro avg       0.73      0.70      0.71        22\n",
            "weighted avg       0.95      0.91      0.93        22\n",
            "\n"
          ]
        },
        {
          "output_type": "stream",
          "name": "stderr",
          "text": [
            "/usr/local/lib/python3.10/dist-packages/sklearn/metrics/_classification.py:1344: UndefinedMetricWarning: Recall and F-score are ill-defined and being set to 0.0 in labels with no true samples. Use `zero_division` parameter to control this behavior.\n",
            "  _warn_prf(average, modifier, msg_start, len(result))\n",
            "/usr/local/lib/python3.10/dist-packages/sklearn/metrics/_classification.py:1344: UndefinedMetricWarning: Recall and F-score are ill-defined and being set to 0.0 in labels with no true samples. Use `zero_division` parameter to control this behavior.\n",
            "  _warn_prf(average, modifier, msg_start, len(result))\n",
            "/usr/local/lib/python3.10/dist-packages/sklearn/metrics/_classification.py:1344: UndefinedMetricWarning: Recall and F-score are ill-defined and being set to 0.0 in labels with no true samples. Use `zero_division` parameter to control this behavior.\n",
            "  _warn_prf(average, modifier, msg_start, len(result))\n"
          ]
        }
      ]
    },
    {
      "cell_type": "markdown",
      "source": [
        "###2. Дерево решений"
      ],
      "metadata": {
        "id": "EPbmkZ3_Mk60"
      }
    },
    {
      "cell_type": "code",
      "source": [
        "from sklearn.tree import DecisionTreeClassifier\n",
        "\n",
        "tree = DecisionTreeClassifier(criterion='gini',\n",
        "                              max_depth=4,\n",
        "                              random_state=1)\n",
        "tree.fit(x_train, y_train)\n",
        "y_pred_tree = tree.predict(x_test)\n",
        "print(classification_report(y_test, y_pred_tree, target_names=namePsychotype))"
      ],
      "metadata": {
        "colab": {
          "base_uri": "https://localhost:8080/"
        },
        "id": "9wV42y_HMmUf",
        "outputId": "2ebe1af3-1817-4f78-ffdf-5eb83444be1e"
      },
      "execution_count": null,
      "outputs": [
        {
          "output_type": "stream",
          "name": "stdout",
          "text": [
            "              precision    recall  f1-score   support\n",
            "\n",
            "   Сангвиник       0.00      0.00      0.00         2\n",
            "  Меланхолик       0.70      1.00      0.82         7\n",
            "   Флегматик       0.57      0.44      0.50         9\n",
            "     Холерик       0.40      0.50      0.44         4\n",
            "\n",
            "    accuracy                           0.59        22\n",
            "   macro avg       0.42      0.49      0.44        22\n",
            "weighted avg       0.53      0.59      0.55        22\n",
            "\n"
          ]
        },
        {
          "output_type": "stream",
          "name": "stderr",
          "text": [
            "/usr/local/lib/python3.10/dist-packages/sklearn/metrics/_classification.py:1344: UndefinedMetricWarning: Precision and F-score are ill-defined and being set to 0.0 in labels with no predicted samples. Use `zero_division` parameter to control this behavior.\n",
            "  _warn_prf(average, modifier, msg_start, len(result))\n",
            "/usr/local/lib/python3.10/dist-packages/sklearn/metrics/_classification.py:1344: UndefinedMetricWarning: Precision and F-score are ill-defined and being set to 0.0 in labels with no predicted samples. Use `zero_division` parameter to control this behavior.\n",
            "  _warn_prf(average, modifier, msg_start, len(result))\n",
            "/usr/local/lib/python3.10/dist-packages/sklearn/metrics/_classification.py:1344: UndefinedMetricWarning: Precision and F-score are ill-defined and being set to 0.0 in labels with no predicted samples. Use `zero_division` parameter to control this behavior.\n",
            "  _warn_prf(average, modifier, msg_start, len(result))\n"
          ]
        }
      ]
    },
    {
      "cell_type": "code",
      "source": [
        "tree.fit(x_train2, y_train2)\n",
        "y_pred_tree2 = tree.predict(x_test2)\n",
        "print(classification_report(y_test2, y_pred_tree2))"
      ],
      "metadata": {
        "colab": {
          "base_uri": "https://localhost:8080/"
        },
        "id": "jFeK4Ur5TMQZ",
        "outputId": "acc5a334-19a0-4e84-8863-925559ae0a34"
      },
      "execution_count": null,
      "outputs": [
        {
          "output_type": "stream",
          "name": "stdout",
          "text": [
            "              precision    recall  f1-score   support\n",
            "\n",
            "           0       0.56      0.56      0.56         9\n",
            "           1       0.89      0.73      0.80        11\n",
            "           2       0.50      0.50      0.50         2\n",
            "           3       0.00      0.00      0.00         0\n",
            "\n",
            "    accuracy                           0.64        22\n",
            "   macro avg       0.49      0.45      0.46        22\n",
            "weighted avg       0.72      0.64      0.67        22\n",
            "\n"
          ]
        },
        {
          "output_type": "stream",
          "name": "stderr",
          "text": [
            "/usr/local/lib/python3.10/dist-packages/sklearn/metrics/_classification.py:1344: UndefinedMetricWarning: Recall and F-score are ill-defined and being set to 0.0 in labels with no true samples. Use `zero_division` parameter to control this behavior.\n",
            "  _warn_prf(average, modifier, msg_start, len(result))\n",
            "/usr/local/lib/python3.10/dist-packages/sklearn/metrics/_classification.py:1344: UndefinedMetricWarning: Recall and F-score are ill-defined and being set to 0.0 in labels with no true samples. Use `zero_division` parameter to control this behavior.\n",
            "  _warn_prf(average, modifier, msg_start, len(result))\n",
            "/usr/local/lib/python3.10/dist-packages/sklearn/metrics/_classification.py:1344: UndefinedMetricWarning: Recall and F-score are ill-defined and being set to 0.0 in labels with no true samples. Use `zero_division` parameter to control this behavior.\n",
            "  _warn_prf(average, modifier, msg_start, len(result))\n"
          ]
        }
      ]
    },
    {
      "cell_type": "markdown",
      "source": [
        "###3. Наивный Байес\n"
      ],
      "metadata": {
        "id": "WTBabHmAPY0A"
      }
    },
    {
      "cell_type": "code",
      "source": [
        "from sklearn.naive_bayes import GaussianNB\n",
        "from sklearn.metrics import accuracy_score\n",
        "model = GaussianNB()\n",
        "model.fit(x_train, y_train)\n",
        "accuracy = accuracy_score(y_test, model.predict(x_test))"
      ],
      "metadata": {
        "id": "Md9u6TEAN6Z1"
      },
      "execution_count": null,
      "outputs": []
    }
  ]
}