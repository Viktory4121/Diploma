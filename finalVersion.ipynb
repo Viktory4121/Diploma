{
  "nbformat": 4,
  "nbformat_minor": 0,
  "metadata": {
    "colab": {
      "provenance": [],
      "include_colab_link": true
    },
    "kernelspec": {
      "name": "python3",
      "display_name": "Python 3"
    },
    "language_info": {
      "name": "python"
    }
  },
  "cells": [
    {
      "cell_type": "markdown",
      "metadata": {
        "id": "view-in-github",
        "colab_type": "text"
      },
      "source": [
        "<a href=\"https://colab.research.google.com/github/Viktory4121/diploma/blob/main/finalVersion.ipynb\" target=\"_parent\"><img src=\"https://colab.research.google.com/assets/colab-badge.svg\" alt=\"Open In Colab\"/></a>"
      ]
    },
    {
      "cell_type": "code",
      "execution_count": 1,
      "metadata": {
        "id": "1PCNvd9tlfdM"
      },
      "outputs": [],
      "source": [
        "from google.colab import files\n",
        "#import xlrd\n",
        "import pandas as pd\n",
        "import numpy as np\n",
        "import statistics as stat\n",
        "#%matplotlib inline\n",
        "#import matplotlib.pyplot as plt\n",
        "from sklearn.cluster import KMeans\n",
        "\n",
        "#import modules\n",
        "#from sklearn.linear_model import LinearRegression\n",
        "from sklearn.model_selection import train_test_split\n",
        "from sklearn.metrics import mean_absolute_error, mean_squared_error, median_absolute_error, r2_score\n",
        "#from sklearn import metrics\n",
        "\n",
        "\n",
        "# Сброс ограничений на количество выводимых рядов\n",
        "pd.set_option('display.max_rows', None)\n",
        "# Сброс ограничений на число столбцов\n",
        "pd.set_option('display.max_columns', None)\n",
        "# Сброс ограничений на количество символов в записи\n",
        "pd.set_option('display.max_colwidth', None)"
      ]
    },
    {
      "cell_type": "code",
      "source": [
        "uploaded = files.upload()"
      ],
      "metadata": {
        "id": "eq0Cc3K6lyfO",
        "outputId": "ad1fb760-2e85-46a5-b6c6-41670c83bcfb",
        "colab": {
          "base_uri": "https://localhost:8080/",
          "height": 73
        }
      },
      "execution_count": 2,
      "outputs": [
        {
          "output_type": "display_data",
          "data": {
            "text/plain": [
              "<IPython.core.display.HTML object>"
            ],
            "text/html": [
              "\n",
              "     <input type=\"file\" id=\"files-a293682c-7230-453d-95eb-5fd6aae74ccc\" name=\"files[]\" multiple disabled\n",
              "        style=\"border:none\" />\n",
              "     <output id=\"result-a293682c-7230-453d-95eb-5fd6aae74ccc\">\n",
              "      Upload widget is only available when the cell has been executed in the\n",
              "      current browser session. Please rerun this cell to enable.\n",
              "      </output>\n",
              "      <script>// Copyright 2017 Google LLC\n",
              "//\n",
              "// Licensed under the Apache License, Version 2.0 (the \"License\");\n",
              "// you may not use this file except in compliance with the License.\n",
              "// You may obtain a copy of the License at\n",
              "//\n",
              "//      http://www.apache.org/licenses/LICENSE-2.0\n",
              "//\n",
              "// Unless required by applicable law or agreed to in writing, software\n",
              "// distributed under the License is distributed on an \"AS IS\" BASIS,\n",
              "// WITHOUT WARRANTIES OR CONDITIONS OF ANY KIND, either express or implied.\n",
              "// See the License for the specific language governing permissions and\n",
              "// limitations under the License.\n",
              "\n",
              "/**\n",
              " * @fileoverview Helpers for google.colab Python module.\n",
              " */\n",
              "(function(scope) {\n",
              "function span(text, styleAttributes = {}) {\n",
              "  const element = document.createElement('span');\n",
              "  element.textContent = text;\n",
              "  for (const key of Object.keys(styleAttributes)) {\n",
              "    element.style[key] = styleAttributes[key];\n",
              "  }\n",
              "  return element;\n",
              "}\n",
              "\n",
              "// Max number of bytes which will be uploaded at a time.\n",
              "const MAX_PAYLOAD_SIZE = 100 * 1024;\n",
              "\n",
              "function _uploadFiles(inputId, outputId) {\n",
              "  const steps = uploadFilesStep(inputId, outputId);\n",
              "  const outputElement = document.getElementById(outputId);\n",
              "  // Cache steps on the outputElement to make it available for the next call\n",
              "  // to uploadFilesContinue from Python.\n",
              "  outputElement.steps = steps;\n",
              "\n",
              "  return _uploadFilesContinue(outputId);\n",
              "}\n",
              "\n",
              "// This is roughly an async generator (not supported in the browser yet),\n",
              "// where there are multiple asynchronous steps and the Python side is going\n",
              "// to poll for completion of each step.\n",
              "// This uses a Promise to block the python side on completion of each step,\n",
              "// then passes the result of the previous step as the input to the next step.\n",
              "function _uploadFilesContinue(outputId) {\n",
              "  const outputElement = document.getElementById(outputId);\n",
              "  const steps = outputElement.steps;\n",
              "\n",
              "  const next = steps.next(outputElement.lastPromiseValue);\n",
              "  return Promise.resolve(next.value.promise).then((value) => {\n",
              "    // Cache the last promise value to make it available to the next\n",
              "    // step of the generator.\n",
              "    outputElement.lastPromiseValue = value;\n",
              "    return next.value.response;\n",
              "  });\n",
              "}\n",
              "\n",
              "/**\n",
              " * Generator function which is called between each async step of the upload\n",
              " * process.\n",
              " * @param {string} inputId Element ID of the input file picker element.\n",
              " * @param {string} outputId Element ID of the output display.\n",
              " * @return {!Iterable<!Object>} Iterable of next steps.\n",
              " */\n",
              "function* uploadFilesStep(inputId, outputId) {\n",
              "  const inputElement = document.getElementById(inputId);\n",
              "  inputElement.disabled = false;\n",
              "\n",
              "  const outputElement = document.getElementById(outputId);\n",
              "  outputElement.innerHTML = '';\n",
              "\n",
              "  const pickedPromise = new Promise((resolve) => {\n",
              "    inputElement.addEventListener('change', (e) => {\n",
              "      resolve(e.target.files);\n",
              "    });\n",
              "  });\n",
              "\n",
              "  const cancel = document.createElement('button');\n",
              "  inputElement.parentElement.appendChild(cancel);\n",
              "  cancel.textContent = 'Cancel upload';\n",
              "  const cancelPromise = new Promise((resolve) => {\n",
              "    cancel.onclick = () => {\n",
              "      resolve(null);\n",
              "    };\n",
              "  });\n",
              "\n",
              "  // Wait for the user to pick the files.\n",
              "  const files = yield {\n",
              "    promise: Promise.race([pickedPromise, cancelPromise]),\n",
              "    response: {\n",
              "      action: 'starting',\n",
              "    }\n",
              "  };\n",
              "\n",
              "  cancel.remove();\n",
              "\n",
              "  // Disable the input element since further picks are not allowed.\n",
              "  inputElement.disabled = true;\n",
              "\n",
              "  if (!files) {\n",
              "    return {\n",
              "      response: {\n",
              "        action: 'complete',\n",
              "      }\n",
              "    };\n",
              "  }\n",
              "\n",
              "  for (const file of files) {\n",
              "    const li = document.createElement('li');\n",
              "    li.append(span(file.name, {fontWeight: 'bold'}));\n",
              "    li.append(span(\n",
              "        `(${file.type || 'n/a'}) - ${file.size} bytes, ` +\n",
              "        `last modified: ${\n",
              "            file.lastModifiedDate ? file.lastModifiedDate.toLocaleDateString() :\n",
              "                                    'n/a'} - `));\n",
              "    const percent = span('0% done');\n",
              "    li.appendChild(percent);\n",
              "\n",
              "    outputElement.appendChild(li);\n",
              "\n",
              "    const fileDataPromise = new Promise((resolve) => {\n",
              "      const reader = new FileReader();\n",
              "      reader.onload = (e) => {\n",
              "        resolve(e.target.result);\n",
              "      };\n",
              "      reader.readAsArrayBuffer(file);\n",
              "    });\n",
              "    // Wait for the data to be ready.\n",
              "    let fileData = yield {\n",
              "      promise: fileDataPromise,\n",
              "      response: {\n",
              "        action: 'continue',\n",
              "      }\n",
              "    };\n",
              "\n",
              "    // Use a chunked sending to avoid message size limits. See b/62115660.\n",
              "    let position = 0;\n",
              "    do {\n",
              "      const length = Math.min(fileData.byteLength - position, MAX_PAYLOAD_SIZE);\n",
              "      const chunk = new Uint8Array(fileData, position, length);\n",
              "      position += length;\n",
              "\n",
              "      const base64 = btoa(String.fromCharCode.apply(null, chunk));\n",
              "      yield {\n",
              "        response: {\n",
              "          action: 'append',\n",
              "          file: file.name,\n",
              "          data: base64,\n",
              "        },\n",
              "      };\n",
              "\n",
              "      let percentDone = fileData.byteLength === 0 ?\n",
              "          100 :\n",
              "          Math.round((position / fileData.byteLength) * 100);\n",
              "      percent.textContent = `${percentDone}% done`;\n",
              "\n",
              "    } while (position < fileData.byteLength);\n",
              "  }\n",
              "\n",
              "  // All done.\n",
              "  yield {\n",
              "    response: {\n",
              "      action: 'complete',\n",
              "    }\n",
              "  };\n",
              "}\n",
              "\n",
              "scope.google = scope.google || {};\n",
              "scope.google.colab = scope.google.colab || {};\n",
              "scope.google.colab._files = {\n",
              "  _uploadFiles,\n",
              "  _uploadFilesContinue,\n",
              "};\n",
              "})(self);\n",
              "</script> "
            ]
          },
          "metadata": {}
        },
        {
          "output_type": "stream",
          "name": "stdout",
          "text": [
            "Saving ConvertedTable.xlsx to ConvertedTable.xlsx\n"
          ]
        }
      ]
    },
    {
      "cell_type": "code",
      "source": [
        "data = pd.read_excel(uploaded['ConvertedTable.xlsx'])\n",
        "#womenData = data[data['Пол'] == 1].copy()\n",
        "#menData = data[data['Пол'] == 0].copy()\n",
        "\n",
        "questions = data[data.columns[4:]]\n",
        "peoples = questions.T"
      ],
      "metadata": {
        "id": "atYIt__zl3DT"
      },
      "execution_count": 3,
      "outputs": []
    },
    {
      "cell_type": "code",
      "source": [
        "#questions.describe()"
      ],
      "metadata": {
        "id": "aZngGqXql7eq"
      },
      "execution_count": null,
      "outputs": []
    },
    {
      "cell_type": "code",
      "source": [
        "#print('Общая статистика по респондентам\\n')\n",
        "#peoples.describe().T"
      ],
      "metadata": {
        "id": "1efb1Bq4mBZc"
      },
      "execution_count": null,
      "outputs": []
    },
    {
      "cell_type": "code",
      "source": [
        "#Распределение вопросов на 3 и на 5 групп\n",
        "\n",
        "group_num3 = [0] * 52\n",
        "group_num5 = [0] * 52\n",
        "\n",
        "num3 = {\n",
        "    1: list(range(0,17)) + list(range(21,24)),\n",
        "    2: list(range(17,21)) + [34, 35, 37, 39, 40] + list(range(44,47)) + [49, 50],\n",
        "    3: list(range(24,34)) + [36,38] + list(range(41,44)) + [47,48,51]\n",
        "}\n",
        "num5 = {\n",
        "    1: list(range(0,9)),\n",
        "    2: list(range(9,17)) + list(range(21,24)),\n",
        "    3: list(range(17,21)) + [34,35,37,39,40] + list(range(44,47)) + [49,50],\n",
        "    4: list(range(24,27)) + list(range(28,32)) + [33,36,38,43,47,48,51],\n",
        "    5: [27,32,41,42]\n",
        "}\n",
        "\n",
        "#num[1], num3[2], num3[3]\n",
        "#num3[1][0] - var[key][index_list]\n",
        "\n",
        "for i in range(len(group_num3)):\n",
        "  for j in range(1,4):\n",
        "    if i in num3[j]:\n",
        "      group_num3[i] = j\n",
        "\n",
        "for i in range(len(group_num5)):\n",
        "  for j in range(1,6):\n",
        "    if i in num5[j]:\n",
        "      group_num5[i] = j\n",
        "\n",
        "print(\"Данные массивы содержат информацию о соответствии вопроса анкеты номеру класса.\\n\")\n",
        "print(\"Ниже указано распределение на 3 класса:\\n1 класс - Учебный процесс и организация работы учебного заведения.\\n2 класс - Выбор профессии и актуальность предоставляемой информации.\\n3 класс - Внутренние переживания и личностные проблемы\")\n",
        "print(group_num3)\n",
        "\n",
        "print(\"\\nНиже указано распределение на 5 классов:\\n1 класс - Организация работы учебного заведения\\n2 класс - Преподавательская деятельность\\n3 класс - Профессия\\n4 класс - Личность\\n5 класс - Социальная адаптация\\n\")\n",
        "print(group_num5)\n"
      ],
      "metadata": {
        "id": "SN8KIVnKmGP0",
        "outputId": "fbd3c1ec-0d5b-4fc3-db07-7a9df68fb472",
        "colab": {
          "base_uri": "https://localhost:8080/"
        }
      },
      "execution_count": 4,
      "outputs": [
        {
          "output_type": "stream",
          "name": "stdout",
          "text": [
            "Данные массивы содержат информацию о соответствии вопроса анкеты номеру класса.\n",
            "\n",
            "Ниже указано распределение на 3 класса:\n",
            "1 класс - Учебный процесс и организация работы учебного заведения.\n",
            "2 класс - Выбор профессии и актуальность предоставляемой информации.\n",
            "3 класс - Внутренние переживания и личностные проблемы\n",
            "[1, 1, 1, 1, 1, 1, 1, 1, 1, 1, 1, 1, 1, 1, 1, 1, 1, 2, 2, 2, 2, 1, 1, 1, 3, 3, 3, 3, 3, 3, 3, 3, 3, 3, 2, 2, 3, 2, 3, 2, 2, 3, 3, 3, 2, 2, 2, 3, 3, 2, 2, 3]\n",
            "\n",
            "Ниже указано распределение на 5 классов:\n",
            "1 класс - Организация работы учебного заведения\n",
            "2 класс - Преподавательская деятельность\n",
            "3 класс - Профессия\n",
            "4 класс - Личность\n",
            "5 класс - Социальная адаптация\n",
            "\n",
            "[1, 1, 1, 1, 1, 1, 1, 1, 1, 2, 2, 2, 2, 2, 2, 2, 2, 3, 3, 3, 3, 2, 2, 2, 4, 4, 4, 5, 4, 4, 4, 4, 5, 4, 3, 3, 4, 3, 4, 3, 3, 5, 5, 4, 3, 3, 3, 4, 4, 3, 3, 4]\n"
          ]
        }
      ]
    },
    {
      "cell_type": "code",
      "source": [
        "#x_train, x_test = train_test_split(questions, test_size=0.2, random_state=0)\n",
        "X = questions.copy()"
      ],
      "metadata": {
        "id": "XfXBvb7Em0vc"
      },
      "execution_count": 5,
      "outputs": []
    },
    {
      "cell_type": "code",
      "source": [
        "kmeans = KMeans(n_clusters = 4)\n",
        "kmeans.fit(X)\n",
        "rez_kmeans = kmeans.predict(X)\n",
        "\n",
        "print(\"Ниже представлено распределение респондентов по схожести между друг другом на 4 группы:\")\n",
        "print(rez_kmeans)"
      ],
      "metadata": {
        "id": "CUuhzvCLphVM",
        "outputId": "3dcb9895-92c6-4e1d-bfbd-d4eac02dda2b",
        "colab": {
          "base_uri": "https://localhost:8080/"
        }
      },
      "execution_count": 6,
      "outputs": [
        {
          "output_type": "stream",
          "name": "stdout",
          "text": [
            "Ниже представлено распределение респондентов по схожести между друг другом на 4 группы:\n",
            "[1 0 3 0 3 3 3 1 3 2 2 3 0 3 1 2 2 0 1 0 0 0 1 2 0 1 3 0 3 0 3 1 3 3 0 3 2\n",
            " 0 0 3 3 3 3 1 3 2 3 0 0 0 3 2 3 2 3 3 2 0 0 2 0 2 2 3 2 3 3 3 3 0 1 0 1 0\n",
            " 2 2 2 2 1 0 2 1 0 0 2 3 3 3 0 2 2 2 2 0 3 3 0 2 2 2 2 2 2 2 2 2]\n"
          ]
        },
        {
          "output_type": "stream",
          "name": "stderr",
          "text": [
            "/usr/local/lib/python3.10/dist-packages/sklearn/cluster/_kmeans.py:870: FutureWarning: The default value of `n_init` will change from 10 to 'auto' in 1.4. Set the value of `n_init` explicitly to suppress the warning\n",
            "  warnings.warn(\n"
          ]
        }
      ]
    },
    {
      "cell_type": "code",
      "source": [
        "#нужно посмотреть каждый кластер отдельно на статистику, чтобы понять, к какому психотипу относится каждая группа\n",
        "#или поделить и людей на кластеры, и каждый кластер посмотреть на влияние группы из вопросов на неё\n"
      ],
      "metadata": {
        "id": "MvWTxLUOqaN4"
      },
      "execution_count": null,
      "outputs": []
    },
    {
      "cell_type": "code",
      "source": [
        "#Собраны индексы людей, которые принадлежат каждой группе\n",
        "indexPeople_4 = {\n",
        "    0: [],\n",
        "    1: [],\n",
        "    2: [],\n",
        "    3: []\n",
        "}\n",
        "for i in range(len(indexPeople_4)):\n",
        "  for j in range(len(rez_kmeans)):\n",
        "    if(rez_kmeans[j] == i):\n",
        "      indexPeople_4[i].append(j)"
      ],
      "metadata": {
        "id": "1QFOig8xq6iQ"
      },
      "execution_count": 7,
      "outputs": []
    },
    {
      "cell_type": "markdown",
      "source": [
        "#Статистика по 1-му кластеру:\n",
        "Статистика идёт для каждого респондента по вопросам 1-5 групп"
      ],
      "metadata": {
        "id": "wfzJ28-j7-1x"
      }
    },
    {
      "cell_type": "code",
      "source": [],
      "metadata": {
        "id": "xyuwOHh0VlfP"
      },
      "execution_count": null,
      "outputs": []
    },
    {
      "cell_type": "code",
      "source": [
        "#print(questions.loc[indexPeople_4[0], :].describe().T)\n",
        "#questions.loc[indexPeople_4[0], questions.columns[num5[1]]].describe().T)\n",
        "\n",
        "print('По вопросу:')\n",
        "print('1 класс - Организация работы учебного заведения')\n",
        "\n",
        "\n",
        "#stat.mean((questions.loc[indexPeople_4[0], questions.columns[num5[1]]].describe().T)['mean'])\n",
        "print(stat.mean((peoples.loc[questions.columns[num5[1]], peoples.columns[indexPeople_4[0]]].describe().T)['mean']))\n",
        "#peoples.loc[questions.columns[num5[1]], peoples.columns[indexPeople_4[0]]].describe().T"
      ],
      "metadata": {
        "id": "w_fFoRmfukuF",
        "outputId": "7060af8e-5ec8-451d-9476-9e7a450f2356",
        "colab": {
          "base_uri": "https://localhost:8080/"
        }
      },
      "execution_count": 8,
      "outputs": [
        {
          "output_type": "stream",
          "name": "stdout",
          "text": [
            "По вопросу:\n",
            "1 класс - Организация работы учебного заведения\n",
            "3.6825396825396823\n"
          ]
        }
      ]
    },
    {
      "cell_type": "code",
      "source": [
        "#questions.loc[indexPeople_4[0], questions.columns[num5[2]]].describe().T\n",
        "#stat.mean((questions.loc[indexPeople_4[0], questions.columns[num5[2]]].describe().T)['mean'])\n",
        "\n",
        "print('По вопросу:')\n",
        "print('2 класс - Преподавательская деятельность')\n",
        "\n",
        "\n",
        "print(stat.mean((peoples.loc[questions.columns[num5[2]], peoples.columns[indexPeople_4[0]]].describe().T)['mean']))\n",
        "#peoples.loc[questions.columns[num5[2]], peoples.columns[indexPeople_4[0]]].describe().T"
      ],
      "metadata": {
        "id": "1QvE-ZDSAe9I",
        "outputId": "b9d00977-fff4-4670-c8e5-f302809d4e5a",
        "colab": {
          "base_uri": "https://localhost:8080/"
        }
      },
      "execution_count": 9,
      "outputs": [
        {
          "output_type": "stream",
          "name": "stdout",
          "text": [
            "По вопросу:\n",
            "2 класс - Преподавательская деятельность\n",
            "4.535714285714286\n"
          ]
        }
      ]
    },
    {
      "cell_type": "code",
      "source": [
        "#questions.loc[indexPeople_4[0], questions.columns[num5[3]]].describe().T\n",
        "#stat.mean((questions.loc[indexPeople_4[0], questions.columns[num5[3]]].describe().T)['mean'])\n",
        "\n",
        "print('По вопросу:')\n",
        "print('3 класс - Профессия')\n",
        "\n",
        "print(stat.mean((peoples.loc[questions.columns[num5[3]], peoples.columns[indexPeople_4[0]]].describe().T)['mean']))\n",
        "#peoples.loc[questions.columns[num5[3]], peoples.columns[indexPeople_4[0]]].describe().T"
      ],
      "metadata": {
        "id": "UX84cgLEAiH_",
        "outputId": "f04e5d69-2c46-47a8-ebc3-5c9a2f8109e5",
        "colab": {
          "base_uri": "https://localhost:8080/"
        }
      },
      "execution_count": 10,
      "outputs": [
        {
          "output_type": "stream",
          "name": "stdout",
          "text": [
            "По вопросу:\n",
            "3 класс - Профессия\n",
            "2.326530612244898\n"
          ]
        }
      ]
    },
    {
      "cell_type": "code",
      "source": [
        "#questions.loc[indexPeople_4[0], questions.columns[num5[4]]].describe().T\n",
        "#stat.mean((questions.loc[indexPeople_4[0], questions.columns[num5[4]]].describe().T)['mean'])\n",
        "\n",
        "print('По вопросу:')\n",
        "print('4 класс - Личность')\n",
        "\n",
        "print(stat.mean((peoples.loc[questions.columns[num5[4]], peoples.columns[indexPeople_4[0]]].describe().T)['mean']))\n",
        "#peoples.loc[questions.columns[num5[4]], peoples.columns[indexPeople_4[0]]].describe().T"
      ],
      "metadata": {
        "id": "Pn_YS7XEAjxd",
        "outputId": "ed3e0c38-7c58-42ba-ff30-d3947fffa1dd",
        "colab": {
          "base_uri": "https://localhost:8080/"
        }
      },
      "execution_count": 11,
      "outputs": [
        {
          "output_type": "stream",
          "name": "stdout",
          "text": [
            "По вопросу:\n",
            "4 класс - Личность\n",
            "3.622448979591837\n"
          ]
        }
      ]
    },
    {
      "cell_type": "code",
      "source": [
        "#questions.loc[indexPeople_4[0], questions.columns[num5[5]]].describe().T\n",
        "#stat.mean((questions.loc[indexPeople_4[0], questions.columns[num5[5]]].describe().T)['mean'])\n",
        "\n",
        "print('По вопросу:')\n",
        "print('5 класс - Социальная адаптация')\n",
        "\n",
        "print(stat.mean((peoples.loc[questions.columns[num5[5]], peoples.columns[indexPeople_4[0]]].describe().T)['mean']))\n",
        "#peoples.loc[questions.columns[num5[5]], peoples.columns[indexPeople_4[0]]].describe().T"
      ],
      "metadata": {
        "id": "jNEJrIXQAlO3",
        "outputId": "abefccf8-c80e-4a20-99f6-fcf4c615f07e",
        "colab": {
          "base_uri": "https://localhost:8080/"
        }
      },
      "execution_count": 12,
      "outputs": [
        {
          "output_type": "stream",
          "name": "stdout",
          "text": [
            "По вопросу:\n",
            "5 класс - Социальная адаптация\n",
            "1.2142857142857142\n"
          ]
        }
      ]
    },
    {
      "cell_type": "markdown",
      "source": [
        "#Статистика по 2-му кластеру:"
      ],
      "metadata": {
        "id": "wFxUfMEXAW89"
      }
    },
    {
      "cell_type": "code",
      "source": [
        "#questions.loc[indexPeople_4[1], :].describe().T\n",
        "#stat.mean((questions.loc[indexPeople_4[1], questions.columns[num5[1]]].describe().T)['mean'])\n",
        "\n",
        "print('По вопросу:')\n",
        "print('1 класс - Организация работы учебного заведения')\n",
        "\n",
        "\n",
        "#stat.mean((questions.loc[indexPeople_4[1], questions.columns[num5[1]]].describe().T)['mean'])\n",
        "print(stat.mean((peoples.loc[questions.columns[num5[1]], peoples.columns[indexPeople_4[1]]].describe().T)['mean']))\n",
        "#peoples.loc[questions.columns[num5[1]], peoples.columns[indexPeople_4[1]]].describe().T"
      ],
      "metadata": {
        "id": "ngRczpeVv04L",
        "outputId": "fb8be17e-38db-4018-9d2c-4842a69bb4a5",
        "colab": {
          "base_uri": "https://localhost:8080/"
        }
      },
      "execution_count": 16,
      "outputs": [
        {
          "output_type": "stream",
          "name": "stdout",
          "text": [
            "По вопросу:\n",
            "1 класс - Организация работы учебного заведения\n",
            "6.361111111111111\n"
          ]
        }
      ]
    },
    {
      "cell_type": "code",
      "source": [
        "#stat.mean((questions.loc[indexPeople_4[1], questions.columns[num5[2]]].describe().T)['mean'])\n",
        "\n",
        "print('По вопросу:')\n",
        "print('2 класс - Преподавательская деятельность')\n",
        "\n",
        "\n",
        "#stat.mean((questions.loc[indexPeople_4[1], questions.columns[num5[2]]].describe().T)['mean'])\n",
        "print(stat.mean((peoples.loc[questions.columns[num5[2]], peoples.columns[indexPeople_4[1]]].describe().T)['mean']))\n",
        "#peoples.loc[questions.columns[num5[2]], peoples.columns[indexPeople_4[1]]].describe().T"
      ],
      "metadata": {
        "id": "OOvX2abkJr9L",
        "outputId": "40de8881-2785-4740-8bad-4f4237939d1d",
        "colab": {
          "base_uri": "https://localhost:8080/"
        }
      },
      "execution_count": 17,
      "outputs": [
        {
          "output_type": "stream",
          "name": "stdout",
          "text": [
            "По вопросу:\n",
            "\n",
            "7.568181818181818\n"
          ]
        }
      ]
    },
    {
      "cell_type": "code",
      "source": [
        "#stat.mean((questions.loc[indexPeople_4[1], questions.columns[num5[3]]].describe().T)['mean'])\n",
        "\n",
        "print('По вопросу:')\n",
        "print('3 класс - Профессия')\n",
        "\n",
        "\n",
        "#stat.mean((questions.loc[indexPeople_4[1], questions.columns[num5[3]]].describe().T)['mean'])\n",
        "print(stat.mean((peoples.loc[questions.columns[num5[3]], peoples.columns[indexPeople_4[1]]].describe().T)['mean']))\n",
        "#peoples.loc[questions.columns[num5[3]], peoples.columns[indexPeople_4[1]]].describe().T"
      ],
      "metadata": {
        "id": "6bPCR2mWJuIc",
        "outputId": "59d08015-7107-4f04-a592-01ae904f19c9",
        "colab": {
          "base_uri": "https://localhost:8080/"
        }
      },
      "execution_count": 18,
      "outputs": [
        {
          "output_type": "stream",
          "name": "stdout",
          "text": [
            "По вопросу:\n",
            "\n",
            "6.571428571428571\n"
          ]
        }
      ]
    },
    {
      "cell_type": "code",
      "source": [
        "#stat.mean((questions.loc[indexPeople_4[1], questions.columns[num5[4]]].describe().T)['mean'])\n",
        "\n",
        "print('По вопросу:')\n",
        "print('4 класс - Личность')\n",
        "\n",
        "\n",
        "#stat.mean((questions.loc[indexPeople_4[1], questions.columns[num5[4]]].describe().T)['mean'])\n",
        "print(stat.mean((peoples.loc[questions.columns[num5[4]], peoples.columns[indexPeople_4[1]]].describe().T)['mean']))\n",
        "#peoples.loc[questions.columns[num5[4]], peoples.columns[indexPeople_4[1]]].describe().T"
      ],
      "metadata": {
        "id": "vc3fQh_YJw5v",
        "outputId": "a5e1898e-96ff-4dde-c483-1c1d702ad2af",
        "colab": {
          "base_uri": "https://localhost:8080/"
        }
      },
      "execution_count": 19,
      "outputs": [
        {
          "output_type": "stream",
          "name": "stdout",
          "text": [
            "По вопросу:\n",
            "\n",
            "7.261904761904762\n"
          ]
        }
      ]
    },
    {
      "cell_type": "code",
      "source": [
        "#stat.mean((questions.loc[indexPeople_4[1], questions.columns[num5[5]]].describe().T)['mean'])\n",
        "\n",
        "print('По вопросу:')\n",
        "print('5 класс - Социальная адаптация')\n",
        "\n",
        "\n",
        "#stat.mean((questions.loc[indexPeople_4[1], questions.columns[num5[5]]].describe().T)['mean'])\n",
        "print(stat.mean((peoples.loc[questions.columns[num5[5]], peoples.columns[indexPeople_4[1]]].describe().T)['mean']))\n",
        "#peoples.loc[questions.columns[num5[5]], peoples.columns[indexPeople_4[1]]].describe().T"
      ],
      "metadata": {
        "id": "yh_3nbppJy6Y",
        "outputId": "6ad7a5dd-d055-44f1-e73c-7dc320bbf790",
        "colab": {
          "base_uri": "https://localhost:8080/"
        }
      },
      "execution_count": 20,
      "outputs": [
        {
          "output_type": "stream",
          "name": "stdout",
          "text": [
            "По вопросу:\n",
            "\n",
            "4.979166666666667\n"
          ]
        }
      ]
    },
    {
      "cell_type": "markdown",
      "source": [
        "#Статистика по 3-му кластеру:"
      ],
      "metadata": {
        "id": "ONF-eWSmAY5q"
      }
    },
    {
      "cell_type": "code",
      "source": [
        "#questions.loc[indexPeople_4[2], :].describe().T\n",
        "#stat.mean((questions.loc[indexPeople_4[2], questions.columns[num5[1]]].describe().T)['mean'])\n",
        "\n",
        "print('По вопросу:')\n",
        "print('1 класс - Организация работы учебного заведения')\n",
        "\n",
        "\n",
        "#stat.mean((questions.loc[indexPeople_4[2], questions.columns[num5[1]]].describe().T)['mean'])\n",
        "print(stat.mean((peoples.loc[questions.columns[num5[1]], peoples.columns[indexPeople_4[2]]].describe().T)['mean']))\n",
        "#peoples.loc[questions.columns[num5[1]], peoples.columns[indexPeople_4[2]]].describe().T"
      ],
      "metadata": {
        "id": "JYs1cXt6v4Bv",
        "outputId": "44e094a2-9dce-4833-9481-df85f401326c",
        "colab": {
          "base_uri": "https://localhost:8080/"
        }
      },
      "execution_count": 21,
      "outputs": [
        {
          "output_type": "stream",
          "name": "stdout",
          "text": [
            "По вопросу:\n",
            "1 класс - Организация работы учебного заведения\n",
            "1.8148148148148149\n"
          ]
        }
      ]
    },
    {
      "cell_type": "code",
      "source": [
        "#stat.mean((questions.loc[indexPeople_4[2], questions.columns[num5[2]]].describe().T)['mean'])\n",
        "\n",
        "print('По вопросу:')\n",
        "print('2 класс - Преподавательская деятельность')\n",
        "\n",
        "\n",
        "#stat.mean((questions.loc[indexPeople_4[2], questions.columns[num5[2]]].describe().T)['mean'])\n",
        "print(stat.mean((peoples.loc[questions.columns[num5[2]], peoples.columns[indexPeople_4[2]]].describe().T)['mean']))\n",
        "#peoples.loc[questions.columns[num5[2]], peoples.columns[indexPeople_4[2]]].describe().T"
      ],
      "metadata": {
        "id": "fwAlawm9J9wO",
        "outputId": "c024f47f-88c9-4f02-fab8-103361251893",
        "colab": {
          "base_uri": "https://localhost:8080/"
        }
      },
      "execution_count": 22,
      "outputs": [
        {
          "output_type": "stream",
          "name": "stdout",
          "text": [
            "По вопросу:\n",
            "\n",
            "1.7079889807162534\n"
          ]
        }
      ]
    },
    {
      "cell_type": "code",
      "source": [
        "#stat.mean((questions.loc[indexPeople_4[2], questions.columns[num5[3]]].describe().T)['mean'])\n",
        "\n",
        "print('По вопросу:')\n",
        "print('3 класс - Профессия')\n",
        "\n",
        "\n",
        "#stat.mean((questions.loc[indexPeople_4[2], questions.columns[num5[3]]].describe().T)['mean'])\n",
        "print(stat.mean((peoples.loc[questions.columns[num5[3]], peoples.columns[indexPeople_4[2]]].describe().T)['mean']))\n",
        "#peoples.loc[questions.columns[num5[3]], peoples.columns[indexPeople_4[2]]].describe().T"
      ],
      "metadata": {
        "id": "y3243AGsAakO",
        "outputId": "099084c2-4f5c-4a42-b017-49423896e3f9",
        "colab": {
          "base_uri": "https://localhost:8080/"
        }
      },
      "execution_count": 23,
      "outputs": [
        {
          "output_type": "stream",
          "name": "stdout",
          "text": [
            "По вопросу:\n",
            "\n",
            "1.2012987012987013\n"
          ]
        }
      ]
    },
    {
      "cell_type": "code",
      "source": [
        "#stat.mean((questions.loc[indexPeople_4[2], questions.columns[num5[4]]].describe().T)['mean'])\n",
        "\n",
        "print('По вопросу:')\n",
        "print('4 класс - Личность')\n",
        "\n",
        "\n",
        "#stat.mean((questions.loc[indexPeople_4[2], questions.columns[num5[4]]].describe().T)['mean'])\n",
        "print(stat.mean((peoples.loc[questions.columns[num5[4]], peoples.columns[indexPeople_4[2]]].describe().T)['mean']))\n",
        "#peoples.loc[questions.columns[num5[4]], peoples.columns[indexPeople_4[2]]].describe().T"
      ],
      "metadata": {
        "id": "mQDBz6M4KA5d",
        "outputId": "0cf2988f-e614-43d0-f703-6ae12000af53",
        "colab": {
          "base_uri": "https://localhost:8080/"
        }
      },
      "execution_count": 24,
      "outputs": [
        {
          "output_type": "stream",
          "name": "stdout",
          "text": [
            "По вопросу:\n",
            "\n",
            "2.196969696969697\n"
          ]
        }
      ]
    },
    {
      "cell_type": "code",
      "source": [
        "#stat.mean((questions.loc[indexPeople_4[2], questions.columns[num5[5]]].describe().T)['mean'])\n",
        "\n",
        "print('По вопросу:')\n",
        "print('5 класс - Социальная адаптация')\n",
        "\n",
        "\n",
        "#stat.mean((questions.loc[indexPeople_4[2], questions.columns[num5[5]]].describe().T)['mean'])\n",
        "print(stat.mean((peoples.loc[questions.columns[num5[5]], peoples.columns[indexPeople_4[2]]].describe().T)['mean']))\n",
        "#peoples.loc[questions.columns[num5[5]], peoples.columns[indexPeople_4[2]]].describe().T"
      ],
      "metadata": {
        "id": "H5HftDceKCk-",
        "outputId": "84e5e3b8-4808-4548-939b-a11865fcc707",
        "colab": {
          "base_uri": "https://localhost:8080/"
        }
      },
      "execution_count": 25,
      "outputs": [
        {
          "output_type": "stream",
          "name": "stdout",
          "text": [
            "По вопросу:\n",
            "\n",
            "0.7272727272727273\n"
          ]
        }
      ]
    },
    {
      "cell_type": "markdown",
      "source": [
        "#Статистика по 4-му кластеру:"
      ],
      "metadata": {
        "id": "AI_W2LA1Aa9d"
      }
    },
    {
      "cell_type": "code",
      "source": [
        "#questions.loc[indexPeople_4[3], :].describe().T\n",
        "#stat.mean((questions.loc[indexPeople_4[3], questions.columns[num5[1]]].describe().T)['mean'])\n",
        "\n",
        "print('По вопросу:')\n",
        "print('1 класс - Организация работы учебного заведения')\n",
        "\n",
        "\n",
        "#stat.mean((questions.loc[indexPeople_4[3], questions.columns[num5[1]]].describe().T)['mean'])\n",
        "print(stat.mean((peoples.loc[questions.columns[num5[1]], peoples.columns[indexPeople_4[3]]].describe().T)['mean']))\n",
        "#peoples.loc[questions.columns[num5[1]], peoples.columns[indexPeople_4[3]]].describe().T"
      ],
      "metadata": {
        "id": "6Iq4FGY5v6Lx",
        "outputId": "e9cf11eb-b532-452e-8b87-c4f135c0fcff",
        "colab": {
          "base_uri": "https://localhost:8080/"
        }
      },
      "execution_count": 26,
      "outputs": [
        {
          "output_type": "stream",
          "name": "stdout",
          "text": [
            "По вопросу:\n",
            "1 класс - Организация работы учебного заведения\n",
            "3.4276094276094278\n"
          ]
        }
      ]
    },
    {
      "cell_type": "code",
      "source": [
        "#stat.mean((questions.loc[indexPeople_4[3], questions.columns[num5[2]]].describe().T)['mean'])\n",
        "\n",
        "print('По вопросу:')\n",
        "print('2 класс - Преподавательская деятельность')\n",
        "\n",
        "\n",
        "#stat.mean((questions.loc[indexPeople_4[3], questions.columns[num5[2]]].describe().T)['mean'])\n",
        "print(stat.mean((peoples.loc[questions.columns[num5[2]], peoples.columns[indexPeople_4[3]]].describe().T)['mean']))\n",
        "#peoples.loc[questions.columns[num5[2]], peoples.columns[indexPeople_4[3]]].describe().T"
      ],
      "metadata": {
        "id": "Xj5IokoCKNNo",
        "outputId": "37af0619-bfc7-470a-868e-a569d727f2b4",
        "colab": {
          "base_uri": "https://localhost:8080/"
        }
      },
      "execution_count": 27,
      "outputs": [
        {
          "output_type": "stream",
          "name": "stdout",
          "text": [
            "По вопросу:\n",
            "\n",
            "4.214876033057851\n"
          ]
        }
      ]
    },
    {
      "cell_type": "code",
      "source": [
        "#stat.mean((questions.loc[indexPeople_4[3], questions.columns[num5[3]]].describe().T)['mean'])\n",
        "\n",
        "print('По вопросу:')\n",
        "print('3 класс - Профессия')\n",
        "\n",
        "\n",
        "#stat.mean((questions.loc[indexPeople_4[3], questions.columns[num5[3]]].describe().T)['mean'])\n",
        "print(stat.mean((peoples.loc[questions.columns[num5[3]], peoples.columns[indexPeople_4[3]]].describe().T)['mean']))\n",
        "#peoples.loc[questions.columns[num5[3]], peoples.columns[indexPeople_4[3]]].describe().T"
      ],
      "metadata": {
        "id": "b9RPGVjB7SEK",
        "outputId": "8bc1d7fc-bd29-469b-f270-485a6ff001b9",
        "colab": {
          "base_uri": "https://localhost:8080/"
        }
      },
      "execution_count": 28,
      "outputs": [
        {
          "output_type": "stream",
          "name": "stdout",
          "text": [
            "По вопросу:\n",
            "\n",
            "4.5476190476190474\n"
          ]
        }
      ]
    },
    {
      "cell_type": "code",
      "source": [
        "#stat.mean((questions.loc[indexPeople_4[3], questions.columns[num5[4]]].describe().T)['mean'])\n",
        "\n",
        "print('По вопросу:')\n",
        "print('4 класс - Личность')\n",
        "\n",
        "\n",
        "#stat.mean((questions.loc[indexPeople_4[3], questions.columns[num5[4]]].describe().T)['mean'])\n",
        "print(stat.mean((peoples.loc[questions.columns[num5[4]], peoples.columns[indexPeople_4[3]]].describe().T)['mean']))\n",
        "#peoples.loc[questions.columns[num5[4]], peoples.columns[indexPeople_4[3]]].describe().T"
      ],
      "metadata": {
        "id": "qgZKENYDKQVF",
        "outputId": "e1e199b9-aadc-48b6-8892-842a8a40620f",
        "colab": {
          "base_uri": "https://localhost:8080/"
        }
      },
      "execution_count": 29,
      "outputs": [
        {
          "output_type": "stream",
          "name": "stdout",
          "text": [
            "По вопросу:\n",
            "\n",
            "4.984848484848484\n"
          ]
        }
      ]
    },
    {
      "cell_type": "code",
      "source": [
        "#stat.mean((questions.loc[indexPeople_4[3], questions.columns[num5[5]]].describe().T)['mean'])\n",
        "\n",
        "print('По вопросу:')\n",
        "print('5 класс - Социальная адаптация')\n",
        "\n",
        "\n",
        "#stat.mean((questions.loc[indexPeople_4[3], questions.columns[num5[5]]].describe().T)['mean'])\n",
        "print(stat.mean((peoples.loc[questions.columns[num5[5]], peoples.columns[indexPeople_4[3]]].describe().T)['mean']))\n",
        "#peoples.loc[questions.columns[num5[5]], peoples.columns[indexPeople_4[3]]].describe().T"
      ],
      "metadata": {
        "id": "TkLAaW2XKQ-u",
        "outputId": "d961098a-b4ee-418d-eff4-745462f11846",
        "colab": {
          "base_uri": "https://localhost:8080/"
        }
      },
      "execution_count": 30,
      "outputs": [
        {
          "output_type": "stream",
          "name": "stdout",
          "text": [
            "По вопросу:\n",
            "\n",
            "2.0984848484848486\n"
          ]
        }
      ]
    }
  ]
}