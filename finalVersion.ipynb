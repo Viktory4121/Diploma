{
  "nbformat": 4,
  "nbformat_minor": 0,
  "metadata": {
    "colab": {
      "provenance": [],
      "authorship_tag": "ABX9TyO9/QWs/PTLJkgqBkLLA9VB",
      "include_colab_link": true
    },
    "kernelspec": {
      "name": "python3",
      "display_name": "Python 3"
    },
    "language_info": {
      "name": "python"
    }
  },
  "cells": [
    {
      "cell_type": "markdown",
      "metadata": {
        "id": "view-in-github",
        "colab_type": "text"
      },
      "source": [
        "<a href=\"https://colab.research.google.com/github/Viktory4121/diploma/blob/main/finalVersion.ipynb\" target=\"_parent\"><img src=\"https://colab.research.google.com/assets/colab-badge.svg\" alt=\"Open In Colab\"/></a>"
      ]
    },
    {
      "cell_type": "code",
      "execution_count": 26,
      "metadata": {
        "id": "1PCNvd9tlfdM"
      },
      "outputs": [],
      "source": [
        "from google.colab import files\n",
        "import xlrd\n",
        "import pandas as pd\n",
        "import numpy as np\n",
        "#%matplotlib inline\n",
        "#import matplotlib.pyplot as plt\n",
        "from sklearn.cluster import KMeans\n",
        "\n",
        "#import modules\n",
        "#from sklearn.linear_model import LinearRegression\n",
        "from sklearn.model_selection import train_test_split\n",
        "from sklearn.metrics import mean_absolute_error, mean_squared_error, median_absolute_error, r2_score\n",
        "#from sklearn import metrics\n",
        "\n",
        "\n",
        "# Сброс ограничений на количество выводимых рядов\n",
        "pd.set_option('display.max_rows', None)\n",
        "# Сброс ограничений на число столбцов\n",
        "pd.set_option('display.max_columns', None)\n",
        "# Сброс ограничений на количество символов в записи\n",
        "pd.set_option('display.max_colwidth', None)"
      ]
    },
    {
      "cell_type": "code",
      "source": [
        "uploaded = files.upload()"
      ],
      "metadata": {
        "id": "eq0Cc3K6lyfO",
        "outputId": "78666c00-49ab-46a4-c5a0-9635185c8e9b",
        "colab": {
          "base_uri": "https://localhost:8080/",
          "height": 73
        }
      },
      "execution_count": null,
      "outputs": [
        {
          "output_type": "display_data",
          "data": {
            "text/plain": [
              "<IPython.core.display.HTML object>"
            ],
            "text/html": [
              "\n",
              "     <input type=\"file\" id=\"files-8c755ae9-31b1-4c28-9bf5-c5376d85a6fd\" name=\"files[]\" multiple disabled\n",
              "        style=\"border:none\" />\n",
              "     <output id=\"result-8c755ae9-31b1-4c28-9bf5-c5376d85a6fd\">\n",
              "      Upload widget is only available when the cell has been executed in the\n",
              "      current browser session. Please rerun this cell to enable.\n",
              "      </output>\n",
              "      <script>// Copyright 2017 Google LLC\n",
              "//\n",
              "// Licensed under the Apache License, Version 2.0 (the \"License\");\n",
              "// you may not use this file except in compliance with the License.\n",
              "// You may obtain a copy of the License at\n",
              "//\n",
              "//      http://www.apache.org/licenses/LICENSE-2.0\n",
              "//\n",
              "// Unless required by applicable law or agreed to in writing, software\n",
              "// distributed under the License is distributed on an \"AS IS\" BASIS,\n",
              "// WITHOUT WARRANTIES OR CONDITIONS OF ANY KIND, either express or implied.\n",
              "// See the License for the specific language governing permissions and\n",
              "// limitations under the License.\n",
              "\n",
              "/**\n",
              " * @fileoverview Helpers for google.colab Python module.\n",
              " */\n",
              "(function(scope) {\n",
              "function span(text, styleAttributes = {}) {\n",
              "  const element = document.createElement('span');\n",
              "  element.textContent = text;\n",
              "  for (const key of Object.keys(styleAttributes)) {\n",
              "    element.style[key] = styleAttributes[key];\n",
              "  }\n",
              "  return element;\n",
              "}\n",
              "\n",
              "// Max number of bytes which will be uploaded at a time.\n",
              "const MAX_PAYLOAD_SIZE = 100 * 1024;\n",
              "\n",
              "function _uploadFiles(inputId, outputId) {\n",
              "  const steps = uploadFilesStep(inputId, outputId);\n",
              "  const outputElement = document.getElementById(outputId);\n",
              "  // Cache steps on the outputElement to make it available for the next call\n",
              "  // to uploadFilesContinue from Python.\n",
              "  outputElement.steps = steps;\n",
              "\n",
              "  return _uploadFilesContinue(outputId);\n",
              "}\n",
              "\n",
              "// This is roughly an async generator (not supported in the browser yet),\n",
              "// where there are multiple asynchronous steps and the Python side is going\n",
              "// to poll for completion of each step.\n",
              "// This uses a Promise to block the python side on completion of each step,\n",
              "// then passes the result of the previous step as the input to the next step.\n",
              "function _uploadFilesContinue(outputId) {\n",
              "  const outputElement = document.getElementById(outputId);\n",
              "  const steps = outputElement.steps;\n",
              "\n",
              "  const next = steps.next(outputElement.lastPromiseValue);\n",
              "  return Promise.resolve(next.value.promise).then((value) => {\n",
              "    // Cache the last promise value to make it available to the next\n",
              "    // step of the generator.\n",
              "    outputElement.lastPromiseValue = value;\n",
              "    return next.value.response;\n",
              "  });\n",
              "}\n",
              "\n",
              "/**\n",
              " * Generator function which is called between each async step of the upload\n",
              " * process.\n",
              " * @param {string} inputId Element ID of the input file picker element.\n",
              " * @param {string} outputId Element ID of the output display.\n",
              " * @return {!Iterable<!Object>} Iterable of next steps.\n",
              " */\n",
              "function* uploadFilesStep(inputId, outputId) {\n",
              "  const inputElement = document.getElementById(inputId);\n",
              "  inputElement.disabled = false;\n",
              "\n",
              "  const outputElement = document.getElementById(outputId);\n",
              "  outputElement.innerHTML = '';\n",
              "\n",
              "  const pickedPromise = new Promise((resolve) => {\n",
              "    inputElement.addEventListener('change', (e) => {\n",
              "      resolve(e.target.files);\n",
              "    });\n",
              "  });\n",
              "\n",
              "  const cancel = document.createElement('button');\n",
              "  inputElement.parentElement.appendChild(cancel);\n",
              "  cancel.textContent = 'Cancel upload';\n",
              "  const cancelPromise = new Promise((resolve) => {\n",
              "    cancel.onclick = () => {\n",
              "      resolve(null);\n",
              "    };\n",
              "  });\n",
              "\n",
              "  // Wait for the user to pick the files.\n",
              "  const files = yield {\n",
              "    promise: Promise.race([pickedPromise, cancelPromise]),\n",
              "    response: {\n",
              "      action: 'starting',\n",
              "    }\n",
              "  };\n",
              "\n",
              "  cancel.remove();\n",
              "\n",
              "  // Disable the input element since further picks are not allowed.\n",
              "  inputElement.disabled = true;\n",
              "\n",
              "  if (!files) {\n",
              "    return {\n",
              "      response: {\n",
              "        action: 'complete',\n",
              "      }\n",
              "    };\n",
              "  }\n",
              "\n",
              "  for (const file of files) {\n",
              "    const li = document.createElement('li');\n",
              "    li.append(span(file.name, {fontWeight: 'bold'}));\n",
              "    li.append(span(\n",
              "        `(${file.type || 'n/a'}) - ${file.size} bytes, ` +\n",
              "        `last modified: ${\n",
              "            file.lastModifiedDate ? file.lastModifiedDate.toLocaleDateString() :\n",
              "                                    'n/a'} - `));\n",
              "    const percent = span('0% done');\n",
              "    li.appendChild(percent);\n",
              "\n",
              "    outputElement.appendChild(li);\n",
              "\n",
              "    const fileDataPromise = new Promise((resolve) => {\n",
              "      const reader = new FileReader();\n",
              "      reader.onload = (e) => {\n",
              "        resolve(e.target.result);\n",
              "      };\n",
              "      reader.readAsArrayBuffer(file);\n",
              "    });\n",
              "    // Wait for the data to be ready.\n",
              "    let fileData = yield {\n",
              "      promise: fileDataPromise,\n",
              "      response: {\n",
              "        action: 'continue',\n",
              "      }\n",
              "    };\n",
              "\n",
              "    // Use a chunked sending to avoid message size limits. See b/62115660.\n",
              "    let position = 0;\n",
              "    do {\n",
              "      const length = Math.min(fileData.byteLength - position, MAX_PAYLOAD_SIZE);\n",
              "      const chunk = new Uint8Array(fileData, position, length);\n",
              "      position += length;\n",
              "\n",
              "      const base64 = btoa(String.fromCharCode.apply(null, chunk));\n",
              "      yield {\n",
              "        response: {\n",
              "          action: 'append',\n",
              "          file: file.name,\n",
              "          data: base64,\n",
              "        },\n",
              "      };\n",
              "\n",
              "      let percentDone = fileData.byteLength === 0 ?\n",
              "          100 :\n",
              "          Math.round((position / fileData.byteLength) * 100);\n",
              "      percent.textContent = `${percentDone}% done`;\n",
              "\n",
              "    } while (position < fileData.byteLength);\n",
              "  }\n",
              "\n",
              "  // All done.\n",
              "  yield {\n",
              "    response: {\n",
              "      action: 'complete',\n",
              "    }\n",
              "  };\n",
              "}\n",
              "\n",
              "scope.google = scope.google || {};\n",
              "scope.google.colab = scope.google.colab || {};\n",
              "scope.google.colab._files = {\n",
              "  _uploadFiles,\n",
              "  _uploadFilesContinue,\n",
              "};\n",
              "})(self);\n",
              "</script> "
            ]
          },
          "metadata": {}
        },
        {
          "output_type": "stream",
          "name": "stdout",
          "text": [
            "Saving ConvertedTable.xlsx to ConvertedTable.xlsx\n"
          ]
        }
      ]
    },
    {
      "cell_type": "code",
      "source": [
        "data = pd.read_excel(uploaded['ConvertedTable.xlsx'])\n",
        "#womenData = data[data['Пол'] == 1].copy()\n",
        "#menData = data[data['Пол'] == 0].copy()\n",
        "\n",
        "questions = data[data.columns[4:]]\n",
        "peoples = questions.T"
      ],
      "metadata": {
        "id": "atYIt__zl3DT"
      },
      "execution_count": 27,
      "outputs": []
    },
    {
      "cell_type": "code",
      "source": [
        "#questions.describe()"
      ],
      "metadata": {
        "id": "aZngGqXql7eq"
      },
      "execution_count": null,
      "outputs": []
    },
    {
      "cell_type": "code",
      "source": [
        "#print('Общая статистика по респондентам\\n')\n",
        "#peoples.describe().T"
      ],
      "metadata": {
        "id": "1efb1Bq4mBZc"
      },
      "execution_count": null,
      "outputs": []
    },
    {
      "cell_type": "code",
      "source": [
        "#Распределение вопросов на 3 и на 5 групп\n",
        "\n",
        "group_num3 = [0] * 52\n",
        "group_num5 = [0] * 52\n",
        "\n",
        "num3 = {\n",
        "    1: list(range(0,17)) + list(range(21,24)),\n",
        "    2: list(range(17,21)) + [34, 35, 37, 39, 40] + list(range(44,47)) + [49, 50],\n",
        "    3: list(range(24,34)) + [36,38] + list(range(41,44)) + [47,48,51]\n",
        "}\n",
        "num5 = {\n",
        "    1: list(range(0,9)),\n",
        "    2: list(range(9,17)) + list(range(21,24)),\n",
        "    3: list(range(17,21)) + [34,35,37,39,40] + list(range(44,47)) + [49,50],\n",
        "    4: list(range(24,27)) + list(range(28,32)) + [33,36,38,43,47,48,51],\n",
        "    5: [27,32,41,42]\n",
        "}\n",
        "\n",
        "#num[1], num3[2], num3[3]\n",
        "#num3[1][0] - var[key][index_list]\n",
        "\n",
        "for i in range(len(group_num3)):\n",
        "  for j in range(1,4):\n",
        "    if i in num3[j]:\n",
        "      group_num3[i] = j\n",
        "\n",
        "for i in range(len(group_num5)):\n",
        "  for j in range(1,6):\n",
        "    if i in num5[j]:\n",
        "      group_num5[i] = j\n",
        "\n",
        "print(\"Данные массивы содержат информацию о соответствии вопроса анкеты номеру класса.\\n\")\n",
        "print(\"Ниже указано распределение на 3 класса:\\n1 класс - Учебный процесс и организация работы учебного заведения.\\n2 класс - Выбор профессии и актуальность предоставляемой информации.\\n3 класс - Внутренние переживания и личностные проблемы\")\n",
        "print(group_num3)\n",
        "\n",
        "print(\"\\nНиже указано распределение на 5 классов:\\n1 класс - Организация работы учебного заведения\\n2 класс - Преподавательская деятельность\\n3 класс - Профессия\\n4 класс - Личность\\n5 класс - Социальная адаптация\\n\")\n",
        "print(group_num5)\n"
      ],
      "metadata": {
        "id": "SN8KIVnKmGP0",
        "outputId": "fac241e3-4895-4dd7-c6d3-8359a8e865b8",
        "colab": {
          "base_uri": "https://localhost:8080/"
        }
      },
      "execution_count": 28,
      "outputs": [
        {
          "output_type": "stream",
          "name": "stdout",
          "text": [
            "Данные массивы содержат информацию о соответствии вопроса анкеты номеру класса.\n",
            "\n",
            "Ниже указано распределение на 3 класса:\n",
            "1 класс - Учебный процесс и организация работы учебного заведения.\n",
            "2 класс - Выбор профессии и актуальность предоставляемой информации.\n",
            "3 класс - Внутренние переживания и личностные проблемы\n",
            "[1, 1, 1, 1, 1, 1, 1, 1, 1, 1, 1, 1, 1, 1, 1, 1, 1, 2, 2, 2, 2, 1, 1, 1, 3, 3, 3, 3, 3, 3, 3, 3, 3, 3, 2, 2, 3, 2, 3, 2, 2, 3, 3, 3, 2, 2, 2, 3, 3, 2, 2, 3]\n",
            "\n",
            "Ниже указано распределение на 5 классов:\n",
            "1 класс - Организация работы учебного заведения\n",
            "2 класс - Преподавательская деятельность\n",
            "3 класс - Профессия\n",
            "4 класс - Личность\n",
            "5 класс - Социальная адаптация\n",
            "\n",
            "[1, 1, 1, 1, 1, 1, 1, 1, 1, 2, 2, 2, 2, 2, 2, 2, 2, 3, 3, 3, 3, 2, 2, 2, 4, 4, 4, 5, 4, 4, 4, 4, 5, 4, 3, 3, 4, 3, 4, 3, 3, 5, 5, 4, 3, 3, 3, 4, 4, 3, 3, 4]\n"
          ]
        }
      ]
    },
    {
      "cell_type": "code",
      "source": [
        "#x_train, x_test = train_test_split(questions, test_size=0.2, random_state=0)\n",
        "X = questions.copy()"
      ],
      "metadata": {
        "id": "XfXBvb7Em0vc"
      },
      "execution_count": 29,
      "outputs": []
    },
    {
      "cell_type": "code",
      "source": [
        "kmeans = KMeans(n_clusters = 4)\n",
        "kmeans.fit(X)\n",
        "rez_kmeans = kmeans.predict(X)\n",
        "\n",
        "print(\"Ниже представлено распределение респондентов по схожести между друг другом на 4 группы:\")\n",
        "print(rez_kmeans)"
      ],
      "metadata": {
        "id": "CUuhzvCLphVM",
        "outputId": "d8dcd85e-1c52-4567-a96a-bc9b86d07334",
        "colab": {
          "base_uri": "https://localhost:8080/"
        }
      },
      "execution_count": 47,
      "outputs": [
        {
          "output_type": "stream",
          "name": "stdout",
          "text": [
            "Ниже представлено распределение респондентов по схожести между друг другом на 4 группы:\n",
            "[3 0 1 1 1 1 1 3 1 2 2 1 0 1 3 2 2 0 3 1 0 0 3 2 1 3 1 0 1 0 1 3 1 1 0 1 0\n",
            " 0 1 1 1 1 1 1 1 2 1 0 1 0 1 2 1 2 0 1 2 0 0 2 0 2 2 1 2 1 1 1 1 0 3 0 3 0\n",
            " 2 0 2 2 1 0 2 1 0 0 2 1 1 1 0 2 2 2 2 0 1 1 0 2 2 2 2 2 2 2 2 2]\n"
          ]
        },
        {
          "output_type": "stream",
          "name": "stderr",
          "text": [
            "/usr/local/lib/python3.10/dist-packages/sklearn/cluster/_kmeans.py:870: FutureWarning: The default value of `n_init` will change from 10 to 'auto' in 1.4. Set the value of `n_init` explicitly to suppress the warning\n",
            "  warnings.warn(\n"
          ]
        }
      ]
    },
    {
      "cell_type": "code",
      "source": [
        "#нужно посмотреть каждый кластер отдельно на статистику, чтобы понять, к какому психотипу относится каждая группа\n",
        "#или поделить и людей на кластеры, и каждый кластер посмотреть на влияние группы из вопросов на неё\n"
      ],
      "metadata": {
        "id": "MvWTxLUOqaN4"
      },
      "execution_count": null,
      "outputs": []
    },
    {
      "cell_type": "code",
      "source": [
        "#Собраны индексы людей, которые принадлежат каждой группе\n",
        "indexPeople_4 = {\n",
        "    0: [],\n",
        "    1: [],\n",
        "    2: [],\n",
        "    3: []\n",
        "}\n",
        "for i in range(len(indexPeople_4)):\n",
        "  for j in range(len(rez_kmeans)):\n",
        "    if(rez_kmeans[j] == i):\n",
        "      indexPeople_4[i].append(j)"
      ],
      "metadata": {
        "id": "1QFOig8xq6iQ"
      },
      "execution_count": 63,
      "outputs": []
    },
    {
      "cell_type": "code",
      "source": [
        "print(\"Статистика по 1 кластеру\\n\")\n",
        "print(questions.loc[indexPeople_4[0], :].describe().T)"
      ],
      "metadata": {
        "id": "w_fFoRmfukuF",
        "outputId": "8b9bdeb3-03eb-4449-f1d8-2d1e25e991c4",
        "colab": {
          "base_uri": "https://localhost:8080/"
        }
      },
      "execution_count": 67,
      "outputs": [
        {
          "output_type": "stream",
          "name": "stdout",
          "text": [
            "Статистика по 1 кластеру\n",
            "\n",
            "     count      mean       std  min   25%  50%    75%   max\n",
            "Q1    26.0  5.307692  3.043278  0.0  4.00  5.0   7.00  10.0\n",
            "Q2    26.0  5.461538  2.915212  0.0  3.00  5.5   7.75  10.0\n",
            "Q3    26.0  2.500000  2.469818  0.0  0.00  2.0   4.75   7.0\n",
            "Q4    26.0  2.230769  2.502921  0.0  0.00  1.5   3.00  10.0\n",
            "Q5    26.0  2.230769  2.790092  0.0  0.00  1.0   3.75  10.0\n",
            "Q6    26.0  2.500000  2.231591  0.0  0.00  3.0   5.00   7.0\n",
            "Q7    26.0  3.192308  3.322881  0.0  0.00  2.5   5.00  10.0\n",
            "Q8    26.0  6.153846  3.854268  0.0  3.00  7.0  10.00  10.0\n",
            "Q9    26.0  2.615385  2.684428  0.0  0.00  2.5   4.75   7.0\n",
            "Q10   26.0  4.500000  2.687006  0.0  3.00  4.5   6.75  10.0\n",
            "Q11   26.0  3.884615  2.268514  0.0  3.00  4.0   5.00  10.0\n",
            "Q12   26.0  3.115385  3.278133  0.0  0.00  2.0   4.50  10.0\n",
            "Q13   26.0  3.038462  2.599704  0.0  1.00  2.5   4.00  10.0\n",
            "Q14   26.0  4.846154  3.068450  0.0  3.00  5.0   7.00  10.0\n",
            "Q15   26.0  3.384615  3.099380  0.0  1.00  2.5   4.75  10.0\n",
            "Q16   26.0  4.846154  3.196152  0.0  2.25  4.5   7.00  10.0\n",
            "Q17   26.0  5.000000  2.383275  1.0  3.00  5.0   6.00  10.0\n",
            "Q18   26.0  4.230769  2.470752  0.0  3.00  4.5   6.00  10.0\n",
            "Q19   26.0  3.000000  2.481935  0.0  1.00  3.0   4.00  10.0\n",
            "Q20   26.0  4.884615  3.314537  0.0  2.25  5.0   7.00  10.0\n",
            "Q21   26.0  5.038462  3.078711  0.0  3.00  5.0   6.75  10.0\n",
            "Q22   26.0  5.192308  2.298160  1.0  4.00  5.0   7.00  10.0\n",
            "Q23   26.0  4.384615  2.669486  0.0  3.00  4.0   5.75  10.0\n",
            "Q24   26.0  4.038462  2.835218  0.0  2.00  4.0   6.00  10.0\n",
            "Q25   26.0  4.269231  3.206964  0.0  2.00  4.0   7.00  10.0\n",
            "Q26   26.0  2.346154  2.924959  0.0  0.00  1.0   4.00  10.0\n",
            "Q27   26.0  1.615385  2.757926  0.0  0.00  0.0   2.00  10.0\n",
            "Q28   26.0  1.769231  1.924738  0.0  0.00  1.0   3.00   6.0\n",
            "Q29   26.0  5.307692  2.573235  0.0  4.00  5.0   6.75  10.0\n",
            "Q30   26.0  3.961538  2.675530  0.0  2.00  4.5   6.00  10.0\n",
            "Q31   26.0  3.500000  3.690528  0.0  0.00  3.0   6.00  10.0\n",
            "Q32   26.0  2.500000  2.716616  0.0  0.25  2.0   3.00  10.0\n",
            "Q33   26.0  0.961538  1.586966  0.0  0.00  0.0   1.75   5.0\n",
            "Q34   26.0  5.884615  3.712971  0.0  3.25  5.5  10.00  10.0\n",
            "Q35   26.0  1.038462  1.427747  0.0  0.00  1.0   1.00   5.0\n",
            "Q36   26.0  0.307692  0.617688  0.0  0.00  0.0   0.00   2.0\n",
            "Q37   26.0  4.807692  3.310821  0.0  2.25  4.0   6.75  10.0\n",
            "Q38   26.0  1.192308  1.497177  0.0  0.00  1.0   2.00   5.0\n",
            "Q39   26.0  0.692308  1.086986  0.0  0.00  0.0   1.00   4.0\n",
            "Q40   26.0  1.384615  1.834708  0.0  0.00  0.5   2.75   5.0\n",
            "Q41   26.0  3.038462  2.877232  0.0  1.00  2.0   5.00  10.0\n",
            "Q42   26.0  0.384615  1.022817  0.0  0.00  0.0   0.00   5.0\n",
            "Q43   26.0  0.384615  0.803837  0.0  0.00  0.0   0.00   3.0\n",
            "Q44   26.0  1.230769  2.775719  0.0  0.00  0.0   0.75  10.0\n",
            "Q45   26.0  0.961538  1.427747  0.0  0.00  0.0   1.75   6.0\n",
            "Q46   26.0  1.000000  2.190890  0.0  0.00  0.0   1.00  10.0\n",
            "Q47   26.0  0.692308  1.086986  0.0  0.00  0.0   1.00   3.0\n",
            "Q48   26.0  4.307692  3.414899  0.0  1.00  4.5   7.00  10.0\n",
            "Q49   26.0  2.423077  2.452314  0.0  0.00  2.0   4.00   8.0\n",
            "Q50   26.0  2.115385  2.627956  0.0  0.00  1.0   3.00  10.0\n",
            "Q51   26.0  0.807692  1.166850  0.0  0.00  0.0   1.00   4.0\n",
            "Q52   26.0  3.230769  3.942666  0.0  0.00  1.0   6.50  10.0\n"
          ]
        }
      ]
    },
    {
      "cell_type": "code",
      "source": [
        "print(\"Статистика по 2 кластеру\\n\")\n",
        "print(questions.loc[indexPeople_4[1], :].describe().T)"
      ],
      "metadata": {
        "id": "ngRczpeVv04L",
        "outputId": "4881ad97-51aa-4dfe-d289-81986bab8ca3",
        "colab": {
          "base_uri": "https://localhost:8080/"
        }
      },
      "execution_count": 68,
      "outputs": [
        {
          "output_type": "stream",
          "name": "stdout",
          "text": [
            "Статистика по 2 кластеру\n",
            "\n",
            "     count   mean       std  min   25%  50%    75%   max\n",
            "Q1    40.0  5.050  2.511001  0.0  3.75  5.0   7.00  10.0\n",
            "Q2    40.0  4.925  2.867926  0.0  2.00  5.0   6.25  10.0\n",
            "Q3    40.0  2.975  2.380341  0.0  0.75  3.0   5.00   8.0\n",
            "Q4    40.0  2.475  2.449359  0.0  0.00  2.0   4.00   8.0\n",
            "Q5    40.0  2.925  2.634948  0.0  0.00  3.0   4.25  10.0\n",
            "Q6    40.0  2.450  2.024846  0.0  0.75  2.0   4.00   7.0\n",
            "Q7    40.0  3.175  2.845487  0.0  0.00  3.0   5.00  10.0\n",
            "Q8    40.0  5.950  3.265594  0.0  3.75  6.0   9.25  10.0\n",
            "Q9    40.0  2.475  2.417750  0.0  0.00  2.0   4.25   9.0\n",
            "Q10   40.0  5.850  2.787794  0.0  3.75  6.5   8.00  10.0\n",
            "Q11   40.0  4.775  2.655304  0.0  3.00  5.0   6.00  10.0\n",
            "Q12   40.0  2.800  2.633122  0.0  0.00  2.0   5.00  10.0\n",
            "Q13   40.0  3.225  2.913166  0.0  0.75  3.0   5.00  10.0\n",
            "Q14   40.0  4.975  2.703156  0.0  3.00  5.0   7.00  10.0\n",
            "Q15   40.0  2.675  2.644661  0.0  0.00  2.0   4.00  10.0\n",
            "Q16   40.0  4.725  2.385721  0.0  3.00  5.0   6.00  10.0\n",
            "Q17   40.0  4.925  2.813771  0.0  3.00  5.0   7.00  10.0\n",
            "Q18   40.0  5.250  3.264023  0.0  2.75  6.0   8.00  10.0\n",
            "Q19   40.0  5.500  2.353394  0.0  4.00  5.5   7.00  10.0\n",
            "Q20   40.0  5.025  3.059139  0.0  2.00  6.0   7.00  10.0\n",
            "Q21   40.0  3.375  2.686027  0.0  0.75  3.0   5.00   9.0\n",
            "Q22   40.0  5.875  2.322548  0.0  5.00  6.0   7.00  10.0\n",
            "Q23   40.0  5.650  2.922503  0.0  3.75  6.0   8.00  10.0\n",
            "Q24   40.0  3.800  2.482761  0.0  2.00  3.5   5.00  10.0\n",
            "Q25   40.0  6.250  3.078045  0.0  5.00  7.0   8.25  10.0\n",
            "Q26   40.0  3.775  3.533630  0.0  0.75  3.0   6.25  10.0\n",
            "Q27   40.0  2.125  2.430443  0.0  0.00  1.0   3.25  10.0\n",
            "Q28   40.0  3.575  2.899049  0.0  1.00  4.0   5.00  10.0\n",
            "Q29   40.0  6.400  2.734396  0.0  5.00  6.5   8.25  10.0\n",
            "Q30   40.0  4.975  3.033890  0.0  3.00  5.0   7.00  10.0\n",
            "Q31   40.0  4.850  3.431005  0.0  1.00  5.0   8.00  10.0\n",
            "Q32   40.0  5.500  2.572039  1.0  4.00  5.0   8.00  10.0\n",
            "Q33   40.0  1.725  1.907979  0.0  0.00  1.5   3.00   7.0\n",
            "Q34   40.0  6.050  3.265594  0.0  4.00  6.0   9.00  10.0\n",
            "Q35   40.0  4.000  3.071791  0.0  2.00  4.0   5.25  10.0\n",
            "Q36   40.0  3.100  3.224903  0.0  0.00  2.5   5.00  10.0\n",
            "Q37   40.0  6.450  3.129266  0.0  4.00  7.0   9.25  10.0\n",
            "Q38   40.0  4.250  3.425021  0.0  1.00  5.0   7.00  10.0\n",
            "Q39   40.0  4.950  2.650109  0.0  3.75  5.0   7.00  10.0\n",
            "Q40   40.0  4.950  2.943485  0.0  3.00  5.0   8.00  10.0\n",
            "Q41   40.0  6.375  3.027121  0.0  5.00  6.0   9.25  10.0\n",
            "Q42   40.0  2.275  2.320339  0.0  0.00  1.5   4.25   8.0\n",
            "Q43   40.0  1.600  2.085358  0.0  0.00  1.0   2.25   7.0\n",
            "Q44   40.0  3.475  3.594779  0.0  0.00  2.0   6.25  10.0\n",
            "Q45   40.0  5.225  2.506274  0.0  3.75  5.0   7.00  10.0\n",
            "Q46   40.0  1.950  2.099450  0.0  0.00  1.0   3.25   8.0\n",
            "Q47   40.0  5.100  2.762385  0.0  4.00  5.0   7.00  10.0\n",
            "Q48   40.0  7.725  2.309262  0.0  7.00  8.0  10.00  10.0\n",
            "Q49   40.0  6.700  2.533873  0.0  5.00  7.0   8.25  10.0\n",
            "Q50   40.0  7.075  2.894624  0.0  5.00  8.0  10.00  10.0\n",
            "Q51   40.0  1.500  2.112235  0.0  0.00  0.0   3.00   8.0\n",
            "Q52   40.0  2.700  3.969112  0.0  0.00  0.0   5.00  10.0\n"
          ]
        }
      ]
    },
    {
      "cell_type": "code",
      "source": [
        "print(\"Статистика по 3 кластеру\\n\")\n",
        "print(questions.loc[indexPeople_4[2], :].describe().T)"
      ],
      "metadata": {
        "id": "JYs1cXt6v4Bv",
        "outputId": "f84441ea-5dd1-4466-b2b2-7866e8c186c4",
        "colab": {
          "base_uri": "https://localhost:8080/"
        }
      },
      "execution_count": 69,
      "outputs": [
        {
          "output_type": "stream",
          "name": "stdout",
          "text": [
            "Статистика по 3 кластеру\n",
            "\n",
            "     count      mean       std  min  25%  50%  75%   max\n",
            "Q1    31.0  3.612903  3.029603  0.0  1.0  3.0  5.0  10.0\n",
            "Q2    31.0  3.419355  3.030668  0.0  1.0  2.0  5.5   9.0\n",
            "Q3    31.0  0.967742  1.494074  0.0  0.0  0.0  1.5   6.0\n",
            "Q4    31.0  0.903226  1.640220  0.0  0.0  0.0  1.0   5.0\n",
            "Q5    31.0  0.774194  1.453953  0.0  0.0  0.0  1.0   5.0\n",
            "Q6    31.0  1.354839  1.742573  0.0  0.0  1.0  2.0   5.0\n",
            "Q7    31.0  1.709677  2.465678  0.0  0.0  1.0  2.0   8.0\n",
            "Q8    31.0  1.741935  2.265211  0.0  0.0  1.0  3.0   8.0\n",
            "Q9    31.0  1.096774  1.468669  0.0  0.0  0.0  2.0   5.0\n",
            "Q10   31.0  1.419355  1.408881  0.0  0.0  1.0  3.0   5.0\n",
            "Q11   31.0  1.483871  1.524707  0.0  0.0  1.0  2.0   6.0\n",
            "Q12   31.0  0.451613  0.850047  0.0  0.0  0.0  0.5   3.0\n",
            "Q13   31.0  1.161290  1.529636  0.0  0.0  1.0  2.0   6.0\n",
            "Q14   31.0  1.258065  1.237410  0.0  0.0  1.0  2.0   5.0\n",
            "Q15   31.0  1.516129  1.313290  0.0  0.0  1.0  2.0   4.0\n",
            "Q16   31.0  1.935484  1.982179  0.0  0.0  2.0  2.5   6.0\n",
            "Q17   31.0  2.612903  2.060379  0.0  1.0  2.0  4.0   7.0\n",
            "Q18   31.0  1.451613  1.588263  0.0  0.0  1.0  2.0   7.0\n",
            "Q19   31.0  1.677419  1.469401  0.0  0.0  2.0  3.0   5.0\n",
            "Q20   31.0  2.451613  2.188435  0.0  1.0  2.0  3.5   8.0\n",
            "Q21   31.0  1.193548  1.424064  0.0  0.0  1.0  2.0   5.0\n",
            "Q22   31.0  2.580645  1.432345  0.0  1.5  2.0  3.5   6.0\n",
            "Q23   31.0  2.193548  1.887138  0.0  1.0  2.0  3.5   6.0\n",
            "Q24   31.0  1.129032  1.477429  0.0  0.0  0.0  2.0   5.0\n",
            "Q25   31.0  2.870968  2.140747  0.0  1.0  3.0  5.0   7.0\n",
            "Q26   31.0  1.322581  2.385890  0.0  0.0  0.0  1.5  10.0\n",
            "Q27   31.0  0.322581  0.832150  0.0  0.0  0.0  0.0   4.0\n",
            "Q28   31.0  1.258065  2.065070  0.0  0.0  0.0  2.0   7.0\n",
            "Q29   31.0  2.548387  2.173150  0.0  1.0  2.0  4.5   6.0\n",
            "Q30   31.0  3.032258  2.483061  0.0  1.0  3.0  5.0   9.0\n",
            "Q31   31.0  2.516129  2.838673  0.0  0.0  2.0  4.0  10.0\n",
            "Q32   31.0  1.548387  2.277992  0.0  0.0  1.0  2.0  10.0\n",
            "Q33   31.0  0.548387  1.670104  0.0  0.0  0.0  0.0   9.0\n",
            "Q34   31.0  3.580645  3.294179  0.0  0.0  3.0  6.5  10.0\n",
            "Q35   31.0  0.677419  1.620434  0.0  0.0  0.0  0.5   8.0\n",
            "Q36   31.0  1.354839  3.104281  0.0  0.0  0.0  0.0  10.0\n",
            "Q37   31.0  3.838710  3.152742  0.0  1.0  3.0  6.0  10.0\n",
            "Q38   31.0  0.451613  1.027577  0.0  0.0  0.0  0.0   4.0\n",
            "Q39   31.0  1.096774  2.241351  0.0  0.0  0.0  1.5  10.0\n",
            "Q40   31.0  0.451613  0.925156  0.0  0.0  0.0  0.0   3.0\n",
            "Q41   31.0  1.806452  2.468729  0.0  0.0  1.0  3.0  10.0\n",
            "Q42   31.0  1.000000  1.897367  0.0  0.0  0.0  1.0   6.0\n",
            "Q43   31.0  0.258065  0.815179  0.0  0.0  0.0  0.0   4.0\n",
            "Q44   31.0  0.741935  1.590969  0.0  0.0  0.0  1.0   7.0\n",
            "Q45   31.0  0.838710  1.185939  0.0  0.0  0.0  1.0   4.0\n",
            "Q46   31.0  0.161290  0.454369  0.0  0.0  0.0  0.0   2.0\n",
            "Q47   31.0  1.967742  2.601075  0.0  0.0  0.0  3.0   8.0\n",
            "Q48   31.0  3.129032  3.127746  0.0  0.0  3.0  5.0  10.0\n",
            "Q49   31.0  1.645161  2.273740  0.0  0.0  1.0  2.5  10.0\n",
            "Q50   31.0  1.193548  2.039924  0.0  0.0  0.0  2.0   7.0\n",
            "Q51   31.0  0.387097  0.882323  0.0  0.0  0.0  0.0   3.0\n",
            "Q52   31.0  2.580645  3.547527  0.0  0.0  0.0  4.5  10.0\n"
          ]
        }
      ]
    },
    {
      "cell_type": "code",
      "source": [
        "print(\"Статистика по 4 кластеру\\n\")\n",
        "print(questions.loc[indexPeople_4[3], :].describe().T)"
      ],
      "metadata": {
        "id": "6Iq4FGY5v6Lx",
        "outputId": "740a5488-eee7-489d-cbc1-8b1e86683e64",
        "colab": {
          "base_uri": "https://localhost:8080/"
        }
      },
      "execution_count": 70,
      "outputs": [
        {
          "output_type": "stream",
          "name": "stdout",
          "text": [
            "Статистика по 4 кластеру\n",
            "\n",
            "     count      mean       std  min   25%   50%   75%   max\n",
            "Q1     9.0  7.000000  2.179449  3.0   6.0   7.0   8.0  10.0\n",
            "Q2     9.0  7.777778  1.641476  6.0   6.0   8.0   9.0  10.0\n",
            "Q3     9.0  5.666667  4.000000  0.0   1.0   7.0   9.0  10.0\n",
            "Q4     9.0  7.111111  2.571208  2.0   6.0   7.0   9.0  10.0\n",
            "Q5     9.0  7.111111  2.891559  2.0   5.0   8.0  10.0  10.0\n",
            "Q6     9.0  6.666667  3.162278  2.0   5.0   7.0  10.0  10.0\n",
            "Q7     9.0  6.555556  3.468109  2.0   3.0   8.0  10.0  10.0\n",
            "Q8     9.0  7.888889  3.756476  0.0   8.0  10.0  10.0  10.0\n",
            "Q9     9.0  6.000000  3.082207  2.0   3.0   7.0   8.0  10.0\n",
            "Q10    9.0  8.222222  2.635231  2.0   7.0   9.0  10.0  10.0\n",
            "Q11    9.0  8.333333  2.828427  2.0   7.0  10.0  10.0  10.0\n",
            "Q12    9.0  8.333333  2.000000  4.0   8.0   8.0  10.0  10.0\n",
            "Q13    9.0  7.444444  3.086710  1.0   6.0   8.0  10.0  10.0\n",
            "Q14    9.0  8.444444  1.943651  5.0   7.0  10.0  10.0  10.0\n",
            "Q15    9.0  5.888889  3.551213  0.0   3.0   7.0   9.0  10.0\n",
            "Q16    9.0  9.111111  1.964971  4.0   9.0  10.0  10.0  10.0\n",
            "Q17    9.0  8.333333  2.397916  3.0   7.0  10.0  10.0  10.0\n",
            "Q18    9.0  7.888889  2.803767  3.0   5.0  10.0  10.0  10.0\n",
            "Q19    9.0  7.555556  1.509231  6.0   7.0   7.0   8.0  10.0\n",
            "Q20    9.0  8.111111  2.848001  4.0   5.0  10.0  10.0  10.0\n",
            "Q21    9.0  6.666667  3.535534  0.0   4.0   8.0   9.0  10.0\n",
            "Q22    9.0  7.888889  2.315407  3.0   7.0   8.0  10.0  10.0\n",
            "Q23    9.0  9.666667  0.707107  8.0  10.0  10.0  10.0  10.0\n",
            "Q24    9.0  9.777778  0.440959  9.0  10.0  10.0  10.0  10.0\n",
            "Q25    9.0  8.111111  2.619372  3.0   7.0  10.0  10.0  10.0\n",
            "Q26    9.0  5.888889  3.257470  0.0   3.0   7.0   8.0  10.0\n",
            "Q27    9.0  2.777778  3.865805  0.0   0.0   0.0   4.0  10.0\n",
            "Q28    9.0  5.333333  3.427827  0.0   3.0   7.0   8.0   8.0\n",
            "Q29    9.0  7.777778  1.986063  5.0   7.0   8.0  10.0  10.0\n",
            "Q30    9.0  8.555556  1.740051  5.0   8.0   9.0  10.0  10.0\n",
            "Q31    9.0  5.555556  4.693376  0.0   0.0   8.0  10.0  10.0\n",
            "Q32    9.0  7.888889  2.934469  1.0   8.0   8.0  10.0  10.0\n",
            "Q33    9.0  5.000000  3.708099  0.0   2.0   6.0   7.0  10.0\n",
            "Q34    9.0  9.111111  1.452966  6.0   8.0  10.0  10.0  10.0\n",
            "Q35    9.0  7.888889  2.891559  2.0   7.0  10.0  10.0  10.0\n",
            "Q36    9.0  6.555556  4.096069  0.0   6.0   7.0  10.0  10.0\n",
            "Q37    9.0  9.333333  1.322876  7.0  10.0  10.0  10.0  10.0\n",
            "Q38    9.0  7.666667  3.201562  2.0   7.0  10.0  10.0  10.0\n",
            "Q39    9.0  8.111111  3.333333  1.0   8.0  10.0  10.0  10.0\n",
            "Q40    9.0  6.666667  2.958040  3.0   4.0   7.0  10.0  10.0\n",
            "Q41    9.0  9.555556  0.881917  8.0  10.0  10.0  10.0  10.0\n",
            "Q42    9.0  6.888889  2.891559  3.0   4.0   8.0  10.0  10.0\n",
            "Q43    9.0  4.444444  3.539460  0.0   1.0   5.0   7.0   9.0\n",
            "Q44    9.0  7.444444  3.244654  2.0   5.0   9.0  10.0  10.0\n",
            "Q45    9.0  7.444444  2.920236  2.0   6.0   9.0  10.0  10.0\n",
            "Q46    9.0  5.777778  2.488864  3.0   3.0   6.0   7.0  10.0\n",
            "Q47    9.0  6.333333  2.783882  3.0   4.0   6.0   8.0  10.0\n",
            "Q48    9.0  9.333333  1.000000  8.0   8.0  10.0  10.0  10.0\n",
            "Q49    9.0  8.666667  1.500000  6.0   8.0   9.0  10.0  10.0\n",
            "Q50    9.0  8.333333  3.316625  0.0   8.0  10.0  10.0  10.0\n",
            "Q51    9.0  3.000000  3.316625  0.0   0.0   2.0   4.0  10.0\n",
            "Q52    9.0  4.666667  5.099020  0.0   0.0   2.0  10.0  10.0\n"
          ]
        }
      ]
    }
  ]
}