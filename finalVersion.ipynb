{
  "nbformat": 4,
  "nbformat_minor": 0,
  "metadata": {
    "colab": {
      "provenance": [],
      "authorship_tag": "ABX9TyO5AG1L86ry3XlrIGqtVTaT",
      "include_colab_link": true
    },
    "kernelspec": {
      "name": "python3",
      "display_name": "Python 3"
    },
    "language_info": {
      "name": "python"
    }
  },
  "cells": [
    {
      "cell_type": "markdown",
      "metadata": {
        "id": "view-in-github",
        "colab_type": "text"
      },
      "source": [
        "<a href=\"https://colab.research.google.com/github/Viktory4121/diploma/blob/main/finalVersion.ipynb\" target=\"_parent\"><img src=\"https://colab.research.google.com/assets/colab-badge.svg\" alt=\"Open In Colab\"/></a>"
      ]
    },
    {
      "cell_type": "code",
      "execution_count": 96,
      "metadata": {
        "id": "1PCNvd9tlfdM"
      },
      "outputs": [],
      "source": [
        "from google.colab import files\n",
        "import xlrd\n",
        "import pandas as pd\n",
        "import numpy as np\n",
        "import statistics as stat\n",
        "#%matplotlib inline\n",
        "#import matplotlib.pyplot as plt\n",
        "from sklearn.cluster import KMeans\n",
        "\n",
        "#import modules\n",
        "#from sklearn.linear_model import LinearRegression\n",
        "from sklearn.model_selection import train_test_split\n",
        "from sklearn.metrics import mean_absolute_error, mean_squared_error, median_absolute_error, r2_score\n",
        "#from sklearn import metrics\n",
        "\n",
        "\n",
        "# Сброс ограничений на количество выводимых рядов\n",
        "pd.set_option('display.max_rows', None)\n",
        "# Сброс ограничений на число столбцов\n",
        "pd.set_option('display.max_columns', None)\n",
        "# Сброс ограничений на количество символов в записи\n",
        "pd.set_option('display.max_colwidth', None)"
      ]
    },
    {
      "cell_type": "code",
      "source": [
        "uploaded = files.upload()"
      ],
      "metadata": {
        "id": "eq0Cc3K6lyfO",
        "outputId": "78666c00-49ab-46a4-c5a0-9635185c8e9b",
        "colab": {
          "base_uri": "https://localhost:8080/",
          "height": 73
        }
      },
      "execution_count": null,
      "outputs": [
        {
          "output_type": "display_data",
          "data": {
            "text/plain": [
              "<IPython.core.display.HTML object>"
            ],
            "text/html": [
              "\n",
              "     <input type=\"file\" id=\"files-8c755ae9-31b1-4c28-9bf5-c5376d85a6fd\" name=\"files[]\" multiple disabled\n",
              "        style=\"border:none\" />\n",
              "     <output id=\"result-8c755ae9-31b1-4c28-9bf5-c5376d85a6fd\">\n",
              "      Upload widget is only available when the cell has been executed in the\n",
              "      current browser session. Please rerun this cell to enable.\n",
              "      </output>\n",
              "      <script>// Copyright 2017 Google LLC\n",
              "//\n",
              "// Licensed under the Apache License, Version 2.0 (the \"License\");\n",
              "// you may not use this file except in compliance with the License.\n",
              "// You may obtain a copy of the License at\n",
              "//\n",
              "//      http://www.apache.org/licenses/LICENSE-2.0\n",
              "//\n",
              "// Unless required by applicable law or agreed to in writing, software\n",
              "// distributed under the License is distributed on an \"AS IS\" BASIS,\n",
              "// WITHOUT WARRANTIES OR CONDITIONS OF ANY KIND, either express or implied.\n",
              "// See the License for the specific language governing permissions and\n",
              "// limitations under the License.\n",
              "\n",
              "/**\n",
              " * @fileoverview Helpers for google.colab Python module.\n",
              " */\n",
              "(function(scope) {\n",
              "function span(text, styleAttributes = {}) {\n",
              "  const element = document.createElement('span');\n",
              "  element.textContent = text;\n",
              "  for (const key of Object.keys(styleAttributes)) {\n",
              "    element.style[key] = styleAttributes[key];\n",
              "  }\n",
              "  return element;\n",
              "}\n",
              "\n",
              "// Max number of bytes which will be uploaded at a time.\n",
              "const MAX_PAYLOAD_SIZE = 100 * 1024;\n",
              "\n",
              "function _uploadFiles(inputId, outputId) {\n",
              "  const steps = uploadFilesStep(inputId, outputId);\n",
              "  const outputElement = document.getElementById(outputId);\n",
              "  // Cache steps on the outputElement to make it available for the next call\n",
              "  // to uploadFilesContinue from Python.\n",
              "  outputElement.steps = steps;\n",
              "\n",
              "  return _uploadFilesContinue(outputId);\n",
              "}\n",
              "\n",
              "// This is roughly an async generator (not supported in the browser yet),\n",
              "// where there are multiple asynchronous steps and the Python side is going\n",
              "// to poll for completion of each step.\n",
              "// This uses a Promise to block the python side on completion of each step,\n",
              "// then passes the result of the previous step as the input to the next step.\n",
              "function _uploadFilesContinue(outputId) {\n",
              "  const outputElement = document.getElementById(outputId);\n",
              "  const steps = outputElement.steps;\n",
              "\n",
              "  const next = steps.next(outputElement.lastPromiseValue);\n",
              "  return Promise.resolve(next.value.promise).then((value) => {\n",
              "    // Cache the last promise value to make it available to the next\n",
              "    // step of the generator.\n",
              "    outputElement.lastPromiseValue = value;\n",
              "    return next.value.response;\n",
              "  });\n",
              "}\n",
              "\n",
              "/**\n",
              " * Generator function which is called between each async step of the upload\n",
              " * process.\n",
              " * @param {string} inputId Element ID of the input file picker element.\n",
              " * @param {string} outputId Element ID of the output display.\n",
              " * @return {!Iterable<!Object>} Iterable of next steps.\n",
              " */\n",
              "function* uploadFilesStep(inputId, outputId) {\n",
              "  const inputElement = document.getElementById(inputId);\n",
              "  inputElement.disabled = false;\n",
              "\n",
              "  const outputElement = document.getElementById(outputId);\n",
              "  outputElement.innerHTML = '';\n",
              "\n",
              "  const pickedPromise = new Promise((resolve) => {\n",
              "    inputElement.addEventListener('change', (e) => {\n",
              "      resolve(e.target.files);\n",
              "    });\n",
              "  });\n",
              "\n",
              "  const cancel = document.createElement('button');\n",
              "  inputElement.parentElement.appendChild(cancel);\n",
              "  cancel.textContent = 'Cancel upload';\n",
              "  const cancelPromise = new Promise((resolve) => {\n",
              "    cancel.onclick = () => {\n",
              "      resolve(null);\n",
              "    };\n",
              "  });\n",
              "\n",
              "  // Wait for the user to pick the files.\n",
              "  const files = yield {\n",
              "    promise: Promise.race([pickedPromise, cancelPromise]),\n",
              "    response: {\n",
              "      action: 'starting',\n",
              "    }\n",
              "  };\n",
              "\n",
              "  cancel.remove();\n",
              "\n",
              "  // Disable the input element since further picks are not allowed.\n",
              "  inputElement.disabled = true;\n",
              "\n",
              "  if (!files) {\n",
              "    return {\n",
              "      response: {\n",
              "        action: 'complete',\n",
              "      }\n",
              "    };\n",
              "  }\n",
              "\n",
              "  for (const file of files) {\n",
              "    const li = document.createElement('li');\n",
              "    li.append(span(file.name, {fontWeight: 'bold'}));\n",
              "    li.append(span(\n",
              "        `(${file.type || 'n/a'}) - ${file.size} bytes, ` +\n",
              "        `last modified: ${\n",
              "            file.lastModifiedDate ? file.lastModifiedDate.toLocaleDateString() :\n",
              "                                    'n/a'} - `));\n",
              "    const percent = span('0% done');\n",
              "    li.appendChild(percent);\n",
              "\n",
              "    outputElement.appendChild(li);\n",
              "\n",
              "    const fileDataPromise = new Promise((resolve) => {\n",
              "      const reader = new FileReader();\n",
              "      reader.onload = (e) => {\n",
              "        resolve(e.target.result);\n",
              "      };\n",
              "      reader.readAsArrayBuffer(file);\n",
              "    });\n",
              "    // Wait for the data to be ready.\n",
              "    let fileData = yield {\n",
              "      promise: fileDataPromise,\n",
              "      response: {\n",
              "        action: 'continue',\n",
              "      }\n",
              "    };\n",
              "\n",
              "    // Use a chunked sending to avoid message size limits. See b/62115660.\n",
              "    let position = 0;\n",
              "    do {\n",
              "      const length = Math.min(fileData.byteLength - position, MAX_PAYLOAD_SIZE);\n",
              "      const chunk = new Uint8Array(fileData, position, length);\n",
              "      position += length;\n",
              "\n",
              "      const base64 = btoa(String.fromCharCode.apply(null, chunk));\n",
              "      yield {\n",
              "        response: {\n",
              "          action: 'append',\n",
              "          file: file.name,\n",
              "          data: base64,\n",
              "        },\n",
              "      };\n",
              "\n",
              "      let percentDone = fileData.byteLength === 0 ?\n",
              "          100 :\n",
              "          Math.round((position / fileData.byteLength) * 100);\n",
              "      percent.textContent = `${percentDone}% done`;\n",
              "\n",
              "    } while (position < fileData.byteLength);\n",
              "  }\n",
              "\n",
              "  // All done.\n",
              "  yield {\n",
              "    response: {\n",
              "      action: 'complete',\n",
              "    }\n",
              "  };\n",
              "}\n",
              "\n",
              "scope.google = scope.google || {};\n",
              "scope.google.colab = scope.google.colab || {};\n",
              "scope.google.colab._files = {\n",
              "  _uploadFiles,\n",
              "  _uploadFilesContinue,\n",
              "};\n",
              "})(self);\n",
              "</script> "
            ]
          },
          "metadata": {}
        },
        {
          "output_type": "stream",
          "name": "stdout",
          "text": [
            "Saving ConvertedTable.xlsx to ConvertedTable.xlsx\n"
          ]
        }
      ]
    },
    {
      "cell_type": "code",
      "source": [
        "data = pd.read_excel(uploaded['ConvertedTable.xlsx'])\n",
        "#womenData = data[data['Пол'] == 1].copy()\n",
        "#menData = data[data['Пол'] == 0].copy()\n",
        "\n",
        "questions = data[data.columns[4:]]\n",
        "peoples = questions.T"
      ],
      "metadata": {
        "id": "atYIt__zl3DT"
      },
      "execution_count": 72,
      "outputs": []
    },
    {
      "cell_type": "code",
      "source": [
        "#questions.describe()"
      ],
      "metadata": {
        "id": "aZngGqXql7eq"
      },
      "execution_count": null,
      "outputs": []
    },
    {
      "cell_type": "code",
      "source": [
        "#print('Общая статистика по респондентам\\n')\n",
        "#peoples.describe().T"
      ],
      "metadata": {
        "id": "1efb1Bq4mBZc"
      },
      "execution_count": null,
      "outputs": []
    },
    {
      "cell_type": "code",
      "source": [
        "#Распределение вопросов на 3 и на 5 групп\n",
        "\n",
        "group_num3 = [0] * 52\n",
        "group_num5 = [0] * 52\n",
        "\n",
        "num3 = {\n",
        "    1: list(range(0,17)) + list(range(21,24)),\n",
        "    2: list(range(17,21)) + [34, 35, 37, 39, 40] + list(range(44,47)) + [49, 50],\n",
        "    3: list(range(24,34)) + [36,38] + list(range(41,44)) + [47,48,51]\n",
        "}\n",
        "num5 = {\n",
        "    1: list(range(0,9)),\n",
        "    2: list(range(9,17)) + list(range(21,24)),\n",
        "    3: list(range(17,21)) + [34,35,37,39,40] + list(range(44,47)) + [49,50],\n",
        "    4: list(range(24,27)) + list(range(28,32)) + [33,36,38,43,47,48,51],\n",
        "    5: [27,32,41,42]\n",
        "}\n",
        "\n",
        "#num[1], num3[2], num3[3]\n",
        "#num3[1][0] - var[key][index_list]\n",
        "\n",
        "for i in range(len(group_num3)):\n",
        "  for j in range(1,4):\n",
        "    if i in num3[j]:\n",
        "      group_num3[i] = j\n",
        "\n",
        "for i in range(len(group_num5)):\n",
        "  for j in range(1,6):\n",
        "    if i in num5[j]:\n",
        "      group_num5[i] = j\n",
        "\n",
        "print(\"Данные массивы содержат информацию о соответствии вопроса анкеты номеру класса.\\n\")\n",
        "print(\"Ниже указано распределение на 3 класса:\\n1 класс - Учебный процесс и организация работы учебного заведения.\\n2 класс - Выбор профессии и актуальность предоставляемой информации.\\n3 класс - Внутренние переживания и личностные проблемы\")\n",
        "print(group_num3)\n",
        "\n",
        "print(\"\\nНиже указано распределение на 5 классов:\\n1 класс - Организация работы учебного заведения\\n2 класс - Преподавательская деятельность\\n3 класс - Профессия\\n4 класс - Личность\\n5 класс - Социальная адаптация\\n\")\n",
        "print(group_num5)\n"
      ],
      "metadata": {
        "id": "SN8KIVnKmGP0",
        "outputId": "faa6ecac-1b9a-433b-eed7-a12b6a2cde7d",
        "colab": {
          "base_uri": "https://localhost:8080/"
        }
      },
      "execution_count": 73,
      "outputs": [
        {
          "output_type": "stream",
          "name": "stdout",
          "text": [
            "Данные массивы содержат информацию о соответствии вопроса анкеты номеру класса.\n",
            "\n",
            "Ниже указано распределение на 3 класса:\n",
            "1 класс - Учебный процесс и организация работы учебного заведения.\n",
            "2 класс - Выбор профессии и актуальность предоставляемой информации.\n",
            "3 класс - Внутренние переживания и личностные проблемы\n",
            "[1, 1, 1, 1, 1, 1, 1, 1, 1, 1, 1, 1, 1, 1, 1, 1, 1, 2, 2, 2, 2, 1, 1, 1, 3, 3, 3, 3, 3, 3, 3, 3, 3, 3, 2, 2, 3, 2, 3, 2, 2, 3, 3, 3, 2, 2, 2, 3, 3, 2, 2, 3]\n",
            "\n",
            "Ниже указано распределение на 5 классов:\n",
            "1 класс - Организация работы учебного заведения\n",
            "2 класс - Преподавательская деятельность\n",
            "3 класс - Профессия\n",
            "4 класс - Личность\n",
            "5 класс - Социальная адаптация\n",
            "\n",
            "[1, 1, 1, 1, 1, 1, 1, 1, 1, 2, 2, 2, 2, 2, 2, 2, 2, 3, 3, 3, 3, 2, 2, 2, 4, 4, 4, 5, 4, 4, 4, 4, 5, 4, 3, 3, 4, 3, 4, 3, 3, 5, 5, 4, 3, 3, 3, 4, 4, 3, 3, 4]\n"
          ]
        }
      ]
    },
    {
      "cell_type": "code",
      "source": [
        "#x_train, x_test = train_test_split(questions, test_size=0.2, random_state=0)\n",
        "X = questions.copy()"
      ],
      "metadata": {
        "id": "XfXBvb7Em0vc"
      },
      "execution_count": 74,
      "outputs": []
    },
    {
      "cell_type": "code",
      "source": [
        "kmeans = KMeans(n_clusters = 4)\n",
        "kmeans.fit(X)\n",
        "rez_kmeans = kmeans.predict(X)\n",
        "\n",
        "print(\"Ниже представлено распределение респондентов по схожести между друг другом на 4 группы:\")\n",
        "print(rez_kmeans)"
      ],
      "metadata": {
        "id": "CUuhzvCLphVM",
        "outputId": "f75ce69b-f110-4c12-ffa1-6bf386eb944a",
        "colab": {
          "base_uri": "https://localhost:8080/"
        }
      },
      "execution_count": 75,
      "outputs": [
        {
          "output_type": "stream",
          "name": "stdout",
          "text": [
            "Ниже представлено распределение респондентов по схожести между друг другом на 4 группы:\n",
            "[0 1 3 1 3 3 3 0 3 2 2 3 1 3 0 2 2 1 0 1 1 1 0 2 3 0 0 1 3 1 3 0 0 3 1 0 2\n",
            " 2 3 0 3 0 3 0 3 2 3 1 3 1 0 2 3 2 3 0 2 1 1 2 3 2 2 3 2 0 3 3 3 3 0 1 0 1\n",
            " 2 1 2 2 0 1 2 0 1 1 2 3 3 3 3 2 2 2 2 1 3 0 3 2 2 2 2 2 2 2 2 2]\n"
          ]
        },
        {
          "output_type": "stream",
          "name": "stderr",
          "text": [
            "/usr/local/lib/python3.10/dist-packages/sklearn/cluster/_kmeans.py:870: FutureWarning: The default value of `n_init` will change from 10 to 'auto' in 1.4. Set the value of `n_init` explicitly to suppress the warning\n",
            "  warnings.warn(\n"
          ]
        }
      ]
    },
    {
      "cell_type": "code",
      "source": [
        "#нужно посмотреть каждый кластер отдельно на статистику, чтобы понять, к какому психотипу относится каждая группа\n",
        "#или поделить и людей на кластеры, и каждый кластер посмотреть на влияние группы из вопросов на неё\n"
      ],
      "metadata": {
        "id": "MvWTxLUOqaN4"
      },
      "execution_count": null,
      "outputs": []
    },
    {
      "cell_type": "code",
      "source": [
        "#Собраны индексы людей, которые принадлежат каждой группе\n",
        "indexPeople_4 = {\n",
        "    0: [],\n",
        "    1: [],\n",
        "    2: [],\n",
        "    3: []\n",
        "}\n",
        "for i in range(len(indexPeople_4)):\n",
        "  for j in range(len(rez_kmeans)):\n",
        "    if(rez_kmeans[j] == i):\n",
        "      indexPeople_4[i].append(j)"
      ],
      "metadata": {
        "id": "1QFOig8xq6iQ"
      },
      "execution_count": 76,
      "outputs": []
    },
    {
      "cell_type": "markdown",
      "source": [
        "#Статистика по 1-му кластеру:\n",
        "\n"
      ],
      "metadata": {
        "id": "wfzJ28-j7-1x"
      }
    },
    {
      "cell_type": "code",
      "source": [
        "print(\"Статистика по 1 кластеру\\n\")\n",
        "#print(questions.loc[indexPeople_4[0], :].describe().T)\n",
        "#questions.loc[indexPeople_4[0], questions.columns[num5[1]]].describe().T)\n",
        "stat.mean((questions.loc[indexPeople_4[0], questions.columns[num5[1]]].describe().T)['mean'])"
      ],
      "metadata": {
        "id": "w_fFoRmfukuF",
        "outputId": "e365d78b-7f21-44cc-c69c-68333cbb735e",
        "colab": {
          "base_uri": "https://localhost:8080/"
        }
      },
      "execution_count": 100,
      "outputs": [
        {
          "output_type": "stream",
          "name": "stdout",
          "text": [
            "Статистика по 1 кластеру\n",
            "\n"
          ]
        },
        {
          "output_type": "execute_result",
          "data": {
            "text/plain": [
              "5.455026455026455"
            ]
          },
          "metadata": {},
          "execution_count": 100
        }
      ]
    },
    {
      "cell_type": "code",
      "source": [
        "#questions.loc[indexPeople_4[0], questions.columns[num5[2]]].describe().T\n",
        "stat.mean((questions.loc[indexPeople_4[0], questions.columns[num5[2]]].describe().T)['mean'])"
      ],
      "metadata": {
        "id": "1QvE-ZDSAe9I",
        "outputId": "b53b2c39-2634-480b-cc0d-cd30db15060a",
        "colab": {
          "base_uri": "https://localhost:8080/"
        }
      },
      "execution_count": 99,
      "outputs": [
        {
          "output_type": "execute_result",
          "data": {
            "text/plain": [
              "6.458874458874459"
            ]
          },
          "metadata": {},
          "execution_count": 99
        }
      ]
    },
    {
      "cell_type": "code",
      "source": [
        "#questions.loc[indexPeople_4[0], questions.columns[num5[3]]].describe().T\n",
        "stat.mean((questions.loc[indexPeople_4[0], questions.columns[num5[3]]].describe().T)['mean'])"
      ],
      "metadata": {
        "id": "UX84cgLEAiH_",
        "outputId": "d779a528-e8d2-46a4-8b0b-4310e08891b4",
        "colab": {
          "base_uri": "https://localhost:8080/"
        }
      },
      "execution_count": 98,
      "outputs": [
        {
          "output_type": "execute_result",
          "data": {
            "text/plain": [
              "6.156462585034014"
            ]
          },
          "metadata": {},
          "execution_count": 98
        }
      ]
    },
    {
      "cell_type": "code",
      "source": [
        "#questions.loc[indexPeople_4[0], questions.columns[num5[4]]].describe().T\n",
        "stat.mean((questions.loc[indexPeople_4[0], questions.columns[num5[4]]].describe().T)['mean'])"
      ],
      "metadata": {
        "id": "Pn_YS7XEAjxd",
        "outputId": "698d8059-8931-41a1-f1d9-b258d46f59f0",
        "colab": {
          "base_uri": "https://localhost:8080/"
        }
      },
      "execution_count": 95,
      "outputs": [
        {
          "output_type": "execute_result",
          "data": {
            "text/plain": [
              "6.673469387755102"
            ]
          },
          "metadata": {},
          "execution_count": 95
        }
      ]
    },
    {
      "cell_type": "code",
      "source": [
        "#questions.loc[indexPeople_4[0], questions.columns[num5[5]]].describe().T\n",
        "stat.mean((questions.loc[indexPeople_4[0], questions.columns[num5[5]]].describe().T)['mean'])"
      ],
      "metadata": {
        "id": "jNEJrIXQAlO3",
        "outputId": "2d4df837-64d9-4c29-9c54-a9b519e110de",
        "colab": {
          "base_uri": "https://localhost:8080/"
        }
      },
      "execution_count": 97,
      "outputs": [
        {
          "output_type": "execute_result",
          "data": {
            "text/plain": [
              "4.166666666666667"
            ]
          },
          "metadata": {},
          "execution_count": 97
        }
      ]
    },
    {
      "cell_type": "markdown",
      "source": [
        "#Статистика по 2-му кластеру:"
      ],
      "metadata": {
        "id": "wFxUfMEXAW89"
      }
    },
    {
      "cell_type": "code",
      "source": [
        "#questions.loc[indexPeople_4[1], :].describe().T\n",
        "stat.mean((questions.loc[indexPeople_4[1], questions.columns[num5[1]]].describe().T)['mean'])"
      ],
      "metadata": {
        "id": "ngRczpeVv04L",
        "outputId": "9f85c8b1-3c51-4d65-c888-f97c86f3b5fc",
        "colab": {
          "base_uri": "https://localhost:8080/"
        }
      },
      "execution_count": 101,
      "outputs": [
        {
          "output_type": "execute_result",
          "data": {
            "text/plain": [
              "3.8941798941798944"
            ]
          },
          "metadata": {},
          "execution_count": 101
        }
      ]
    },
    {
      "cell_type": "code",
      "source": [
        "stat.mean((questions.loc[indexPeople_4[1], questions.columns[num5[2]]].describe().T)['mean'])"
      ],
      "metadata": {
        "id": "OOvX2abkJr9L",
        "outputId": "390100cb-044e-46eb-d524-aa31676ef37e",
        "colab": {
          "base_uri": "https://localhost:8080/"
        }
      },
      "execution_count": 102,
      "outputs": [
        {
          "output_type": "execute_result",
          "data": {
            "text/plain": [
              "4.640692640692641"
            ]
          },
          "metadata": {},
          "execution_count": 102
        }
      ]
    },
    {
      "cell_type": "code",
      "source": [
        "stat.mean((questions.loc[indexPeople_4[1], questions.columns[num5[3]]].describe().T)['mean'])"
      ],
      "metadata": {
        "id": "6bPCR2mWJuIc",
        "outputId": "6960da91-0035-47ea-c01e-f3f9945491ba",
        "colab": {
          "base_uri": "https://localhost:8080/"
        }
      },
      "execution_count": 103,
      "outputs": [
        {
          "output_type": "execute_result",
          "data": {
            "text/plain": [
              "2.1530612244897958"
            ]
          },
          "metadata": {},
          "execution_count": 103
        }
      ]
    },
    {
      "cell_type": "code",
      "source": [
        "stat.mean((questions.loc[indexPeople_4[1], questions.columns[num5[4]]].describe().T)['mean'])"
      ],
      "metadata": {
        "id": "vc3fQh_YJw5v",
        "outputId": "5efce422-ffad-4eb5-bcff-4703fbad1ca5",
        "colab": {
          "base_uri": "https://localhost:8080/"
        }
      },
      "execution_count": 104,
      "outputs": [
        {
          "output_type": "execute_result",
          "data": {
            "text/plain": [
              "3.2585034013605445"
            ]
          },
          "metadata": {},
          "execution_count": 104
        }
      ]
    },
    {
      "cell_type": "code",
      "source": [
        "stat.mean((questions.loc[indexPeople_4[1], questions.columns[num5[5]]].describe().T)['mean'])"
      ],
      "metadata": {
        "id": "yh_3nbppJy6Y",
        "outputId": "a0808304-bdbc-4f56-b325-0d9526bb5cde",
        "colab": {
          "base_uri": "https://localhost:8080/"
        }
      },
      "execution_count": 105,
      "outputs": [
        {
          "output_type": "execute_result",
          "data": {
            "text/plain": [
              "1.0952380952380953"
            ]
          },
          "metadata": {},
          "execution_count": 105
        }
      ]
    },
    {
      "cell_type": "markdown",
      "source": [
        "#Статистика по 3-му кластеру:"
      ],
      "metadata": {
        "id": "ONF-eWSmAY5q"
      }
    },
    {
      "cell_type": "code",
      "source": [
        "#questions.loc[indexPeople_4[2], :].describe().T\n",
        "stat.mean((questions.loc[indexPeople_4[2], questions.columns[num5[1]]].describe().T)['mean'])"
      ],
      "metadata": {
        "id": "JYs1cXt6v4Bv",
        "outputId": "49c9160e-a0e8-46c4-fd7d-56ab617ade27",
        "colab": {
          "base_uri": "https://localhost:8080/"
        }
      },
      "execution_count": 106,
      "outputs": [
        {
          "output_type": "execute_result",
          "data": {
            "text/plain": [
              "1.7575757575757576"
            ]
          },
          "metadata": {},
          "execution_count": 106
        }
      ]
    },
    {
      "cell_type": "code",
      "source": [
        "stat.mean((questions.loc[indexPeople_4[2], questions.columns[num5[2]]].describe().T)['mean'])"
      ],
      "metadata": {
        "id": "fwAlawm9J9wO",
        "outputId": "a0038b90-1221-4cfd-cbc4-ff22c811839b",
        "colab": {
          "base_uri": "https://localhost:8080/"
        }
      },
      "execution_count": 107,
      "outputs": [
        {
          "output_type": "execute_result",
          "data": {
            "text/plain": [
              "1.7052341597796143"
            ]
          },
          "metadata": {},
          "execution_count": 107
        }
      ]
    },
    {
      "cell_type": "code",
      "source": [
        "stat.mean((questions.loc[indexPeople_4[2], questions.columns[num5[3]]].describe().T)['mean'])"
      ],
      "metadata": {
        "id": "y3243AGsAakO",
        "outputId": "99385b14-08c7-4bab-f31d-621d07a09245",
        "colab": {
          "base_uri": "https://localhost:8080/"
        }
      },
      "execution_count": 108,
      "outputs": [
        {
          "output_type": "execute_result",
          "data": {
            "text/plain": [
              "1.2402597402597402"
            ]
          },
          "metadata": {},
          "execution_count": 108
        }
      ]
    },
    {
      "cell_type": "code",
      "source": [
        "stat.mean((questions.loc[indexPeople_4[2], questions.columns[num5[4]]].describe().T)['mean'])"
      ],
      "metadata": {
        "id": "mQDBz6M4KA5d",
        "outputId": "ea15cd0a-720f-4ee1-f08e-ca2ddd66b785",
        "colab": {
          "base_uri": "https://localhost:8080/"
        }
      },
      "execution_count": 109,
      "outputs": [
        {
          "output_type": "execute_result",
          "data": {
            "text/plain": [
              "2.1904761904761902"
            ]
          },
          "metadata": {},
          "execution_count": 109
        }
      ]
    },
    {
      "cell_type": "code",
      "source": [
        "stat.mean((questions.loc[indexPeople_4[2], questions.columns[num5[5]]].describe().T)['mean'])"
      ],
      "metadata": {
        "id": "H5HftDceKCk-",
        "outputId": "1b555592-fcc0-4f4d-fe6c-195cad4ac552",
        "colab": {
          "base_uri": "https://localhost:8080/"
        }
      },
      "execution_count": 110,
      "outputs": [
        {
          "output_type": "execute_result",
          "data": {
            "text/plain": [
              "0.7651515151515151"
            ]
          },
          "metadata": {},
          "execution_count": 110
        }
      ]
    },
    {
      "cell_type": "markdown",
      "source": [
        "#Статистика по 4-му кластеру:"
      ],
      "metadata": {
        "id": "AI_W2LA1Aa9d"
      }
    },
    {
      "cell_type": "code",
      "source": [
        "#questions.loc[indexPeople_4[3], :].describe().T\n",
        "stat.mean((questions.loc[indexPeople_4[3], questions.columns[num5[1]]].describe().T)['mean'])"
      ],
      "metadata": {
        "id": "6Iq4FGY5v6Lx",
        "outputId": "1a7f35e7-04cd-4df1-c3f8-e23ce68e7c9f",
        "colab": {
          "base_uri": "https://localhost:8080/"
        }
      },
      "execution_count": 111,
      "outputs": [
        {
          "output_type": "execute_result",
          "data": {
            "text/plain": [
              "3.164874551971326"
            ]
          },
          "metadata": {},
          "execution_count": 111
        }
      ]
    },
    {
      "cell_type": "code",
      "source": [
        "stat.mean((questions.loc[indexPeople_4[3], questions.columns[num5[2]]].describe().T)['mean'])"
      ],
      "metadata": {
        "id": "Xj5IokoCKNNo",
        "outputId": "a88229de-73eb-4ea0-f692-d5018336890a",
        "colab": {
          "base_uri": "https://localhost:8080/"
        }
      },
      "execution_count": 112,
      "outputs": [
        {
          "output_type": "execute_result",
          "data": {
            "text/plain": [
              "3.997067448680352"
            ]
          },
          "metadata": {},
          "execution_count": 112
        }
      ]
    },
    {
      "cell_type": "code",
      "source": [
        "stat.mean((questions.loc[indexPeople_4[3], questions.columns[num5[3]]].describe().T)['mean'])"
      ],
      "metadata": {
        "id": "b9RPGVjB7SEK",
        "outputId": "6a38edea-a4e4-49f2-9a4a-16e4154a54ba",
        "colab": {
          "base_uri": "https://localhost:8080/"
        }
      },
      "execution_count": 113,
      "outputs": [
        {
          "output_type": "execute_result",
          "data": {
            "text/plain": [
              "3.815668202764977"
            ]
          },
          "metadata": {},
          "execution_count": 113
        }
      ]
    },
    {
      "cell_type": "code",
      "source": [
        "stat.mean((questions.loc[indexPeople_4[3], questions.columns[num5[4]]].describe().T)['mean'])"
      ],
      "metadata": {
        "id": "qgZKENYDKQVF",
        "outputId": "2c74d0a3-6acc-4c41-f262-429e5bf612e6",
        "colab": {
          "base_uri": "https://localhost:8080/"
        }
      },
      "execution_count": 114,
      "outputs": [
        {
          "output_type": "execute_result",
          "data": {
            "text/plain": [
              "4.668202764976958"
            ]
          },
          "metadata": {},
          "execution_count": 114
        }
      ]
    },
    {
      "cell_type": "code",
      "source": [
        "stat.mean((questions.loc[indexPeople_4[3], questions.columns[num5[5]]].describe().T)['mean'])"
      ],
      "metadata": {
        "id": "TkLAaW2XKQ-u",
        "outputId": "f938dc1e-43ed-42e3-f513-48eb63570947",
        "colab": {
          "base_uri": "https://localhost:8080/"
        }
      },
      "execution_count": 115,
      "outputs": [
        {
          "output_type": "execute_result",
          "data": {
            "text/plain": [
              "1.6532258064516128"
            ]
          },
          "metadata": {},
          "execution_count": 115
        }
      ]
    }
  ]
}