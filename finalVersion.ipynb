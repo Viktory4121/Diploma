{
  "nbformat": 4,
  "nbformat_minor": 0,
  "metadata": {
    "colab": {
      "provenance": [],
      "include_colab_link": true
    },
    "kernelspec": {
      "name": "python3",
      "display_name": "Python 3"
    },
    "language_info": {
      "name": "python"
    }
  },
  "cells": [
    {
      "cell_type": "markdown",
      "metadata": {
        "id": "view-in-github",
        "colab_type": "text"
      },
      "source": [
        "<a href=\"https://colab.research.google.com/github/Viktory4121/diploma/blob/main/finalVersion.ipynb\" target=\"_parent\"><img src=\"https://colab.research.google.com/assets/colab-badge.svg\" alt=\"Open In Colab\"/></a>"
      ]
    },
    {
      "cell_type": "code",
      "execution_count": 1,
      "metadata": {
        "id": "1PCNvd9tlfdM"
      },
      "outputs": [],
      "source": [
        "from google.colab import files\n",
        "#import xlrd\n",
        "import pandas as pd\n",
        "import numpy as np\n",
        "import statistics as stat\n",
        "#%matplotlib inline\n",
        "#import matplotlib.pyplot as plt\n",
        "from sklearn.cluster import KMeans\n",
        "\n",
        "#import modules\n",
        "#from sklearn.linear_model import LinearRegression\n",
        "from sklearn.model_selection import train_test_split\n",
        "from sklearn.metrics import mean_absolute_error, mean_squared_error, median_absolute_error, r2_score\n",
        "#from sklearn import metrics\n",
        "\n",
        "\n",
        "# Сброс ограничений на количество выводимых рядов\n",
        "pd.set_option('display.max_rows', None)\n",
        "# Сброс ограничений на число столбцов\n",
        "pd.set_option('display.max_columns', None)\n",
        "# Сброс ограничений на количество символов в записи\n",
        "pd.set_option('display.max_colwidth', None)"
      ]
    },
    {
      "cell_type": "code",
      "source": [
        "uploaded = files.upload()"
      ],
      "metadata": {
        "id": "eq0Cc3K6lyfO",
        "outputId": "ad1fb760-2e85-46a5-b6c6-41670c83bcfb",
        "colab": {
          "base_uri": "https://localhost:8080/",
          "height": 73
        }
      },
      "execution_count": 2,
      "outputs": [
        {
          "output_type": "display_data",
          "data": {
            "text/plain": [
              "<IPython.core.display.HTML object>"
            ],
            "text/html": [
              "\n",
              "     <input type=\"file\" id=\"files-a293682c-7230-453d-95eb-5fd6aae74ccc\" name=\"files[]\" multiple disabled\n",
              "        style=\"border:none\" />\n",
              "     <output id=\"result-a293682c-7230-453d-95eb-5fd6aae74ccc\">\n",
              "      Upload widget is only available when the cell has been executed in the\n",
              "      current browser session. Please rerun this cell to enable.\n",
              "      </output>\n",
              "      <script>// Copyright 2017 Google LLC\n",
              "//\n",
              "// Licensed under the Apache License, Version 2.0 (the \"License\");\n",
              "// you may not use this file except in compliance with the License.\n",
              "// You may obtain a copy of the License at\n",
              "//\n",
              "//      http://www.apache.org/licenses/LICENSE-2.0\n",
              "//\n",
              "// Unless required by applicable law or agreed to in writing, software\n",
              "// distributed under the License is distributed on an \"AS IS\" BASIS,\n",
              "// WITHOUT WARRANTIES OR CONDITIONS OF ANY KIND, either express or implied.\n",
              "// See the License for the specific language governing permissions and\n",
              "// limitations under the License.\n",
              "\n",
              "/**\n",
              " * @fileoverview Helpers for google.colab Python module.\n",
              " */\n",
              "(function(scope) {\n",
              "function span(text, styleAttributes = {}) {\n",
              "  const element = document.createElement('span');\n",
              "  element.textContent = text;\n",
              "  for (const key of Object.keys(styleAttributes)) {\n",
              "    element.style[key] = styleAttributes[key];\n",
              "  }\n",
              "  return element;\n",
              "}\n",
              "\n",
              "// Max number of bytes which will be uploaded at a time.\n",
              "const MAX_PAYLOAD_SIZE = 100 * 1024;\n",
              "\n",
              "function _uploadFiles(inputId, outputId) {\n",
              "  const steps = uploadFilesStep(inputId, outputId);\n",
              "  const outputElement = document.getElementById(outputId);\n",
              "  // Cache steps on the outputElement to make it available for the next call\n",
              "  // to uploadFilesContinue from Python.\n",
              "  outputElement.steps = steps;\n",
              "\n",
              "  return _uploadFilesContinue(outputId);\n",
              "}\n",
              "\n",
              "// This is roughly an async generator (not supported in the browser yet),\n",
              "// where there are multiple asynchronous steps and the Python side is going\n",
              "// to poll for completion of each step.\n",
              "// This uses a Promise to block the python side on completion of each step,\n",
              "// then passes the result of the previous step as the input to the next step.\n",
              "function _uploadFilesContinue(outputId) {\n",
              "  const outputElement = document.getElementById(outputId);\n",
              "  const steps = outputElement.steps;\n",
              "\n",
              "  const next = steps.next(outputElement.lastPromiseValue);\n",
              "  return Promise.resolve(next.value.promise).then((value) => {\n",
              "    // Cache the last promise value to make it available to the next\n",
              "    // step of the generator.\n",
              "    outputElement.lastPromiseValue = value;\n",
              "    return next.value.response;\n",
              "  });\n",
              "}\n",
              "\n",
              "/**\n",
              " * Generator function which is called between each async step of the upload\n",
              " * process.\n",
              " * @param {string} inputId Element ID of the input file picker element.\n",
              " * @param {string} outputId Element ID of the output display.\n",
              " * @return {!Iterable<!Object>} Iterable of next steps.\n",
              " */\n",
              "function* uploadFilesStep(inputId, outputId) {\n",
              "  const inputElement = document.getElementById(inputId);\n",
              "  inputElement.disabled = false;\n",
              "\n",
              "  const outputElement = document.getElementById(outputId);\n",
              "  outputElement.innerHTML = '';\n",
              "\n",
              "  const pickedPromise = new Promise((resolve) => {\n",
              "    inputElement.addEventListener('change', (e) => {\n",
              "      resolve(e.target.files);\n",
              "    });\n",
              "  });\n",
              "\n",
              "  const cancel = document.createElement('button');\n",
              "  inputElement.parentElement.appendChild(cancel);\n",
              "  cancel.textContent = 'Cancel upload';\n",
              "  const cancelPromise = new Promise((resolve) => {\n",
              "    cancel.onclick = () => {\n",
              "      resolve(null);\n",
              "    };\n",
              "  });\n",
              "\n",
              "  // Wait for the user to pick the files.\n",
              "  const files = yield {\n",
              "    promise: Promise.race([pickedPromise, cancelPromise]),\n",
              "    response: {\n",
              "      action: 'starting',\n",
              "    }\n",
              "  };\n",
              "\n",
              "  cancel.remove();\n",
              "\n",
              "  // Disable the input element since further picks are not allowed.\n",
              "  inputElement.disabled = true;\n",
              "\n",
              "  if (!files) {\n",
              "    return {\n",
              "      response: {\n",
              "        action: 'complete',\n",
              "      }\n",
              "    };\n",
              "  }\n",
              "\n",
              "  for (const file of files) {\n",
              "    const li = document.createElement('li');\n",
              "    li.append(span(file.name, {fontWeight: 'bold'}));\n",
              "    li.append(span(\n",
              "        `(${file.type || 'n/a'}) - ${file.size} bytes, ` +\n",
              "        `last modified: ${\n",
              "            file.lastModifiedDate ? file.lastModifiedDate.toLocaleDateString() :\n",
              "                                    'n/a'} - `));\n",
              "    const percent = span('0% done');\n",
              "    li.appendChild(percent);\n",
              "\n",
              "    outputElement.appendChild(li);\n",
              "\n",
              "    const fileDataPromise = new Promise((resolve) => {\n",
              "      const reader = new FileReader();\n",
              "      reader.onload = (e) => {\n",
              "        resolve(e.target.result);\n",
              "      };\n",
              "      reader.readAsArrayBuffer(file);\n",
              "    });\n",
              "    // Wait for the data to be ready.\n",
              "    let fileData = yield {\n",
              "      promise: fileDataPromise,\n",
              "      response: {\n",
              "        action: 'continue',\n",
              "      }\n",
              "    };\n",
              "\n",
              "    // Use a chunked sending to avoid message size limits. See b/62115660.\n",
              "    let position = 0;\n",
              "    do {\n",
              "      const length = Math.min(fileData.byteLength - position, MAX_PAYLOAD_SIZE);\n",
              "      const chunk = new Uint8Array(fileData, position, length);\n",
              "      position += length;\n",
              "\n",
              "      const base64 = btoa(String.fromCharCode.apply(null, chunk));\n",
              "      yield {\n",
              "        response: {\n",
              "          action: 'append',\n",
              "          file: file.name,\n",
              "          data: base64,\n",
              "        },\n",
              "      };\n",
              "\n",
              "      let percentDone = fileData.byteLength === 0 ?\n",
              "          100 :\n",
              "          Math.round((position / fileData.byteLength) * 100);\n",
              "      percent.textContent = `${percentDone}% done`;\n",
              "\n",
              "    } while (position < fileData.byteLength);\n",
              "  }\n",
              "\n",
              "  // All done.\n",
              "  yield {\n",
              "    response: {\n",
              "      action: 'complete',\n",
              "    }\n",
              "  };\n",
              "}\n",
              "\n",
              "scope.google = scope.google || {};\n",
              "scope.google.colab = scope.google.colab || {};\n",
              "scope.google.colab._files = {\n",
              "  _uploadFiles,\n",
              "  _uploadFilesContinue,\n",
              "};\n",
              "})(self);\n",
              "</script> "
            ]
          },
          "metadata": {}
        },
        {
          "output_type": "stream",
          "name": "stdout",
          "text": [
            "Saving ConvertedTable.xlsx to ConvertedTable.xlsx\n"
          ]
        }
      ]
    },
    {
      "cell_type": "code",
      "source": [
        "data = pd.read_excel(uploaded['ConvertedTable.xlsx'])\n",
        "#womenData = data[data['Пол'] == 1].copy()\n",
        "#menData = data[data['Пол'] == 0].copy()\n",
        "\n",
        "questions = data[data.columns[4:]]\n",
        "peoples = questions.T"
      ],
      "metadata": {
        "id": "atYIt__zl3DT"
      },
      "execution_count": 3,
      "outputs": []
    },
    {
      "cell_type": "code",
      "source": [
        "#Распределение вопросов на 3 и на 5 групп\n",
        "\n",
        "# group_num3 = [0] * 52\n",
        "group_num5 = [0] * 52\n",
        "\n",
        "# num3 = {\n",
        "#     1: list(range(0,17)) + list(range(21,24)),\n",
        "#     2: list(range(17,21)) + [34, 35, 37, 39, 40] + list(range(44,47)) + [49, 50],\n",
        "#     3: list(range(24,34)) + [36,38] + list(range(41,44)) + [47,48,51]\n",
        "# }\n",
        "num5 = {\n",
        "    1: list(range(0,9)),\n",
        "    2: list(range(9,17)) + list(range(21,24)),\n",
        "    3: list(range(17,21)) + [34,35,37,39,40] + list(range(44,47)) + [49,50],\n",
        "    4: list(range(24,27)) + list(range(28,32)) + [33,36,38,43,47,48,51],\n",
        "    5: [27,32,41,42]\n",
        "}\n",
        "\n",
        "#num[1], num3[2], num3[3]\n",
        "#num3[1][0] - var[key][index_list]\n",
        "\n",
        "# for i in range(len(group_num3)):\n",
        "#   for j in range(1,4):\n",
        "#     if i in num3[j]:\n",
        "#       group_num3[i] = j\n",
        "\n",
        "for i in range(len(group_num5)):\n",
        "  for j in range(1,6):\n",
        "    if i in num5[j]:\n",
        "      group_num5[i] = j\n",
        "\n",
        "# print(\"Данные массивы содержат информацию о соответствии вопроса анкеты номеру класса.\\n\")\n",
        "# print(\"Ниже указано распределение на 3 класса:\\n1 класс - Учебный процесс и организация работы учебного заведения.\\n2 класс - Выбор профессии и актуальность предоставляемой информации.\\n3 класс - Внутренние переживания и личностные проблемы\")\n",
        "# print(group_num3)\n",
        "\n",
        "print(\"\\nНиже указано распределение на 5 классов:\\n1 класс - Организация работы учебного заведения\\n2 класс - Преподавательская деятельность\\n3 класс - Профессия\\n4 класс - Личность\\n5 класс - Социальная адаптация\\n\")\n",
        "print(group_num5)\n"
      ],
      "metadata": {
        "id": "SN8KIVnKmGP0",
        "outputId": "d0aa96b7-ee26-45e3-ba26-8794d563a22a",
        "colab": {
          "base_uri": "https://localhost:8080/"
        }
      },
      "execution_count": 57,
      "outputs": [
        {
          "output_type": "stream",
          "name": "stdout",
          "text": [
            "\n",
            "Ниже указано распределение на 5 классов:\n",
            "1 класс - Организация работы учебного заведения\n",
            "2 класс - Преподавательская деятельность\n",
            "3 класс - Профессия\n",
            "4 класс - Личность\n",
            "5 класс - Социальная адаптация\n",
            "\n",
            "[1, 1, 1, 1, 1, 1, 1, 1, 1, 2, 2, 2, 2, 2, 2, 2, 2, 3, 3, 3, 3, 2, 2, 2, 4, 4, 4, 5, 4, 4, 4, 4, 5, 4, 3, 3, 4, 3, 4, 3, 3, 5, 5, 4, 3, 3, 3, 4, 4, 3, 3, 4]\n"
          ]
        }
      ]
    },
    {
      "cell_type": "code",
      "source": [
        "#x_train, x_test = train_test_split(questions, test_size=0.2, random_state=0)\n",
        "X = questions.copy()"
      ],
      "metadata": {
        "id": "XfXBvb7Em0vc"
      },
      "execution_count": 5,
      "outputs": []
    },
    {
      "cell_type": "code",
      "source": [
        "kmeans = KMeans(n_clusters = 4)\n",
        "kmeans.fit(X)\n",
        "rez_kmeans = kmeans.predict(X)\n",
        "\n",
        "print(\"Ниже представлено распределение респондентов по схожести между друг другом на 4 группы:\")\n",
        "print(rez_kmeans)"
      ],
      "metadata": {
        "id": "CUuhzvCLphVM",
        "outputId": "3dcb9895-92c6-4e1d-bfbd-d4eac02dda2b",
        "colab": {
          "base_uri": "https://localhost:8080/"
        }
      },
      "execution_count": 6,
      "outputs": [
        {
          "output_type": "stream",
          "name": "stdout",
          "text": [
            "Ниже представлено распределение респондентов по схожести между друг другом на 4 группы:\n",
            "[1 0 3 0 3 3 3 1 3 2 2 3 0 3 1 2 2 0 1 0 0 0 1 2 0 1 3 0 3 0 3 1 3 3 0 3 2\n",
            " 0 0 3 3 3 3 1 3 2 3 0 0 0 3 2 3 2 3 3 2 0 0 2 0 2 2 3 2 3 3 3 3 0 1 0 1 0\n",
            " 2 2 2 2 1 0 2 1 0 0 2 3 3 3 0 2 2 2 2 0 3 3 0 2 2 2 2 2 2 2 2 2]\n"
          ]
        },
        {
          "output_type": "stream",
          "name": "stderr",
          "text": [
            "/usr/local/lib/python3.10/dist-packages/sklearn/cluster/_kmeans.py:870: FutureWarning: The default value of `n_init` will change from 10 to 'auto' in 1.4. Set the value of `n_init` explicitly to suppress the warning\n",
            "  warnings.warn(\n"
          ]
        }
      ]
    },
    {
      "cell_type": "code",
      "source": [
        "#Собраны индексы людей, которые принадлежат каждой группе\n",
        "indexPeople_4 = {\n",
        "    0: [],\n",
        "    1: [],\n",
        "    2: [],\n",
        "    3: []\n",
        "}\n",
        "for i in range(len(indexPeople_4)):\n",
        "  for j in range(len(rez_kmeans)):\n",
        "    if(rez_kmeans[j] == i):\n",
        "      indexPeople_4[i].append(j)"
      ],
      "metadata": {
        "id": "1QFOig8xq6iQ"
      },
      "execution_count": 7,
      "outputs": []
    },
    {
      "cell_type": "markdown",
      "source": [
        "#КЛАСТЕРИЗАЦИЯ"
      ],
      "metadata": {
        "id": "u2rntFkzRDF-"
      }
    },
    {
      "cell_type": "code",
      "source": [
        "def printCluster_classQuestion(numCluster, numQuesGroup):\n",
        "  print('Группировка по классу вопросов:')\n",
        "  if(numQuesGroup == 1):\n",
        "    print('1 класс - Организация работы учебного заведения\\n')\n",
        "  elif(numQuesGroup == 2):\n",
        "    print('2 класс - Преподавательская деятельность\\n')\n",
        "  elif(numQuesGroup == 3):\n",
        "    print('3 класс - Профессия\\n')\n",
        "  elif(numQuesGroup == 4):\n",
        "    print('4 класс - Личность\\n')\n",
        "  else:\n",
        "    print('5 класс - Социальная адаптация\\n')\n",
        "\n",
        "\n",
        "  print(stat.mean((peoples.loc[questions.columns[num5[numQuesGroup]], peoples.columns[indexPeople_4[numCluster]]].describe().T)['mean']))\n",
        "  #peoples.loc[questions.columns[num5[numQuesGroup]], peoples.columns[indexPeople_4[numCluster]]].describe().T"
      ],
      "metadata": {
        "id": "qNp9T4dCRI7u"
      },
      "execution_count": 36,
      "outputs": []
    },
    {
      "cell_type": "markdown",
      "source": [
        "#Статистика по 1-му кластеру:\n",
        "Статистика идёт для каждого респондента по вопросам 1-5 групп"
      ],
      "metadata": {
        "id": "wfzJ28-j7-1x"
      }
    },
    {
      "cell_type": "code",
      "source": [
        "#questions.loc[indexPeople_4[0], questions.columns[num5[1]]].describe().T)\n",
        "printCluster_classQuestion(0, 1)"
      ],
      "metadata": {
        "id": "w_fFoRmfukuF",
        "outputId": "0718ddf2-420e-4a50-c31e-7b9a12fe9b4e",
        "colab": {
          "base_uri": "https://localhost:8080/"
        }
      },
      "execution_count": 37,
      "outputs": [
        {
          "output_type": "stream",
          "name": "stdout",
          "text": [
            "Группировка по классу вопросов:\n",
            "1 класс - Организация работы учебного заведения\n",
            "\n",
            "3.6825396825396823\n"
          ]
        }
      ]
    },
    {
      "cell_type": "code",
      "source": [
        "#questions.loc[indexPeople_4[0], questions.columns[num5[2]]].describe().T\n",
        "printCluster_classQuestion(0, 2)"
      ],
      "metadata": {
        "id": "1QvE-ZDSAe9I",
        "outputId": "4ea87008-7199-4394-afc2-505d62d12ba4",
        "colab": {
          "base_uri": "https://localhost:8080/"
        }
      },
      "execution_count": 38,
      "outputs": [
        {
          "output_type": "stream",
          "name": "stdout",
          "text": [
            "Группировка по классу вопросов:\n",
            "2 класс - Преподавательская деятельность\n",
            "\n",
            "4.535714285714286\n"
          ]
        }
      ]
    },
    {
      "cell_type": "code",
      "source": [
        "#questions.loc[indexPeople_4[0], questions.columns[num5[3]]].describe().T\n",
        "printCluster_classQuestion(0, 3)"
      ],
      "metadata": {
        "id": "UX84cgLEAiH_",
        "outputId": "e4965aab-c90b-4b63-ceb1-d4627a7da5f3",
        "colab": {
          "base_uri": "https://localhost:8080/"
        }
      },
      "execution_count": 39,
      "outputs": [
        {
          "output_type": "stream",
          "name": "stdout",
          "text": [
            "Группировка по классу вопросов:\n",
            "3 класс - Профессия\n",
            "\n",
            "2.326530612244898\n"
          ]
        }
      ]
    },
    {
      "cell_type": "code",
      "source": [
        "#questions.loc[indexPeople_4[0], questions.columns[num5[4]]].describe().T\n",
        "printCluster_classQuestion(0, 4)"
      ],
      "metadata": {
        "id": "Pn_YS7XEAjxd",
        "outputId": "02ea0a4b-4cdc-463a-fbf4-95c65d6549ad",
        "colab": {
          "base_uri": "https://localhost:8080/"
        }
      },
      "execution_count": 40,
      "outputs": [
        {
          "output_type": "stream",
          "name": "stdout",
          "text": [
            "Группировка по классу вопросов:\n",
            "4 класс - Личность\n",
            "\n",
            "3.622448979591837\n"
          ]
        }
      ]
    },
    {
      "cell_type": "code",
      "source": [
        "#questions.loc[indexPeople_4[0], questions.columns[num5[5]]].describe().T\n",
        "printCluster_classQuestion(0, 5)"
      ],
      "metadata": {
        "id": "jNEJrIXQAlO3",
        "outputId": "164c7bec-7d6e-4c7b-d745-e84f7c1540f9",
        "colab": {
          "base_uri": "https://localhost:8080/"
        }
      },
      "execution_count": 41,
      "outputs": [
        {
          "output_type": "stream",
          "name": "stdout",
          "text": [
            "Группировка по классу вопросов:\n",
            "5 класс - Социальная адаптация\n",
            "\n",
            "1.2142857142857142\n"
          ]
        }
      ]
    },
    {
      "cell_type": "markdown",
      "source": [
        "#Статистика по 2-му кластеру:"
      ],
      "metadata": {
        "id": "wFxUfMEXAW89"
      }
    },
    {
      "cell_type": "code",
      "source": [
        "#questions.loc[indexPeople_4[1], :].describe().T\n",
        "printCluster_classQuestion(1, 1)"
      ],
      "metadata": {
        "id": "ngRczpeVv04L",
        "outputId": "997d62a7-2dee-4320-eaa6-09e1b7af3896",
        "colab": {
          "base_uri": "https://localhost:8080/"
        }
      },
      "execution_count": 42,
      "outputs": [
        {
          "output_type": "stream",
          "name": "stdout",
          "text": [
            "Группировка по классу вопросов:\n",
            "1 класс - Организация работы учебного заведения\n",
            "\n",
            "6.361111111111111\n"
          ]
        }
      ]
    },
    {
      "cell_type": "code",
      "source": [
        "#stat.mean((questions.loc[indexPeople_4[1], questions.columns[num5[2]]].describe().T)['mean'])\n",
        "printCluster_classQuestion(1, 2)"
      ],
      "metadata": {
        "id": "OOvX2abkJr9L",
        "outputId": "7bf3431d-b8be-4e24-cd99-6b472dbd0eb7",
        "colab": {
          "base_uri": "https://localhost:8080/"
        }
      },
      "execution_count": 43,
      "outputs": [
        {
          "output_type": "stream",
          "name": "stdout",
          "text": [
            "Группировка по классу вопросов:\n",
            "2 класс - Преподавательская деятельность\n",
            "\n",
            "7.568181818181818\n"
          ]
        }
      ]
    },
    {
      "cell_type": "code",
      "source": [
        "#stat.mean((questions.loc[indexPeople_4[1], questions.columns[num5[3]]].describe().T)['mean'])\n",
        "printCluster_classQuestion(1, 3)"
      ],
      "metadata": {
        "id": "6bPCR2mWJuIc",
        "outputId": "10775014-9a36-44bf-f33d-c3408ec73017",
        "colab": {
          "base_uri": "https://localhost:8080/"
        }
      },
      "execution_count": 44,
      "outputs": [
        {
          "output_type": "stream",
          "name": "stdout",
          "text": [
            "Группировка по классу вопросов:\n",
            "3 класс - Профессия\n",
            "\n",
            "6.571428571428571\n"
          ]
        }
      ]
    },
    {
      "cell_type": "code",
      "source": [
        "#stat.mean((questions.loc[indexPeople_4[1], questions.columns[num5[4]]].describe().T)['mean'])\n",
        "printCluster_classQuestion(1, 4)"
      ],
      "metadata": {
        "id": "vc3fQh_YJw5v",
        "outputId": "d0157a31-cdb5-4a15-d441-0bce02a08f86",
        "colab": {
          "base_uri": "https://localhost:8080/"
        }
      },
      "execution_count": 45,
      "outputs": [
        {
          "output_type": "stream",
          "name": "stdout",
          "text": [
            "Группировка по классу вопросов:\n",
            "4 класс - Личность\n",
            "\n",
            "7.261904761904762\n"
          ]
        }
      ]
    },
    {
      "cell_type": "code",
      "source": [
        "#stat.mean((questions.loc[indexPeople_4[1], questions.columns[num5[5]]].describe().T)['mean'])\n",
        "printCluster_classQuestion(1, 5)"
      ],
      "metadata": {
        "id": "yh_3nbppJy6Y",
        "outputId": "b1c7f2c7-9aed-419f-f293-86bc58dc21e5",
        "colab": {
          "base_uri": "https://localhost:8080/"
        }
      },
      "execution_count": 46,
      "outputs": [
        {
          "output_type": "stream",
          "name": "stdout",
          "text": [
            "Группировка по классу вопросов:\n",
            "5 класс - Социальная адаптация\n",
            "\n",
            "4.979166666666667\n"
          ]
        }
      ]
    },
    {
      "cell_type": "markdown",
      "source": [
        "#Статистика по 3-му кластеру:"
      ],
      "metadata": {
        "id": "ONF-eWSmAY5q"
      }
    },
    {
      "cell_type": "code",
      "source": [
        "#questions.loc[indexPeople_4[2], :].describe().T\n",
        "printCluster_classQuestion(2, 1)"
      ],
      "metadata": {
        "id": "JYs1cXt6v4Bv",
        "outputId": "698c6231-a993-49c5-d9b7-6a0aeacc1f63",
        "colab": {
          "base_uri": "https://localhost:8080/"
        }
      },
      "execution_count": 47,
      "outputs": [
        {
          "output_type": "stream",
          "name": "stdout",
          "text": [
            "Группировка по классу вопросов:\n",
            "1 класс - Организация работы учебного заведения\n",
            "\n",
            "1.8148148148148149\n"
          ]
        }
      ]
    },
    {
      "cell_type": "code",
      "source": [
        "#stat.mean((questions.loc[indexPeople_4[2], questions.columns[num5[2]]].describe().T)['mean'])\n",
        "printCluster_classQuestion(2, 2)"
      ],
      "metadata": {
        "id": "fwAlawm9J9wO",
        "outputId": "9c82ebd8-481f-42b6-e126-bb7fd8f45b0e",
        "colab": {
          "base_uri": "https://localhost:8080/"
        }
      },
      "execution_count": 48,
      "outputs": [
        {
          "output_type": "stream",
          "name": "stdout",
          "text": [
            "Группировка по классу вопросов:\n",
            "2 класс - Преподавательская деятельность\n",
            "\n",
            "1.7079889807162534\n"
          ]
        }
      ]
    },
    {
      "cell_type": "code",
      "source": [
        "#stat.mean((questions.loc[indexPeople_4[2], questions.columns[num5[3]]].describe().T)['mean'])\n",
        "printCluster_classQuestion(2, 3)"
      ],
      "metadata": {
        "id": "y3243AGsAakO",
        "outputId": "27fd0b97-4cfe-45f9-ee04-a78e82606983",
        "colab": {
          "base_uri": "https://localhost:8080/"
        }
      },
      "execution_count": 49,
      "outputs": [
        {
          "output_type": "stream",
          "name": "stdout",
          "text": [
            "Группировка по классу вопросов:\n",
            "3 класс - Профессия\n",
            "\n",
            "1.2012987012987013\n"
          ]
        }
      ]
    },
    {
      "cell_type": "code",
      "source": [
        "#stat.mean((questions.loc[indexPeople_4[2], questions.columns[num5[4]]].describe().T)['mean'])\n",
        "printCluster_classQuestion(2, 4)"
      ],
      "metadata": {
        "id": "mQDBz6M4KA5d",
        "outputId": "89680e41-5000-47ee-8dae-107df6497ae7",
        "colab": {
          "base_uri": "https://localhost:8080/"
        }
      },
      "execution_count": 50,
      "outputs": [
        {
          "output_type": "stream",
          "name": "stdout",
          "text": [
            "Группировка по классу вопросов:\n",
            "4 класс - Личность\n",
            "\n",
            "2.196969696969697\n"
          ]
        }
      ]
    },
    {
      "cell_type": "code",
      "source": [
        "#stat.mean((questions.loc[indexPeople_4[2], questions.columns[num5[5]]].describe().T)['mean'])\n",
        "printCluster_classQuestion(2, 5)"
      ],
      "metadata": {
        "id": "H5HftDceKCk-",
        "outputId": "3884e45e-5f69-4262-f165-41d9f415f84f",
        "colab": {
          "base_uri": "https://localhost:8080/"
        }
      },
      "execution_count": 51,
      "outputs": [
        {
          "output_type": "stream",
          "name": "stdout",
          "text": [
            "Группировка по классу вопросов:\n",
            "5 класс - Социальная адаптация\n",
            "\n",
            "0.7272727272727273\n"
          ]
        }
      ]
    },
    {
      "cell_type": "markdown",
      "source": [
        "#Статистика по 4-му кластеру:"
      ],
      "metadata": {
        "id": "AI_W2LA1Aa9d"
      }
    },
    {
      "cell_type": "code",
      "source": [
        "#questions.loc[indexPeople_4[3], :].describe().T\n",
        "printCluster_classQuestion(3, 1)"
      ],
      "metadata": {
        "id": "6Iq4FGY5v6Lx",
        "outputId": "e8f05d61-eff1-41fb-f082-94059af7d978",
        "colab": {
          "base_uri": "https://localhost:8080/"
        }
      },
      "execution_count": 52,
      "outputs": [
        {
          "output_type": "stream",
          "name": "stdout",
          "text": [
            "Группировка по классу вопросов:\n",
            "1 класс - Организация работы учебного заведения\n",
            "\n",
            "3.4276094276094278\n"
          ]
        }
      ]
    },
    {
      "cell_type": "code",
      "source": [
        "#stat.mean((questions.loc[indexPeople_4[3], questions.columns[num5[2]]].describe().T)['mean'])\n",
        "printCluster_classQuestion(3, 2)"
      ],
      "metadata": {
        "id": "Xj5IokoCKNNo",
        "outputId": "5a96d5d2-c82c-452a-8bed-f76f4348efa7",
        "colab": {
          "base_uri": "https://localhost:8080/"
        }
      },
      "execution_count": 53,
      "outputs": [
        {
          "output_type": "stream",
          "name": "stdout",
          "text": [
            "Группировка по классу вопросов:\n",
            "2 класс - Преподавательская деятельность\n",
            "\n",
            "4.214876033057851\n"
          ]
        }
      ]
    },
    {
      "cell_type": "code",
      "source": [
        "#stat.mean((questions.loc[indexPeople_4[3], questions.columns[num5[3]]].describe().T)['mean'])\n",
        "printCluster_classQuestion(3, 3)"
      ],
      "metadata": {
        "id": "b9RPGVjB7SEK",
        "outputId": "e9c1d810-c9ac-4699-9c31-d8bf2ff4a3d3",
        "colab": {
          "base_uri": "https://localhost:8080/"
        }
      },
      "execution_count": 54,
      "outputs": [
        {
          "output_type": "stream",
          "name": "stdout",
          "text": [
            "Группировка по классу вопросов:\n",
            "3 класс - Профессия\n",
            "\n",
            "4.5476190476190474\n"
          ]
        }
      ]
    },
    {
      "cell_type": "code",
      "source": [
        "#stat.mean((questions.loc[indexPeople_4[3], questions.columns[num5[4]]].describe().T)['mean'])\n",
        "printCluster_classQuestion(3, 4)"
      ],
      "metadata": {
        "id": "qgZKENYDKQVF",
        "outputId": "620192ac-a7c6-4fb3-f78b-4cd91ef4de37",
        "colab": {
          "base_uri": "https://localhost:8080/"
        }
      },
      "execution_count": 56,
      "outputs": [
        {
          "output_type": "stream",
          "name": "stdout",
          "text": [
            "Группировка по классу вопросов:\n",
            "4 класс - Личность\n",
            "\n",
            "4.984848484848484\n"
          ]
        }
      ]
    },
    {
      "cell_type": "code",
      "source": [
        "#stat.mean((questions.loc[indexPeople_4[3], questions.columns[num5[5]]].describe().T)['mean'])\n",
        "printCluster_classQuestion(3, 5)"
      ],
      "metadata": {
        "id": "TkLAaW2XKQ-u",
        "outputId": "347b8523-4a89-4cee-8fca-b365b6393e15",
        "colab": {
          "base_uri": "https://localhost:8080/"
        }
      },
      "execution_count": 55,
      "outputs": [
        {
          "output_type": "stream",
          "name": "stdout",
          "text": [
            "Группировка по классу вопросов:\n",
            "5 класс - Социальная адаптация\n",
            "\n",
            "2.0984848484848486\n"
          ]
        }
      ]
    },
    {
      "cell_type": "markdown",
      "source": [
        "#КЛАССИФИКАЦИЯ (С УЧИТЕЛЕМ)\n",
        "\n",
        "####Самые недовольные - **холерики**\n",
        "####После идут **сангвиники** (энергичные, не имеют проблем в общении, теряют интерес к рутине) и **меланхолики** (нестабильные, чувствительные, одинокие, но трудолюбивые). Они на одном уровне - среднем.\n",
        "####Самые лояльные - **флегматики**."
      ],
      "metadata": {
        "id": "JEdBlI1VUF8T"
      }
    },
    {
      "cell_type": "code",
      "source": [],
      "metadata": {
        "id": "k4EjA2oLUKWq"
      },
      "execution_count": null,
      "outputs": []
    }
  ]
}