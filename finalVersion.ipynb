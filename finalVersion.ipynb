{
  "nbformat": 4,
  "nbformat_minor": 0,
  "metadata": {
    "colab": {
      "provenance": [],
      "authorship_tag": "ABX9TyMvk1lOwIdekC21O4TT4wnn",
      "include_colab_link": true
    },
    "kernelspec": {
      "name": "python3",
      "display_name": "Python 3"
    },
    "language_info": {
      "name": "python"
    }
  },
  "cells": [
    {
      "cell_type": "markdown",
      "metadata": {
        "id": "view-in-github",
        "colab_type": "text"
      },
      "source": [
        "<a href=\"https://colab.research.google.com/github/Viktory4121/diploma/blob/main/finalVersion.ipynb\" target=\"_parent\"><img src=\"https://colab.research.google.com/assets/colab-badge.svg\" alt=\"Open In Colab\"/></a>"
      ]
    },
    {
      "cell_type": "code",
      "execution_count": 21,
      "metadata": {
        "id": "1PCNvd9tlfdM"
      },
      "outputs": [],
      "source": [
        "from google.colab import files\n",
        "import xlrd\n",
        "import pandas as pd\n",
        "import numpy as np\n",
        "#%matplotlib inline\n",
        "#import matplotlib.pyplot as plt\n",
        "from sklearn.cluster import KMeans\n",
        "\n",
        "#import modules\n",
        "#from sklearn.linear_model import LinearRegression\n",
        "from sklearn.model_selection import train_test_split\n",
        "from sklearn.metrics import mean_absolute_error, mean_squared_error, median_absolute_error, r2_score\n",
        "#from sklearn import metrics\n",
        "\n",
        "\n",
        "# Сброс ограничений на количество выводимых рядов\n",
        "pd.set_option('display.max_rows', None)\n",
        "# Сброс ограничений на число столбцов\n",
        "pd.set_option('display.max_columns', None)\n",
        "# Сброс ограничений на количество символов в записи\n",
        "pd.set_option('display.max_colwidth', None)"
      ]
    },
    {
      "cell_type": "code",
      "source": [
        "uploaded = files.upload()"
      ],
      "metadata": {
        "id": "eq0Cc3K6lyfO",
        "outputId": "78666c00-49ab-46a4-c5a0-9635185c8e9b",
        "colab": {
          "base_uri": "https://localhost:8080/",
          "height": 73
        }
      },
      "execution_count": 2,
      "outputs": [
        {
          "output_type": "display_data",
          "data": {
            "text/plain": [
              "<IPython.core.display.HTML object>"
            ],
            "text/html": [
              "\n",
              "     <input type=\"file\" id=\"files-8c755ae9-31b1-4c28-9bf5-c5376d85a6fd\" name=\"files[]\" multiple disabled\n",
              "        style=\"border:none\" />\n",
              "     <output id=\"result-8c755ae9-31b1-4c28-9bf5-c5376d85a6fd\">\n",
              "      Upload widget is only available when the cell has been executed in the\n",
              "      current browser session. Please rerun this cell to enable.\n",
              "      </output>\n",
              "      <script>// Copyright 2017 Google LLC\n",
              "//\n",
              "// Licensed under the Apache License, Version 2.0 (the \"License\");\n",
              "// you may not use this file except in compliance with the License.\n",
              "// You may obtain a copy of the License at\n",
              "//\n",
              "//      http://www.apache.org/licenses/LICENSE-2.0\n",
              "//\n",
              "// Unless required by applicable law or agreed to in writing, software\n",
              "// distributed under the License is distributed on an \"AS IS\" BASIS,\n",
              "// WITHOUT WARRANTIES OR CONDITIONS OF ANY KIND, either express or implied.\n",
              "// See the License for the specific language governing permissions and\n",
              "// limitations under the License.\n",
              "\n",
              "/**\n",
              " * @fileoverview Helpers for google.colab Python module.\n",
              " */\n",
              "(function(scope) {\n",
              "function span(text, styleAttributes = {}) {\n",
              "  const element = document.createElement('span');\n",
              "  element.textContent = text;\n",
              "  for (const key of Object.keys(styleAttributes)) {\n",
              "    element.style[key] = styleAttributes[key];\n",
              "  }\n",
              "  return element;\n",
              "}\n",
              "\n",
              "// Max number of bytes which will be uploaded at a time.\n",
              "const MAX_PAYLOAD_SIZE = 100 * 1024;\n",
              "\n",
              "function _uploadFiles(inputId, outputId) {\n",
              "  const steps = uploadFilesStep(inputId, outputId);\n",
              "  const outputElement = document.getElementById(outputId);\n",
              "  // Cache steps on the outputElement to make it available for the next call\n",
              "  // to uploadFilesContinue from Python.\n",
              "  outputElement.steps = steps;\n",
              "\n",
              "  return _uploadFilesContinue(outputId);\n",
              "}\n",
              "\n",
              "// This is roughly an async generator (not supported in the browser yet),\n",
              "// where there are multiple asynchronous steps and the Python side is going\n",
              "// to poll for completion of each step.\n",
              "// This uses a Promise to block the python side on completion of each step,\n",
              "// then passes the result of the previous step as the input to the next step.\n",
              "function _uploadFilesContinue(outputId) {\n",
              "  const outputElement = document.getElementById(outputId);\n",
              "  const steps = outputElement.steps;\n",
              "\n",
              "  const next = steps.next(outputElement.lastPromiseValue);\n",
              "  return Promise.resolve(next.value.promise).then((value) => {\n",
              "    // Cache the last promise value to make it available to the next\n",
              "    // step of the generator.\n",
              "    outputElement.lastPromiseValue = value;\n",
              "    return next.value.response;\n",
              "  });\n",
              "}\n",
              "\n",
              "/**\n",
              " * Generator function which is called between each async step of the upload\n",
              " * process.\n",
              " * @param {string} inputId Element ID of the input file picker element.\n",
              " * @param {string} outputId Element ID of the output display.\n",
              " * @return {!Iterable<!Object>} Iterable of next steps.\n",
              " */\n",
              "function* uploadFilesStep(inputId, outputId) {\n",
              "  const inputElement = document.getElementById(inputId);\n",
              "  inputElement.disabled = false;\n",
              "\n",
              "  const outputElement = document.getElementById(outputId);\n",
              "  outputElement.innerHTML = '';\n",
              "\n",
              "  const pickedPromise = new Promise((resolve) => {\n",
              "    inputElement.addEventListener('change', (e) => {\n",
              "      resolve(e.target.files);\n",
              "    });\n",
              "  });\n",
              "\n",
              "  const cancel = document.createElement('button');\n",
              "  inputElement.parentElement.appendChild(cancel);\n",
              "  cancel.textContent = 'Cancel upload';\n",
              "  const cancelPromise = new Promise((resolve) => {\n",
              "    cancel.onclick = () => {\n",
              "      resolve(null);\n",
              "    };\n",
              "  });\n",
              "\n",
              "  // Wait for the user to pick the files.\n",
              "  const files = yield {\n",
              "    promise: Promise.race([pickedPromise, cancelPromise]),\n",
              "    response: {\n",
              "      action: 'starting',\n",
              "    }\n",
              "  };\n",
              "\n",
              "  cancel.remove();\n",
              "\n",
              "  // Disable the input element since further picks are not allowed.\n",
              "  inputElement.disabled = true;\n",
              "\n",
              "  if (!files) {\n",
              "    return {\n",
              "      response: {\n",
              "        action: 'complete',\n",
              "      }\n",
              "    };\n",
              "  }\n",
              "\n",
              "  for (const file of files) {\n",
              "    const li = document.createElement('li');\n",
              "    li.append(span(file.name, {fontWeight: 'bold'}));\n",
              "    li.append(span(\n",
              "        `(${file.type || 'n/a'}) - ${file.size} bytes, ` +\n",
              "        `last modified: ${\n",
              "            file.lastModifiedDate ? file.lastModifiedDate.toLocaleDateString() :\n",
              "                                    'n/a'} - `));\n",
              "    const percent = span('0% done');\n",
              "    li.appendChild(percent);\n",
              "\n",
              "    outputElement.appendChild(li);\n",
              "\n",
              "    const fileDataPromise = new Promise((resolve) => {\n",
              "      const reader = new FileReader();\n",
              "      reader.onload = (e) => {\n",
              "        resolve(e.target.result);\n",
              "      };\n",
              "      reader.readAsArrayBuffer(file);\n",
              "    });\n",
              "    // Wait for the data to be ready.\n",
              "    let fileData = yield {\n",
              "      promise: fileDataPromise,\n",
              "      response: {\n",
              "        action: 'continue',\n",
              "      }\n",
              "    };\n",
              "\n",
              "    // Use a chunked sending to avoid message size limits. See b/62115660.\n",
              "    let position = 0;\n",
              "    do {\n",
              "      const length = Math.min(fileData.byteLength - position, MAX_PAYLOAD_SIZE);\n",
              "      const chunk = new Uint8Array(fileData, position, length);\n",
              "      position += length;\n",
              "\n",
              "      const base64 = btoa(String.fromCharCode.apply(null, chunk));\n",
              "      yield {\n",
              "        response: {\n",
              "          action: 'append',\n",
              "          file: file.name,\n",
              "          data: base64,\n",
              "        },\n",
              "      };\n",
              "\n",
              "      let percentDone = fileData.byteLength === 0 ?\n",
              "          100 :\n",
              "          Math.round((position / fileData.byteLength) * 100);\n",
              "      percent.textContent = `${percentDone}% done`;\n",
              "\n",
              "    } while (position < fileData.byteLength);\n",
              "  }\n",
              "\n",
              "  // All done.\n",
              "  yield {\n",
              "    response: {\n",
              "      action: 'complete',\n",
              "    }\n",
              "  };\n",
              "}\n",
              "\n",
              "scope.google = scope.google || {};\n",
              "scope.google.colab = scope.google.colab || {};\n",
              "scope.google.colab._files = {\n",
              "  _uploadFiles,\n",
              "  _uploadFilesContinue,\n",
              "};\n",
              "})(self);\n",
              "</script> "
            ]
          },
          "metadata": {}
        },
        {
          "output_type": "stream",
          "name": "stdout",
          "text": [
            "Saving ConvertedTable.xlsx to ConvertedTable.xlsx\n"
          ]
        }
      ]
    },
    {
      "cell_type": "code",
      "source": [
        "data = pd.read_excel(uploaded['ConvertedTable.xlsx'])\n",
        "#womenData = data[data['Пол'] == 1].copy()\n",
        "#menData = data[data['Пол'] == 0].copy()\n",
        "\n",
        "questions = data[data.columns[4:]]\n",
        "peoples = questions.T"
      ],
      "metadata": {
        "id": "atYIt__zl3DT"
      },
      "execution_count": 3,
      "outputs": []
    },
    {
      "cell_type": "code",
      "source": [
        "#questions.describe()"
      ],
      "metadata": {
        "id": "aZngGqXql7eq"
      },
      "execution_count": 7,
      "outputs": []
    },
    {
      "cell_type": "code",
      "source": [
        "#print('Общая статистика по респондентам\\n')\n",
        "#peoples.describe().T"
      ],
      "metadata": {
        "id": "1efb1Bq4mBZc"
      },
      "execution_count": 22,
      "outputs": []
    },
    {
      "cell_type": "code",
      "source": [
        "#Распределение вопросов на 3 и на 5 групп\n",
        "\n",
        "group_num3 = [0] * 52\n",
        "group_num5 = [0] * 52\n",
        "\n",
        "num3 = {\n",
        "    1: list(range(0,17)) + list(range(21,24)),\n",
        "    2: list(range(17,21)) + [34, 35, 37, 39, 40] + list(range(44,47)) + [49, 50],\n",
        "    3: list(range(24,34)) + [36,38] + list(range(41,44)) + [47,48,51]\n",
        "}\n",
        "num5 = {\n",
        "    1: list(range(0,9)),\n",
        "    2: list(range(9,17)) + list(range(21,24)),\n",
        "    3: list(range(17,21)) + [34,35,37,39,40] + list(range(44,47)) + [49,50],\n",
        "    4: list(range(24,27)) + list(range(28,32)) + [33,36,38,43,47,48,51],\n",
        "    5: [27,32,41,42]\n",
        "}\n",
        "\n",
        "#num[1], num3[2], num3[3]\n",
        "#num3[1][0] - var[key][index_list]\n",
        "\n",
        "for i in range(len(group_num3)):\n",
        "  for j in range(1,4):\n",
        "    if i in num3[j]:\n",
        "      group_num3[i] = j\n",
        "\n",
        "for i in range(len(group_num5)):\n",
        "  for j in range(1,6):\n",
        "    if i in num5[j]:\n",
        "      group_num5[i] = j\n",
        "\n",
        "print(\"Данные массивы содержат информацию о соответствии вопроса анкеты номеру класса.\\n\")\n",
        "print(\"Ниже указано распределение на 3 класса:\\n1 класс - Учебный процесс и организация работы учебного заведения.\\n2 класс - Выбор профессии и актуальность предоставляемой информации.\\n3 класс - Внутренние переживания и личностные проблемы\")\n",
        "print(group_num3)\n",
        "\n",
        "print(\"\\nНиже указано распределение на 5 классов:\\n1 класс - Организация работы учебного заведения\\n2 класс - Преподавательская деятельность\\n3 класс - Профессия\\n4 класс - Личность\\n5 класс - Социальная адаптация\\n\")\n",
        "print(group_num5)\n"
      ],
      "metadata": {
        "id": "SN8KIVnKmGP0",
        "outputId": "e84808ff-1cc0-484d-d898-98909d0c6f5d",
        "colab": {
          "base_uri": "https://localhost:8080/"
        }
      },
      "execution_count": 20,
      "outputs": [
        {
          "output_type": "stream",
          "name": "stdout",
          "text": [
            "Данные массивы содержат информацию о соответствии вопроса анкеты номеру класса.\n",
            "\n",
            "Ниже указано распределение на 3 класса:\n",
            "1 класс - Учебный процесс и организация работы учебного заведения.\n",
            "2 класс - Выбор профессии и актуальность предоставляемой информации.\n",
            "3 класс - Внутренние переживания и личностные проблемы\n",
            "[1, 1, 1, 1, 1, 1, 1, 1, 1, 1, 1, 1, 1, 1, 1, 1, 1, 2, 2, 2, 2, 1, 1, 1, 3, 3, 3, 3, 3, 3, 3, 3, 3, 3, 2, 2, 3, 2, 3, 2, 2, 3, 3, 3, 2, 2, 2, 3, 3, 2, 2, 3]\n",
            "\n",
            "Ниже указано распределение на 5 классов:\n",
            "1 класс - Организация работы учебного заведения\n",
            "2 класс - Преподавательская деятельность\n",
            "3 класс - Профессия\n",
            "4 класс - Личность\n",
            "5 класс - Социальная адаптация\n",
            "\n",
            "[1, 1, 1, 1, 1, 1, 1, 1, 1, 2, 2, 2, 2, 2, 2, 2, 2, 3, 3, 3, 3, 2, 2, 2, 4, 4, 4, 5, 4, 4, 4, 4, 5, 4, 3, 3, 4, 3, 4, 3, 3, 5, 5, 4, 3, 3, 3, 4, 4, 3, 3, 4]\n"
          ]
        }
      ]
    },
    {
      "cell_type": "code",
      "source": [
        "#x_train, x_test = train_test_split(questions, test_size=0.2, random_state=0)\n",
        "X = questions.copy()"
      ],
      "metadata": {
        "id": "XfXBvb7Em0vc"
      },
      "execution_count": 24,
      "outputs": []
    },
    {
      "cell_type": "code",
      "source": [
        "kmeans = KMeans(n_clusters = 4)\n",
        "kmeans.fit(X)\n",
        "y_kmeans = kmeans.predict(X)\n",
        "y_kmeans"
      ],
      "metadata": {
        "id": "CUuhzvCLphVM",
        "outputId": "b408f5dc-c667-40aa-d877-e58caa91d158",
        "colab": {
          "base_uri": "https://localhost:8080/"
        }
      },
      "execution_count": 25,
      "outputs": [
        {
          "output_type": "stream",
          "name": "stderr",
          "text": [
            "/usr/local/lib/python3.10/dist-packages/sklearn/cluster/_kmeans.py:870: FutureWarning: The default value of `n_init` will change from 10 to 'auto' in 1.4. Set the value of `n_init` explicitly to suppress the warning\n",
            "  warnings.warn(\n"
          ]
        },
        {
          "output_type": "execute_result",
          "data": {
            "text/plain": [
              "array([0, 1, 2, 3, 2, 2, 2, 0, 2, 1, 1, 2, 1, 2, 0, 1, 1, 1, 0, 3, 3, 3,\n",
              "       0, 1, 3, 0, 2, 3, 2, 3, 2, 0, 2, 2, 3, 2, 1, 1, 3, 2, 2, 2, 2, 2,\n",
              "       2, 1, 2, 3, 2, 3, 2, 1, 2, 1, 1, 2, 1, 3, 3, 1, 3, 1, 1, 2, 1, 2,\n",
              "       1, 2, 2, 1, 0, 3, 0, 3, 1, 1, 1, 1, 2, 1, 1, 2, 3, 3, 1, 2, 2, 2,\n",
              "       1, 1, 1, 1, 1, 3, 2, 2, 2, 1, 1, 1, 1, 1, 1, 1, 1, 1], dtype=int32)"
            ]
          },
          "metadata": {},
          "execution_count": 25
        }
      ]
    }
  ]
}