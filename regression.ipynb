{
  "nbformat": 4,
  "nbformat_minor": 0,
  "metadata": {
    "colab": {
      "provenance": [],
      "authorship_tag": "ABX9TyPyibt8lerVFEvxXV6G+q47",
      "include_colab_link": true
    },
    "kernelspec": {
      "name": "python3",
      "display_name": "Python 3"
    },
    "language_info": {
      "name": "python"
    }
  },
  "cells": [
    {
      "cell_type": "markdown",
      "metadata": {
        "id": "view-in-github",
        "colab_type": "text"
      },
      "source": [
        "<a href=\"https://colab.research.google.com/github/Viktory4121/diploma/blob/main/regression.ipynb\" target=\"_parent\"><img src=\"https://colab.research.google.com/assets/colab-badge.svg\" alt=\"Open In Colab\"/></a>"
      ]
    },
    {
      "cell_type": "code",
      "execution_count": 51,
      "metadata": {
        "id": "BKtRRb4YETIi"
      },
      "outputs": [],
      "source": [
        "import pandas as pd\n",
        "import numpy as np\n",
        "from google.colab import files\n",
        "import xlrd\n",
        "import io\n",
        "from sklearn.linear_model import LinearRegression"
      ]
    },
    {
      "cell_type": "code",
      "source": [
        "uploaded = files.upload()"
      ],
      "metadata": {
        "colab": {
          "base_uri": "https://localhost:8080/",
          "height": 73
        },
        "id": "3KuuD-FSFZh-",
        "outputId": "965d1f5f-1c8e-4e9e-ad4a-1b48947c11ad"
      },
      "execution_count": 38,
      "outputs": [
        {
          "output_type": "display_data",
          "data": {
            "text/plain": [
              "<IPython.core.display.HTML object>"
            ],
            "text/html": [
              "\n",
              "     <input type=\"file\" id=\"files-b0ef3987-25ff-4dbe-803f-f2e64318d1a2\" name=\"files[]\" multiple disabled\n",
              "        style=\"border:none\" />\n",
              "     <output id=\"result-b0ef3987-25ff-4dbe-803f-f2e64318d1a2\">\n",
              "      Upload widget is only available when the cell has been executed in the\n",
              "      current browser session. Please rerun this cell to enable.\n",
              "      </output>\n",
              "      <script>// Copyright 2017 Google LLC\n",
              "//\n",
              "// Licensed under the Apache License, Version 2.0 (the \"License\");\n",
              "// you may not use this file except in compliance with the License.\n",
              "// You may obtain a copy of the License at\n",
              "//\n",
              "//      http://www.apache.org/licenses/LICENSE-2.0\n",
              "//\n",
              "// Unless required by applicable law or agreed to in writing, software\n",
              "// distributed under the License is distributed on an \"AS IS\" BASIS,\n",
              "// WITHOUT WARRANTIES OR CONDITIONS OF ANY KIND, either express or implied.\n",
              "// See the License for the specific language governing permissions and\n",
              "// limitations under the License.\n",
              "\n",
              "/**\n",
              " * @fileoverview Helpers for google.colab Python module.\n",
              " */\n",
              "(function(scope) {\n",
              "function span(text, styleAttributes = {}) {\n",
              "  const element = document.createElement('span');\n",
              "  element.textContent = text;\n",
              "  for (const key of Object.keys(styleAttributes)) {\n",
              "    element.style[key] = styleAttributes[key];\n",
              "  }\n",
              "  return element;\n",
              "}\n",
              "\n",
              "// Max number of bytes which will be uploaded at a time.\n",
              "const MAX_PAYLOAD_SIZE = 100 * 1024;\n",
              "\n",
              "function _uploadFiles(inputId, outputId) {\n",
              "  const steps = uploadFilesStep(inputId, outputId);\n",
              "  const outputElement = document.getElementById(outputId);\n",
              "  // Cache steps on the outputElement to make it available for the next call\n",
              "  // to uploadFilesContinue from Python.\n",
              "  outputElement.steps = steps;\n",
              "\n",
              "  return _uploadFilesContinue(outputId);\n",
              "}\n",
              "\n",
              "// This is roughly an async generator (not supported in the browser yet),\n",
              "// where there are multiple asynchronous steps and the Python side is going\n",
              "// to poll for completion of each step.\n",
              "// This uses a Promise to block the python side on completion of each step,\n",
              "// then passes the result of the previous step as the input to the next step.\n",
              "function _uploadFilesContinue(outputId) {\n",
              "  const outputElement = document.getElementById(outputId);\n",
              "  const steps = outputElement.steps;\n",
              "\n",
              "  const next = steps.next(outputElement.lastPromiseValue);\n",
              "  return Promise.resolve(next.value.promise).then((value) => {\n",
              "    // Cache the last promise value to make it available to the next\n",
              "    // step of the generator.\n",
              "    outputElement.lastPromiseValue = value;\n",
              "    return next.value.response;\n",
              "  });\n",
              "}\n",
              "\n",
              "/**\n",
              " * Generator function which is called between each async step of the upload\n",
              " * process.\n",
              " * @param {string} inputId Element ID of the input file picker element.\n",
              " * @param {string} outputId Element ID of the output display.\n",
              " * @return {!Iterable<!Object>} Iterable of next steps.\n",
              " */\n",
              "function* uploadFilesStep(inputId, outputId) {\n",
              "  const inputElement = document.getElementById(inputId);\n",
              "  inputElement.disabled = false;\n",
              "\n",
              "  const outputElement = document.getElementById(outputId);\n",
              "  outputElement.innerHTML = '';\n",
              "\n",
              "  const pickedPromise = new Promise((resolve) => {\n",
              "    inputElement.addEventListener('change', (e) => {\n",
              "      resolve(e.target.files);\n",
              "    });\n",
              "  });\n",
              "\n",
              "  const cancel = document.createElement('button');\n",
              "  inputElement.parentElement.appendChild(cancel);\n",
              "  cancel.textContent = 'Cancel upload';\n",
              "  const cancelPromise = new Promise((resolve) => {\n",
              "    cancel.onclick = () => {\n",
              "      resolve(null);\n",
              "    };\n",
              "  });\n",
              "\n",
              "  // Wait for the user to pick the files.\n",
              "  const files = yield {\n",
              "    promise: Promise.race([pickedPromise, cancelPromise]),\n",
              "    response: {\n",
              "      action: 'starting',\n",
              "    }\n",
              "  };\n",
              "\n",
              "  cancel.remove();\n",
              "\n",
              "  // Disable the input element since further picks are not allowed.\n",
              "  inputElement.disabled = true;\n",
              "\n",
              "  if (!files) {\n",
              "    return {\n",
              "      response: {\n",
              "        action: 'complete',\n",
              "      }\n",
              "    };\n",
              "  }\n",
              "\n",
              "  for (const file of files) {\n",
              "    const li = document.createElement('li');\n",
              "    li.append(span(file.name, {fontWeight: 'bold'}));\n",
              "    li.append(span(\n",
              "        `(${file.type || 'n/a'}) - ${file.size} bytes, ` +\n",
              "        `last modified: ${\n",
              "            file.lastModifiedDate ? file.lastModifiedDate.toLocaleDateString() :\n",
              "                                    'n/a'} - `));\n",
              "    const percent = span('0% done');\n",
              "    li.appendChild(percent);\n",
              "\n",
              "    outputElement.appendChild(li);\n",
              "\n",
              "    const fileDataPromise = new Promise((resolve) => {\n",
              "      const reader = new FileReader();\n",
              "      reader.onload = (e) => {\n",
              "        resolve(e.target.result);\n",
              "      };\n",
              "      reader.readAsArrayBuffer(file);\n",
              "    });\n",
              "    // Wait for the data to be ready.\n",
              "    let fileData = yield {\n",
              "      promise: fileDataPromise,\n",
              "      response: {\n",
              "        action: 'continue',\n",
              "      }\n",
              "    };\n",
              "\n",
              "    // Use a chunked sending to avoid message size limits. See b/62115660.\n",
              "    let position = 0;\n",
              "    do {\n",
              "      const length = Math.min(fileData.byteLength - position, MAX_PAYLOAD_SIZE);\n",
              "      const chunk = new Uint8Array(fileData, position, length);\n",
              "      position += length;\n",
              "\n",
              "      const base64 = btoa(String.fromCharCode.apply(null, chunk));\n",
              "      yield {\n",
              "        response: {\n",
              "          action: 'append',\n",
              "          file: file.name,\n",
              "          data: base64,\n",
              "        },\n",
              "      };\n",
              "\n",
              "      let percentDone = fileData.byteLength === 0 ?\n",
              "          100 :\n",
              "          Math.round((position / fileData.byteLength) * 100);\n",
              "      percent.textContent = `${percentDone}% done`;\n",
              "\n",
              "    } while (position < fileData.byteLength);\n",
              "  }\n",
              "\n",
              "  // All done.\n",
              "  yield {\n",
              "    response: {\n",
              "      action: 'complete',\n",
              "    }\n",
              "  };\n",
              "}\n",
              "\n",
              "scope.google = scope.google || {};\n",
              "scope.google.colab = scope.google.colab || {};\n",
              "scope.google.colab._files = {\n",
              "  _uploadFiles,\n",
              "  _uploadFilesContinue,\n",
              "};\n",
              "})(self);\n",
              "</script> "
            ]
          },
          "metadata": {}
        },
        {
          "output_type": "stream",
          "name": "stdout",
          "text": [
            "Saving Уровень_бедности.xlsx to Уровень_бедности (2).xlsx\n"
          ]
        }
      ]
    },
    {
      "cell_type": "code",
      "source": [
        "#data = pd.ExcelFile(\"Уровень_бедности.xlsx\")\n",
        "data = pd.read_excel(uploaded['Уровень_бедности.xlsx'])\n",
        "ldata = np.array(data)\n",
        "print(ldata)"
      ],
      "metadata": {
        "colab": {
          "base_uri": "https://localhost:8080/"
        },
        "id": "v4VpZtPKVqNH",
        "outputId": "6fa7faae-fac0-48ba-af44-a5abec448100"
      },
      "execution_count": 61,
      "outputs": [
        {
          "output_type": "stream",
          "name": "stdout",
          "text": [
            "[['Белгородская область' 2003 22.9 ... 0.2938688364765106\n",
            "  0.04583639515602563 0.005423642716874606]\n",
            " ['Белгородская область' 2004 20.7 ... 0.3261199846749369\n",
            "  0.03923744599896952 0.006341405413974872]\n",
            " ['Белгородская область' 2005 18.1 ... 0.3633087290677414\n",
            "  0.02996701643621392 0.006879844833038074]\n",
            " ...\n",
            " ['Ульяновская область' 2017 14.9 ... 0.334267974685666\n",
            "  0.04453713702831939 0.005028386438681222]\n",
            " ['Ульяновская область' 2018 15.3 ... 0.3799880957919748\n",
            "  0.04636544635164902 0.005775626535153512]\n",
            " ['Ульяновская область' 2019 15.4 ... 0.4185992429038384\n",
            "  0.05765429387217219 0.009286055735714008]]\n"
          ]
        }
      ]
    },
    {
      "cell_type": "code",
      "source": [
        "model = LinearRegression()\n",
        "f1 = model.fit(ldata[:, 1:], ldata[:, 10])\n",
        "print(f1)\n",
        "r_sq = model.score(ldata[:, 1:], ldata[:, 10])\n",
        "print(r_sq)"
      ],
      "metadata": {
        "id": "N0FuNaHMohSB",
        "outputId": "ec0fe2e2-ea1a-42f7-e610-4cf62733f0c6",
        "colab": {
          "base_uri": "https://localhost:8080/"
        }
      },
      "execution_count": 67,
      "outputs": [
        {
          "output_type": "stream",
          "name": "stdout",
          "text": [
            "LinearRegression()\n",
            "1.0\n"
          ]
        }
      ]
    },
    {
      "cell_type": "code",
      "source": [
        "print('intercept:', model.intercept_)\n",
        "print('slope:', model.coef_)"
      ],
      "metadata": {
        "id": "bBRAyEo4vyaa",
        "outputId": "45fd1712-8cbc-450c-8296-769bbe6bc652",
        "colab": {
          "base_uri": "https://localhost:8080/"
        }
      },
      "execution_count": 72,
      "outputs": [
        {
          "output_type": "stream",
          "name": "stdout",
          "text": [
            "intercept: 2.5031567929545417e-09\n",
            "slope: [-1.23453782e-12  1.34117860e-13  9.42828482e-18  5.68049525e-16\n",
            " -3.23644651e-17 -6.51197407e-18  5.56294677e-16  1.32419669e-15\n",
            " -5.25871877e-17  1.00000000e+00 -2.56868522e-13 -1.24164659e-12\n",
            "  5.48380557e-12 -2.36531284e-13 -5.25845997e-12  1.06671189e-12\n",
            "  7.26224272e-13 -5.57835798e-12 -2.40416522e-12  3.68022473e-12\n",
            "  2.97942882e-12 -2.96645426e-12 -5.73021520e-13 -2.71636249e-12\n",
            " -3.68927368e-13  2.13309557e-12 -5.15617824e-13  1.98668106e-12\n",
            "  2.01339957e-12  1.25653537e-12  3.86086553e-13  1.47518042e-13]\n"
          ]
        }
      ]
    },
    {
      "cell_type": "code",
      "source": [
        "y_pred = model.predict(ldata[:, 1:])\n",
        "print('predicted response:', y_pred, sep='\\n')"
      ],
      "metadata": {
        "id": "1485AEw-yPJX",
        "outputId": "99c33736-28a7-4f35-c524-50ef482423ab",
        "colab": {
          "base_uri": "https://localhost:8080/"
        }
      },
      "execution_count": 70,
      "outputs": [
        {
          "output_type": "stream",
          "name": "stdout",
          "text": [
            "predicted response:\n",
            "[ 8.3  6.2  5.9  5.6  4.3  3.9  4.7  5.2  4.3  3.7  4.   4.   4.1  4.\n",
            "  3.9  4.   3.9  7.4  8.9  6.8  6.8  6.4  6.5 10.7  8.   7.1  5.1  5.2\n",
            "  5.   4.6  4.6  4.4  3.9  3.8 10.2  9.1  9.  10.8  6.7  5.7  8.7  6.1\n",
            "  5.7  4.4  3.8  4.3  5.6  5.6  4.8  4.7  4.   8.3  8.7  7.6  5.4  5.2\n",
            "  5.2  8.6  7.5  6.4  5.5  4.7  4.5  4.5  4.5  4.3  3.7  3.5  6.5  4.7\n",
            "  6.9  4.2  4.3  5.2 10.8  7.6  6.6  6.3  5.2  4.3  5.6  5.6  4.7  4.2\n",
            "  3.8  6.1  6.3  5.6  5.6  5.   4.6  6.1  6.7  5.6  4.3  4.5  4.2  4.3\n",
            "  4.2  4.   3.9  3.7  6.1  5.9  4.9  4.9  3.3  4.9  8.2  6.   5.1  4.8\n",
            "  4.9  4.3  5.3  5.5  5.3  4.5  4.1  8.5  7.5  7.2  7.2  4.9  6.3  8.8\n",
            "  8.2  6.3  5.1  4.6  3.9  4.2  4.3  4.1  4.   4.   4.5  4.3  8.2  4.9\n",
            "  2.7  5.   5.6  4.5  4.9  3.6  3.7  3.7  4.1  4.   3.9  3.8  3.7  8.\n",
            "  6.2  6.3  5.9  5.5  6.   9.8  8.9  6.3  5.3  5.8  5.1  6.2  6.4  6.5\n",
            "  4.9  5.4  8.4  5.8  5.2  4.9  3.7  5.4  9.   8.4  7.2  4.6  4.7  4.4\n",
            "  4.7  4.4  4.1  4.2  4.  10.8  9.1  7.7  8.1  6.7  7.   7.8  7.4  7.6\n",
            "  5.7  5.2  5.1  6.2  6.1  5.7  5.2  5.3  9.1  9.5  8.6  8.7  9.2  9.1\n",
            "  9.1  7.8  6.6  4.9  4.6  4.3  4.6  4.5  4.4  4.1  3.9  6.6  5.4  5.8\n",
            "  4.5  4.1  5.1  7.7  6.6  6.   5.   5.3  5.3  5.6  5.8  4.5  4.1  4.\n",
            "  5.3  4.7  5.   2.8  2.6  3.4  6.   5.8  5.3  4.6  4.2  4.1  4.1  4.1\n",
            "  3.9  3.9  3.8  5.7  4.6  3.9  2.9  3.4  5.8  7.9  7.5  5.1  3.4  4.5\n",
            "  3.8  5.3  6.7  6.6  5.5  5.4  4.9  6.1  5.8  5.5  5.3  4.9  6.1  5.6\n",
            "  4.9  4.1  4.6  3.7  4.6  4.9  4.7  4.2  3.6  8.2  5.4  6.3  7.2  4.8\n",
            "  6.5 11.   9.5  9.3  6.6  7.   6.5  6.9  6.7  6.5  5.7  5.1 11.1  9.3\n",
            "  6.7  8.6  6.3  8.2 10.3  8.   6.9  6.   6.6  6.6  7.2  6.8  6.   5.6\n",
            "  5.3 12.6  8.7  8.5  8.1  6.7  6.4  8.4  7.7  7.3  6.   6.   5.9  6.1\n",
            "  5.8  5.6  5.1  4.8  8.2  7.2  7.   6.5  6.5  5.2  9.2  8.9  7.6  6.1\n",
            "  5.8  5.3  6.1  5.8  5.6  4.9  4.4  7.8  5.9  6.6  4.6  3.5  2.7  5.2\n",
            "  5.4  5.2  4.9  4.4  4.2  4.2  4.2  4.2  4.2  4.2  6.6  7.4  6.7  5.6\n",
            "  5.6  4.9  8.4  6.2  4.7  4.1  4.   3.9  4.   3.8  3.5  3.3  3.3  6.6\n",
            "  8.   7.8  8.4  8.1  7.8  8.8  9.3  6.9  6.   5.7  5.1  5.   5.2  4.8\n",
            "  4.8  4.3  8.2  9.8 11.7  8.6  9.   8.  11.6  9.5  7.8  5.9  5.7  5.\n",
            "  5.   5.3  5.1  5.   4.7  7.3  8.6  7.2  7.9  5.8  7.2 10.9  8.6  8.3\n",
            "  7.1  5.6  5.1  5.3  5.4  5.3  5.1  4.8  6.2  7.4  6.   5.4  4.5  5.7\n",
            "  7.5  7.7  7.2  5.4  4.3  4.2  4.3  4.3  4.2  4.2  4.1 11.3 11.   9.2\n",
            "  6.4  7.1  6.9  8.8  7.2  6.3  5.4  4.9  4.4  4.8  4.9  4.6  4.4  4.4\n",
            "  9.2  6.7  6.6  6.4  5.2  7.6  8.1  6.4  5.4  4.9  4.8  4.6  4.7  4.6\n",
            "  4.5  4.4  4.3  4.4  5.3  5.4  4.2  4.1  4.2  6.1  5.8  5.1  3.4  3.2\n",
            "  3.   3.4  4.1  4.2  3.7  3.9 10.6 10.   9.2  8.2  8.   7.8  8.8  6.3\n",
            "  6.   5.4  5.2  4.6  4.7  5.1  4.8  5.   4.3  7.3  9.5  7.7  6.8  4.6\n",
            "  7.   8.9  8.8  6.8  5.6  5.5  4.8  4.9  4.6  4.4  3.7  3.8]\n"
          ]
        }
      ]
    }
  ]
}